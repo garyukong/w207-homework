{
 "cells": [
  {
   "cell_type": "markdown",
   "metadata": {
    "id": "MKsRDH5ZUdfasdv"
   },
   "source": [
    "# Lab 9"
   ]
  },
  {
   "cell_type": "markdown",
   "metadata": {},
   "source": [
    "### <span style=\"color:chocolate\"> Submission requirements </span>\n",
    "\n",
    "Additional points may be deducted if these requirements are not met:\n",
    "    \n",
    "* Comment your code\n",
    "* Each graph should have a title, labels for each axis, and (if needed) a legend. Each graph should be understandable on its own\n",
    "* Be sure your submitted notebook includes the output of your run (Hint: go to Kernel -> Restart Kernel and Run All Cells...)\n",
    "* Try and minimize the use of the global namespace (meaning, keep things inside functions)\n",
    "* Upload your .ipynb file to Gradescope when done\n",
    "---"
   ]
  },
  {
   "cell_type": "markdown",
   "metadata": {
    "id": "43534tdfgs-v"
   },
   "source": [
    "In this lab, we'll train models for sentiment classification and experiment with learned embeddings for text features."
   ]
  },
  {
   "cell_type": "code",
   "execution_count": 35,
   "metadata": {
    "id": "7X58hOMTUH-w"
   },
   "outputs": [],
   "source": [
    "# Import the libraries we'll use below.\n",
    "import numpy as np\n",
    "from matplotlib import pyplot as plt\n",
    "import pandas as pd\n",
    "import seaborn as sns  # for nicer plots\n",
    "sns.set(style=\"darkgrid\")  # default style\n",
    "import plotly.graph_objs as plotly  # for interactive plots\n",
    "from sklearn.metrics import accuracy_score, confusion_matrix\n",
    "\n",
    "import tensorflow as tf\n",
    "from tensorflow.keras.datasets import imdb"
   ]
  },
  {
   "cell_type": "markdown",
   "metadata": {
    "id": "eqppUDpmdptk"
   },
   "source": [
    "## Data for Sentiment Classification\n",
    "\n",
    "In this lab, we'll train a *sentiment* classifier for movie reviews. That is, the input is the text of a movie review and the output is the probability the input was a positive review. The target labels are binary, 0 for negative and 1 for positive.\n",
    "\n",
    "Our data includes 50,000 movie reviews on IMDB. The data comes pre-segmented into train and test splits. The [data loading function](https://www.tensorflow.org/api_docs/python/tf/keras/datasets/imdb/load_data) below also splits each input text into tokens (words) and maps the words to integer values. Each input is a sequence of integers corresponding to the words."
   ]
  },
  {
   "cell_type": "code",
   "execution_count": 2,
   "metadata": {
    "colab": {
     "base_uri": "https://localhost:8080/"
    },
    "executionInfo": {
     "elapsed": 5870,
     "status": "ok",
     "timestamp": 1646684495083,
     "user": {
      "displayName": "Daniel Gillick",
      "photoUrl": "https://lh3.googleusercontent.com/a-/AOh14Gg9DrSMlwYnG9EolecuJqe8n9m7fpcje4_UbYrhQ10=s64",
      "userId": "01872965353911650729"
     },
     "user_tz": 600
    },
    "id": "s6M-asvhQWV_",
    "outputId": "1aca520b-e1b6-4006-ac44-78ff33ac6da9"
   },
   "outputs": [
    {
     "name": "stdout",
     "output_type": "stream",
     "text": [
      "X_train.shape: (25000,)\n",
      "Y_train.shape: (25000,)\n",
      "X_test.shape: (25000,)\n",
      "Y_test.shape: (25000,)\n",
      "First training example data: [1, 14, 22, 16, 43, 530, 973, 1622, 1385, 65, 458, 4468, 66, 3941, 4, 173, 36, 256, 5, 25, 100, 43, 838, 112, 50, 670, 22665, 9, 35, 480, 284, 5, 150, 4, 172, 112, 167, 21631, 336, 385, 39, 4, 172, 4536, 1111, 17, 546, 38, 13, 447, 4, 192, 50, 16, 6, 147, 2025, 19, 14, 22, 4, 1920, 4613, 469, 4, 22, 71, 87, 12, 16, 43, 530, 38, 76, 15, 13, 1247, 4, 22, 17, 515, 17, 12, 16, 626, 18, 19193, 5, 62, 386, 12, 8, 316, 8, 106, 5, 4, 2223, 5244, 16, 480, 66, 3785, 33, 4, 130, 12, 16, 38, 619, 5, 25, 124, 51, 36, 135, 48, 25, 1415, 33, 6, 22, 12, 215, 28, 77, 52, 5, 14, 407, 16, 82, 10311, 8, 4, 107, 117, 5952, 15, 256, 4, 31050, 7, 3766, 5, 723, 36, 71, 43, 530, 476, 26, 400, 317, 46, 7, 4, 12118, 1029, 13, 104, 88, 4, 381, 15, 297, 98, 32, 2071, 56, 26, 141, 6, 194, 7486, 18, 4, 226, 22, 21, 134, 476, 26, 480, 5, 144, 30, 5535, 18, 51, 36, 28, 224, 92, 25, 104, 4, 226, 65, 16, 38, 1334, 88, 12, 16, 283, 5, 16, 4472, 113, 103, 32, 15, 16, 5345, 19, 178, 32]\n",
      "First training example label: 1\n"
     ]
    }
   ],
   "source": [
    "(X_train, Y_train), (X_test, Y_test) = imdb.load_data(path=\"imdb.npz\",\n",
    "                                                      num_words=None,\n",
    "                                                      skip_top=0,\n",
    "                                                      maxlen=None,\n",
    "                                                      seed=113,\n",
    "                                                      start_char=1,\n",
    "                                                      oov_char=2,\n",
    "                                                      index_from=3)\n",
    "\n",
    "print(\"X_train.shape:\", X_train.shape)\n",
    "print(\"Y_train.shape:\", Y_train.shape)\n",
    "print(\"X_test.shape:\", X_test.shape)\n",
    "print(\"Y_test.shape:\", Y_test.shape)\n",
    "\n",
    "print('First training example data:', X_train[0])\n",
    "print('First training example label:', Y_train[0])"
   ]
  },
  {
   "cell_type": "markdown",
   "metadata": {
    "id": "MyIWiy-4gQK-"
   },
   "source": [
    "So our first training example is a positive review. But that sequence of integer IDs is hard to read. The data loader provides a dictionary mapping words to IDs. Let's create a reverse index.\n"
   ]
  },
  {
   "cell_type": "code",
   "execution_count": 3,
   "metadata": {
    "colab": {
     "base_uri": "https://localhost:8080/"
    },
    "executionInfo": {
     "elapsed": 801,
     "status": "ok",
     "timestamp": 1646684508506,
     "user": {
      "displayName": "Daniel Gillick",
      "photoUrl": "https://lh3.googleusercontent.com/a-/AOh14Gg9DrSMlwYnG9EolecuJqe8n9m7fpcje4_UbYrhQ10=s64",
      "userId": "01872965353911650729"
     },
     "user_tz": 600
    },
    "id": "HQ-qATkhUj7c",
    "outputId": "eea86a69-fe6a-4cdb-ac8c-9307a5118e47"
   },
   "outputs": [
    {
     "name": "stdout",
     "output_type": "stream",
     "text": [
      "Largest ID: 88587\n"
     ]
    }
   ],
   "source": [
    "# The imdb dataset comes with an index mapping words to integers.\n",
    "# In the index the words are ordered by frequency they occur.\n",
    "index = imdb.get_word_index()\n",
    "\n",
    "# Because we used index_from=3 (above), setting aside ids below 3 for special\n",
    "# symbols, we need to add 3 to the index values.\n",
    "index = dict([(key, value+3) for (key, value) in index.items()])\n",
    "\n",
    "# Create a reverse index so we can lookup tokens assigned to each id.\n",
    "reverse_index = dict([(value, key) for (key, value) in index.items()])\n",
    "reverse_index[1] = '<START>'  # start of input\n",
    "reverse_index[2] = '#'        # out-of-vocabulary (OOV)\n",
    "reverse_index[3] = '<UNUSED>'\n",
    "\n",
    "max_id = max(reverse_index.keys())\n",
    "print('Largest ID:', max_id)"
   ]
  },
  {
   "cell_type": "markdown",
   "metadata": {
    "id": "h76-b07ehWNQ"
   },
   "source": [
    "Note that our index (and reverse index) have over 88,000 tokens. That's quite a large vocabulary! Let's also write a decoding function for our data."
   ]
  },
  {
   "cell_type": "code",
   "execution_count": 4,
   "metadata": {
    "colab": {
     "base_uri": "https://localhost:8080/"
    },
    "executionInfo": {
     "elapsed": 358,
     "status": "ok",
     "timestamp": 1646684531998,
     "user": {
      "displayName": "Daniel Gillick",
      "photoUrl": "https://lh3.googleusercontent.com/a-/AOh14Gg9DrSMlwYnG9EolecuJqe8n9m7fpcje4_UbYrhQ10=s64",
      "userId": "01872965353911650729"
     },
     "user_tz": 600
    },
    "id": "UjobmouHS5Dm",
    "outputId": "29975a48-7fda-4600-bd0c-693c35dd8a54"
   },
   "outputs": [
    {
     "name": "stdout",
     "output_type": "stream",
     "text": [
      "[1, 14, 22, 16, 43, 530, 973, 1622, 1385, 65, 458, 4468, 66, 3941, 4, 173, 36, 256, 5, 25, 100, 43, 838, 112, 50, 670, 22665, 9, 35, 480, 284, 5, 150, 4, 172, 112, 167, 21631, 336, 385, 39, 4, 172, 4536, 1111, 17, 546, 38, 13, 447, 4, 192, 50, 16, 6, 147, 2025, 19, 14, 22, 4, 1920, 4613, 469, 4, 22, 71, 87, 12, 16, 43, 530, 38, 76, 15, 13, 1247, 4, 22, 17, 515, 17, 12, 16, 626, 18, 19193, 5, 62, 386, 12, 8, 316, 8, 106, 5, 4, 2223, 5244, 16, 480, 66, 3785, 33, 4, 130, 12, 16, 38, 619, 5, 25, 124, 51, 36, 135, 48, 25, 1415, 33, 6, 22, 12, 215, 28, 77, 52, 5, 14, 407, 16, 82, 10311, 8, 4, 107, 117, 5952, 15, 256, 4, 31050, 7, 3766, 5, 723, 36, 71, 43, 530, 476, 26, 400, 317, 46, 7, 4, 12118, 1029, 13, 104, 88, 4, 381, 15, 297, 98, 32, 2071, 56, 26, 141, 6, 194, 7486, 18, 4, 226, 22, 21, 134, 476, 26, 480, 5, 144, 30, 5535, 18, 51, 36, 28, 224, 92, 25, 104, 4, 226, 65, 16, 38, 1334, 88, 12, 16, 283, 5, 16, 4472, 113, 103, 32, 15, 16, 5345, 19, 178, 32]\n",
      "<START> this film was just brilliant casting location scenery story direction everyone's really suited the part they played and you could just imagine being there robert redford's is an amazing actor and now the same being director norman's father came from the same scottish island as myself so i loved the fact there was a real connection with this film the witty remarks throughout the film were great it was just brilliant so much that i bought the film as soon as it was released for retail and would recommend it to everyone to watch and the fly fishing was amazing really cried at the end it was so sad and you know what they say if you cry at a film it must have been good and this definitely was also congratulations to the two little boy's that played the part's of norman and paul they were just brilliant children are often left out of the praising list i think because the stars that play them all grown up are such a big profile for the whole film but these children are amazing and should be praised for what they have done don't you think the whole story was so lovely because it was true and was someone's life after all that was shared with us all\n"
     ]
    }
   ],
   "source": [
    "def decode(token_ids):\n",
    "  \"\"\"Return a string with the decoded text given a list of token ids.\"\"\"\n",
    "  # Try looking up each id in the index, but return '#' (for OOV) if not found.\n",
    "  tokens = [reverse_index.get(i, \"#\") for i in token_ids]\n",
    "\n",
    "  # Connect the string tokens with a space.\n",
    "  return ' '.join(tokens)\n",
    "\n",
    "# Show the ids corresponding tokens in the first example.\n",
    "print(X_train[0])\n",
    "print(decode(X_train[0]))"
   ]
  },
  {
   "cell_type": "markdown",
   "metadata": {
    "id": "g47w5CackGBA"
   },
   "source": [
    "### Text Lengths\n",
    "As usual, let's start with some data analysis. How long are the reviews? Is there a difference in length between positive and negative reviews? A histogram will help answer these questions."
   ]
  },
  {
   "cell_type": "code",
   "execution_count": 5,
   "metadata": {
    "colab": {
     "base_uri": "https://localhost:8080/",
     "height": 305
    },
    "executionInfo": {
     "elapsed": 762,
     "status": "ok",
     "timestamp": 1646684547021,
     "user": {
      "displayName": "Daniel Gillick",
      "photoUrl": "https://lh3.googleusercontent.com/a-/AOh14Gg9DrSMlwYnG9EolecuJqe8n9m7fpcje4_UbYrhQ10=s64",
      "userId": "01872965353911650729"
     },
     "user_tz": 600
    },
    "id": "kEOgzo8Gk3r7",
    "outputId": "e7446ffd-10c5-4c64-a5bc-7cab81a1d73f"
   },
   "outputs": [
    {
     "data": {
      "image/png": "[encoded data removed]",
      "text/plain": [
       "<Figure size 640x480 with 1 Axes>"
      ]
     },
     "metadata": {},
     "output_type": "display_data"
    },
    {
     "name": "stdout",
     "output_type": "stream",
     "text": [
      "Longest positive review: 2494\n",
      "Longest negative review: 1571\n"
     ]
    }
   ],
   "source": [
    "# Create a list of lengths for training examples with a positive label.\n",
    "text_lengths_pos = [len(x) for (i, x) in enumerate(X_train) if Y_train[i]]\n",
    "\n",
    "# And a list of lengths for training examples with a negative label.\n",
    "text_lengths_neg = [len(x) for (i, x) in enumerate(X_train) if not Y_train[i]]\n",
    "\n",
    "# The histogram function can take a list of inputs and corresponding labels.\n",
    "plt.hist([text_lengths_pos, text_lengths_neg], bins=20, range=(0, 1000),\n",
    "         label=['positive', 'negative'])\n",
    "plt.legend()\n",
    "plt.show()\n",
    "\n",
    "# Also check the longest reviews.\n",
    "print('Longest positive review:', max(text_lengths_pos))\n",
    "print('Longest negative review:', max(text_lengths_neg))"
   ]
  },
  {
   "cell_type": "markdown",
   "metadata": {
    "id": "c3ZE9gpkml3a"
   },
   "source": [
    "---\n",
    "### Exercise 1: Token Counts (20 points)\n",
    "For each of the given tokens, construct a table with the number of positive training examples that include that token and the number of negative training examples that include that token. For reference, here are the counts for the first two tokens:\n",
    "\n",
    "|Token|Pos Count|Neg Count|\n",
    "|-|-|-|\n",
    "|good|4767|4849|\n",
    "|bad|1491|4396|"
   ]
  },
  {
   "cell_type": "code",
   "execution_count": 6,
   "metadata": {
    "id": "8YOYo6d01aWI"
   },
   "outputs": [],
   "source": [
    "tokens = ['good', 'bad', 'amazing', 'boring', 'laugh', 'cry']\n",
    "\n",
    "# Create a dictionary mapping each token to its id.\n",
    "token_ids = dict([(token, index[token]) for token in tokens])"
   ]
  },
  {
   "cell_type": "code",
   "execution_count": 7,
   "metadata": {},
   "outputs": [
    {
     "data": {
      "text/html": [
       "<div>\n",
       "<style scoped>\n",
       "    .dataframe tbody tr th:only-of-type {\n",
       "        vertical-align: middle;\n",
       "    }\n",
       "\n",
       "    .dataframe tbody tr th {\n",
       "        vertical-align: top;\n",
       "    }\n",
       "\n",
       "    .dataframe thead tr th {\n",
       "        text-align: left;\n",
       "    }\n",
       "</style>\n",
       "<table border=\"1\" class=\"dataframe\">\n",
       "  <thead>\n",
       "    <tr>\n",
       "      <th></th>\n",
       "      <th>Pos count</th>\n",
       "      <th>Neg count</th>\n",
       "    </tr>\n",
       "  </thead>\n",
       "  <tbody>\n",
       "    <tr>\n",
       "      <th>good</th>\n",
       "      <td>4767</td>\n",
       "      <td>4849</td>\n",
       "    </tr>\n",
       "    <tr>\n",
       "      <th>bad</th>\n",
       "      <td>1491</td>\n",
       "      <td>4396</td>\n",
       "    </tr>\n",
       "    <tr>\n",
       "      <th>amazing</th>\n",
       "      <td>868</td>\n",
       "      <td>240</td>\n",
       "    </tr>\n",
       "    <tr>\n",
       "      <th>boring</th>\n",
       "      <td>301</td>\n",
       "      <td>1205</td>\n",
       "    </tr>\n",
       "    <tr>\n",
       "      <th>laugh</th>\n",
       "      <td>525</td>\n",
       "      <td>685</td>\n",
       "    </tr>\n",
       "    <tr>\n",
       "      <th>cry</th>\n",
       "      <td>231</td>\n",
       "      <td>114</td>\n",
       "    </tr>\n",
       "  </tbody>\n",
       "</table>\n",
       "</div>"
      ],
      "text/plain": [
       "        Pos count Neg count\n",
       "good         4767      4849\n",
       "bad          1491      4396\n",
       "amazing       868       240\n",
       "boring        301      1205\n",
       "laugh         525       685\n",
       "cry           231       114"
      ]
     },
     "execution_count": 7,
     "metadata": {},
     "output_type": "execute_result"
    }
   ],
   "source": [
    "def check_tokens_in_review(X_train, Y_train, tokens, token_ids):\n",
    "    \"\"\"\n",
    "    Returns a dataframe with a column for each token and a row for each review.\n",
    "    The columns for each token is a 1 if the token is present in the review and 0 otherwise.\n",
    "\n",
    "    Params:\n",
    "        X_train: A list of reviews.\n",
    "        Y_train: A list of labels for each review.\n",
    "        token_ids: A dictionary mapping each token (string format) to its id.\n",
    "\n",
    "    Returns:\n",
    "        A dataframe with a column for each token and a row for each review.\n",
    "    \"\"\"\n",
    "    # Create a new dataframe that contains X_train and Y_train\n",
    "    df = pd.DataFrame(X_train, columns=['review']) ## Convert X_train to a dataframe\n",
    "    df['label'] = Y_train ## Join Y_train to the dataframe\n",
    "\n",
    "    # Create columns for each token and set the value to 1 if the token is present in the review.\n",
    "    for token in tokens:\n",
    "        df[token] = df['review'].apply(lambda x: 1 if token_ids[token] in x else 0)\n",
    "\n",
    "    # Delete the review column\n",
    "    del df['review']\n",
    "\n",
    "    # Remap the labels to strings\n",
    "    df['label'] = df['label'].map({0: 'Negative', 1: 'Positive'})\n",
    "\n",
    "    return df\n",
    "\n",
    "def count_tokens(df):\n",
    "    \"\"\"\n",
    "    Counts the number of reviews that contain each token for each label (positive and negative)\n",
    "    \n",
    "    Params:\n",
    "        df: A dataframe with a column for each token and a row for each review.\n",
    "\n",
    "    Returns:\n",
    "        A dataframe with a column for positive counts, a column for negative counts, and a row for each token\n",
    "    \"\"\"\n",
    "    # Create an empty dataframe to store the results\n",
    "    df_token_counts = pd.DataFrame()\n",
    "\n",
    "    # Loop through tokens\n",
    "    for token in tokens:\n",
    "        # Add a column with the token name and the number of reviews that contain the token\n",
    "        df_token_counts[token] = df[df[token] == 1]['label'].value_counts()\n",
    "\n",
    "    # Pivot the dataframe so that the index is the label and the columns are the tokens\n",
    "    df_token_counts = df_token_counts.transpose()\n",
    "\n",
    "    # Reorder the columns\n",
    "    df_token_counts = df_token_counts[['Positive', 'Negative']]\n",
    "\n",
    "    # Rename the columns\n",
    "    df_token_counts.columns = [['Pos count', 'Neg count']]\n",
    "\n",
    "    return df_token_counts\n",
    "\n",
    "df_token_counts = count_tokens(check_tokens_in_review(X_train, Y_train, tokens, token_ids))\n",
    "df_token_counts"
   ]
  },
  {
   "cell_type": "markdown",
   "metadata": {},
   "source": [
    "---"
   ]
  },
  {
   "cell_type": "markdown",
   "metadata": {
    "id": "hhzt-LnQ1m8w"
   },
   "source": [
    "## Feature Representation\n",
    "Consider the difference between the pixel features we used for image classification and the text features we are now dealing with.\n",
    "\n",
    "An image had 784 pixel positions. At each position, there is a single value in [0,1] (after normalization).\n",
    "\n",
    "In contrast, a review has a variable number of ordered tokens (up to 2494 in the training examples). Each token occurs in a particular position. We can think of the token positions much like the 784 pixel positions, except that some of the trailing positions are empty, since review lengths vary.  At each token position, there is a single token, one of the 88587 entries in the vocabulary. So we can think of a review as a (2500, 90000) matrix: At each of ~2500 token positions, we have 1 of ~90000 token ids.\n",
    "\n",
    "This representation would have 2500 * 90000 = 225 million features -- quite a lot more complexity than the images, though as you'll see below, we will make some simplifying assumptions, reducing both the number of token positions and the number of vocabulary items."
   ]
  },
  {
   "cell_type": "markdown",
   "metadata": {
    "id": "Jm_F5JmWyfko"
   },
   "source": [
    "### Padding and Reduced Length\n",
    "As is clear from the length histogram, the current representation of the review text is a variable-length array. Since fixed-length arrays are easier to work with in Tensorflow, let's add special padding tokens at the end of each review until they are all the same length.\n",
    "\n",
    "We'll also use this operation to limit the number of token positions by truncating all reviews to a specified length. In the code below, as an example, we pad all training inputs to length 300."
   ]
  },
  {
   "cell_type": "code",
   "execution_count": 8,
   "metadata": {
    "colab": {
     "base_uri": "https://localhost:8080/"
    },
    "executionInfo": {
     "elapsed": 766,
     "status": "ok",
     "timestamp": 1646684609342,
     "user": {
      "displayName": "Daniel Gillick",
      "photoUrl": "https://lh3.googleusercontent.com/a-/AOh14Gg9DrSMlwYnG9EolecuJqe8n9m7fpcje4_UbYrhQ10=s64",
      "userId": "01872965353911650729"
     },
     "user_tz": 600
    },
    "id": "a4ou8bSUCWOx",
    "outputId": "be4bc9e1-47aa-4f82-e23b-569f8d6128a4"
   },
   "outputs": [
    {
     "name": "stdout",
     "output_type": "stream",
     "text": [
      "Length of X_train[0]: 218\n",
      "Length of X_train_padded[0]: 300\n",
      "[    1    14    22    16    43   530   973  1622  1385    65   458  4468\n",
      "    66  3941     4   173    36   256     5    25   100    43   838   112\n",
      "    50   670 22665     9    35   480   284     5   150     4   172   112\n",
      "   167 21631   336   385    39     4   172  4536  1111    17   546    38\n",
      "    13   447     4   192    50    16     6   147  2025    19    14    22\n",
      "     4  1920  4613   469     4    22    71    87    12    16    43   530\n",
      "    38    76    15    13  1247     4    22    17   515    17    12    16\n",
      "   626    18 19193     5    62   386    12     8   316     8   106     5\n",
      "     4  2223  5244    16   480    66  3785    33     4   130    12    16\n",
      "    38   619     5    25   124    51    36   135    48    25  1415    33\n",
      "     6    22    12   215    28    77    52     5    14   407    16    82\n",
      " 10311     8     4   107   117  5952    15   256     4 31050     7  3766\n",
      "     5   723    36    71    43   530   476    26   400   317    46     7\n",
      "     4 12118  1029    13   104    88     4   381    15   297    98    32\n",
      "  2071    56    26   141     6   194  7486    18     4   226    22    21\n",
      "   134   476    26   480     5   144    30  5535    18    51    36    28\n",
      "   224    92    25   104     4   226    65    16    38  1334    88    12\n",
      "    16   283     5    16  4472   113   103    32    15    16  5345    19\n",
      "   178    32     0     0     0     0     0     0     0     0     0     0\n",
      "     0     0     0     0     0     0     0     0     0     0     0     0\n",
      "     0     0     0     0     0     0     0     0     0     0     0     0\n",
      "     0     0     0     0     0     0     0     0     0     0     0     0\n",
      "     0     0     0     0     0     0     0     0     0     0     0     0\n",
      "     0     0     0     0     0     0     0     0     0     0     0     0\n",
      "     0     0     0     0     0     0     0     0     0     0     0     0]\n"
     ]
    }
   ],
   "source": [
    "def pad_data(sequences, max_length):\n",
    "  # Keras has a convenient utility for padding a sequence.\n",
    "  # Also make sure we get a numpy array rather than an array of lists.\n",
    "  return np.array(list(\n",
    "      tf.keras.preprocessing.sequence.pad_sequences(\n",
    "          sequences, maxlen=max_length, padding='post', value=0)))\n",
    "\n",
    "# Pad and truncate to 300 tokens.\n",
    "X_train_padded = pad_data(X_train, max_length=300)\n",
    "\n",
    "# Check the padded output.\n",
    "print('Length of X_train[0]:', len(X_train[0]))\n",
    "print('Length of X_train_padded[0]:', len(X_train_padded[0]))\n",
    "print(X_train_padded[0])"
   ]
  },
  {
   "cell_type": "markdown",
   "metadata": {
    "id": "lFEmcwBjL4e_"
   },
   "source": [
    "### Reduced Vocabulary\n",
    "We also want to be able to limit the vocabulary size. Since our padding function produces fixed-length sequences in a numpy matrix, we can use clever numpy indexing to efficiently replace all token ids larger than some value with the designated out-of-vocabulary (OOV) id.\n",
    "\n",
    "In the code below, as an example, we'll keep just token ids less than 1000, replacing all others with OOV."
   ]
  },
  {
   "cell_type": "code",
   "execution_count": 9,
   "metadata": {
    "colab": {
     "base_uri": "https://localhost:8080/"
    },
    "executionInfo": {
     "elapsed": 347,
     "status": "ok",
     "timestamp": 1646684634116,
     "user": {
      "displayName": "Daniel Gillick",
      "photoUrl": "https://lh3.googleusercontent.com/a-/AOh14Gg9DrSMlwYnG9EolecuJqe8n9m7fpcje4_UbYrhQ10=s64",
      "userId": "01872965353911650729"
     },
     "user_tz": 600
    },
    "id": "21qpyEgGNQeB",
    "outputId": "148ce890-4376-4c5a-f96a-9fb50cbe9538"
   },
   "outputs": [
    {
     "name": "stdout",
     "output_type": "stream",
     "text": [
      "[  1  14  22  16  43 530 973   2   2  65 458   2  66   2   4 173  36 256\n",
      "   5  25 100  43 838 112  50 670   2   9  35 480 284   5 150   4 172 112\n",
      " 167   2 336 385  39   4 172   2   2  17 546  38  13 447   4 192  50  16\n",
      "   6 147   2  19  14  22   4   2   2 469   4  22  71  87  12  16  43 530\n",
      "  38  76  15  13   2   4  22  17 515  17  12  16 626  18   2   5  62 386\n",
      "  12   8 316   8 106   5   4   2   2  16 480  66   2  33   4 130  12  16\n",
      "  38 619   5  25 124  51  36 135  48  25   2  33   6  22  12 215  28  77\n",
      "  52   5  14 407  16  82   2   8   4 107 117   2  15 256   4   2   7   2\n",
      "   5 723  36  71  43 530 476  26 400 317  46   7   4   2   2  13 104  88\n",
      "   4 381  15 297  98  32   2  56  26 141   6 194   2  18   4 226  22  21\n",
      " 134 476  26 480   5 144  30   2  18  51  36  28 224  92  25 104   4 226\n",
      "  65  16  38   2  88  12  16 283   5  16   2 113 103  32  15  16   2  19\n",
      " 178  32   0   0   0   0   0   0   0   0   0   0   0   0   0   0   0   0\n",
      "   0   0   0   0   0   0   0   0   0   0   0   0   0   0   0   0   0   0\n",
      "   0   0   0   0   0   0   0   0   0   0   0   0   0   0   0   0   0   0\n",
      "   0   0   0   0   0   0   0   0   0   0   0   0   0   0   0   0   0   0\n",
      "   0   0   0   0   0   0   0   0   0   0   0   0]\n",
      "<START> this film was just brilliant casting # # story direction # really # the part they played and you could just imagine being there robert # is an amazing actor and now the same being director # father came from the same # # as myself so i loved the fact there was a real # with this film the # # throughout the film were great it was just brilliant so much that i # the film as soon as it was released for # and would recommend it to everyone to watch and the # # was amazing really # at the end it was so sad and you know what they say if you # at a film it must have been good and this definitely was also # to the two little # that played the # of # and paul they were just brilliant children are often left out of the # # i think because the stars that play them all # up are such a big # for the whole film but these children are amazing and should be # for what they have done don't you think the whole story was so # because it was true and was # life after all that was # with us all # # # # # # # # # # # # # # # # # # # # # # # # # # # # # # # # # # # # # # # # # # # # # # # # # # # # # # # # # # # # # # # # # # # # # # # # # # # # # # # # # #\n"
     ]
    }
   ],
   "source": [
    "def limit_vocab(sequences, max_token_id, oov_id=2):\n",
    "  \"\"\"Replace token ids greater than or equal to max_token_id with the oov_id.\"\"\"\n",
    "  reduced_sequences = np.copy(sequences)\n",
    "  reduced_sequences[reduced_sequences >= max_token_id] = oov_id\n",
    "  return reduced_sequences\n",
    "\n",
    "# Reduce vocabulary to 1000 tokens.\n",
    "X_train_reduced = limit_vocab(X_train_padded, max_token_id=1000)\n",
    "print(X_train_reduced[0])\n",
    "\n",
    "# Decode to see what this looks like in tokens. Note the '#' for OOVs.\n",
    "print(decode(X_train_reduced[0]))"
   ]
  },
  {
   "cell_type": "markdown",
   "metadata": {
    "id": "d24mOPC6ybC4"
   },
   "source": [
    "### One-hot Encoding\n",
    "Our current feature representations are **sparse**. That is, we only keep track of the token ids that are present in the input. A **one-hot** encoding replaces a value like 22 (corresponding to 'film') with an array with a single 1 at position 22 and zeros everywhere else. This will be very memory-inefficient, but we'll do it anyway for clarity.\n",
    "\n",
    "As discussed above, let's dramatically reduce both the number of token positions (review length) and the number of token ids (vocabulary). We'll clip each review after 20 tokens (so 2500 -> 20) and keep only the most common 1000 tokens (so 90000 -> 1000)."
   ]
  },
  {
   "cell_type": "code",
   "execution_count": 10,
   "metadata": {
    "colab": {
     "base_uri": "https://localhost:8080/"
    },
    "executionInfo": {
     "elapsed": 1777,
     "status": "ok",
     "timestamp": 1646684668163,
     "user": {
      "displayName": "Daniel Gillick",
      "photoUrl": "https://lh3.googleusercontent.com/a-/AOh14Gg9DrSMlwYnG9EolecuJqe8n9m7fpcje4_UbYrhQ10=s64",
      "userId": "01872965353911650729"
     },
     "user_tz": 600
    },
    "id": "EXzkqVL3Jufj",
    "outputId": "69a06ea3-61e2-4d2b-ed57-69c51ee2c5f4"
   },
   "outputs": [
    {
     "name": "stdout",
     "output_type": "stream",
     "text": [
      "X_train_reduced shape: (25000, 20)\n",
      "X_train_one_hot shape: (25000, 20, 1000)\n"
     ]
    }
   ],
   "source": [
    "# Keras has a util to create one-hot encodings.\n",
    "X_train_padded = pad_data(X_train, max_length=20)\n",
    "X_train_reduced = limit_vocab(X_train_padded, max_token_id=1000)\n",
    "print('X_train_reduced shape:', X_train_reduced.shape)\n",
    "X_train_one_hot = tf.keras.utils.to_categorical(X_train_reduced)\n",
    "print('X_train_one_hot shape:', X_train_one_hot.shape)"
   ]
  },
  {
   "cell_type": "markdown",
   "metadata": {
    "id": "B5RvIN4w66Ej"
   },
   "source": [
    "Note the shape of the one-hot encoded features. For each of our 25000 training examples, we have a 20 x 1000 matrix. That is, for each of 20 token positions, we have a vector of 1000 elements containing a single 1 and 999 zeros.\n",
    "\n",
    "We can think of these 1000-dimensional one-hot arrays as **embeddings**. Each token in the input has a 1000-dimensional representation. But because of the one-hot setup, the distance between each pair of tokens is the same ([1,0,0,...], [0,1,0,...], etc.). By contrast, learned embeddings result in meaningful distances between pairs of tokens. We'll get to that soon."
   ]
  },
  {
   "cell_type": "markdown",
   "metadata": {
    "id": "296Cnt647b5c"
   },
   "source": [
    "## Logistic Regression with One-Hot Encodings\n",
    "Let's start with something familiar -- logistic regression. Since our feature representation is in 2 dimensions (20 x 1000), we need to flatten it to pass it to Keras (remember we did this with the pixel data too). Let's try two strategies for flattening.\n",
    "\n",
    "1. Flatten by *concatenating* (as we did with pixels), turning (20 x 1000) data into (20000,) data. The result is a separate feature for each token at each position.\n",
    "2. Flatten by *averaging* over token positions, turning (20 x 1000) data into (1000,) data. The result is an array with average token counts, ignoring position.\n",
    "\n",
    "NOTE: Our prior assignments have used the standard Stochastic Gradient Descent (SGD) optimizer to compute the gradient from an estimate of the loss (based on the current mini-batch). There are many alternative optimizers. Here we'll use the **Adam** optimizer, which sometimes gives better results. One key characteristic of Adam is that it effectively uses a different learning rate for each parameter rather than a fixed learning rate as in SGD."
   ]
  },
  {
   "cell_type": "code",
   "execution_count": 11,
   "metadata": {
    "id": "6m6eebM-0dUW"
   },
   "outputs": [],
   "source": [
    "def build_onehot_model(average_over_positions=False):\n",
    "  \"\"\"Build a tf.keras model for one-hot data.\"\"\"\n",
    "  # Clear session and remove randomness.\n",
    "  tf.keras.backend.clear_session()\n",
    "  tf.random.set_seed(0)\n",
    "\n",
    "  model = tf.keras.Sequential()\n",
    "  if average_over_positions:\n",
    "    # This layer averages over the first dimension of the input by default.\n",
    "    model.add(tf.keras.layers.GlobalAveragePooling1D())\n",
    "  else:\n",
    "    # Concatenate.\n",
    "    model.add(tf.keras.layers.Flatten())\n",
    "  model.add(tf.keras.layers.Dense(\n",
    "      units=1,                     # output dim (for binary classification)\n",
    "      activation=\"sigmoid\"         # sigmoid activation for classification\n",
    "  ))\n",
    "\n",
    "  model.compile(loss='binary_crossentropy',   # this is a classification task\n",
    "                optimizer='adam',             # fancy optimizer\n",
    "                metrics=['accuracy'])\n",
    "\n",
    "  return model"
   ]
  },
  {
   "cell_type": "markdown",
   "metadata": {
    "id": "NY3W_1-OSZ2X"
   },
   "source": [
    "Now let's try fitting the model to our training data and check performance metrics on the validation (held-out) data. But first, here's a function for plotting the learning curves given the training history object we get from Keras."
   ]
  },
  {
   "cell_type": "code",
   "execution_count": 12,
   "metadata": {
    "id": "cOVmajSuMjN6"
   },
   "outputs": [],
   "source": [
    "def plot_history(history):\n",
    "  plt.ylabel('Loss')\n",
    "  plt.xlabel('Epoch')\n",
    "  plt.xticks(range(0, len(history['loss'] + 1)))\n",
    "  plt.plot(history['loss'], label=\"training\", marker='o')\n",
    "  plt.plot(history['val_loss'], label=\"validation\", marker='o')\n",
    "  plt.legend()\n",
    "  plt.show()"
   ]
  },
  {
   "cell_type": "code",
   "execution_count": 13,
   "metadata": {
    "colab": {
     "base_uri": "https://localhost:8080/",
     "height": 478
    },
    "executionInfo": {
     "elapsed": 22140,
     "status": "ok",
     "timestamp": 1646684718388,
     "user": {
      "displayName": "Daniel Gillick",
      "photoUrl": "https://lh3.googleusercontent.com/a-/AOh14Gg9DrSMlwYnG9EolecuJqe8n9m7fpcje4_UbYrhQ10=s64",
      "userId": "01872965353911650729"
     },
     "user_tz": 600
    },
    "id": "MyE4PgX70_op",
    "outputId": "3de05dfa-f372-4b77-ba43-f212c2f47c1e"
   },
   "outputs": [
    {
     "name": "stdout",
     "output_type": "stream",
     "text": [
      "Epoch 1/5\n"
     ]
    },
    {
     "name": "stderr",
     "output_type": "stream",
     "text": [
      "2023-07-13 18:42:56.609950: W tensorflow/tsl/platform/profile_utils/cpu_utils.cc:128] Failed to get CPU frequency: 0 Hz\n"
     ]
    },
    {
     "name": "stdout",
     "output_type": "stream",
     "text": [
      "352/352 [==============================] - 4s 10ms/step - loss: 0.6789 - accuracy: 0.6108 - val_loss: 0.6649 - val_accuracy: 0.6584\n",
      "Epoch 2/5\n",
      "352/352 [==============================] - 3s 8ms/step - loss: 0.6336 - accuracy: 0.7454 - val_loss: 0.6444 - val_accuracy: 0.6744\n",
      "Epoch 3/5\n",
      "352/352 [==============================] - 3s 9ms/step - loss: 0.5969 - accuracy: 0.7762 - val_loss: 0.6284 - val_accuracy: 0.6788\n",
      "Epoch 4/5\n",
      "352/352 [==============================] - 3s 8ms/step - loss: 0.5668 - accuracy: 0.7978 - val_loss: 0.6173 - val_accuracy: 0.6800\n",
      "Epoch 5/5\n",
      "352/352 [==============================] - 3s 9ms/step - loss: 0.5411 - accuracy: 0.8097 - val_loss: 0.6082 - val_accuracy: 0.6844\n"
     ]
    },
    {
     "data": {
      "image/png": "[encoded data removed]",
      "text/plain": [
       "<Figure size 640x480 with 1 Axes>"
      ]
     },
     "metadata": {},
     "output_type": "display_data"
    }
   ],
   "source": [
    "model = build_onehot_model()\n",
    "\n",
    "# Fit the model.\n",
    "history = model.fit(\n",
    "  x = X_train_one_hot,  # one-hot training data\n",
    "  y = Y_train,          # corresponding binary labels\n",
    "  epochs=5,             # number of passes through the training data\n",
    "  batch_size=64,        # mini-batch size\n",
    "  validation_split=0.1, # use a fraction of the examples for validation\n",
    "  verbose=1             # display some progress output during training\n",
    "  )\n",
    "\n",
    "# Convert the return value into a DataFrame so we can see the train loss \n",
    "# and binary accuracy after every epoch.\n",
    "history = pd.DataFrame(history.history)\n",
    "plot_history(history)"
   ]
  },
  {
   "cell_type": "markdown",
   "metadata": {
    "id": "QuCh9aQPv7F_"
   },
   "source": [
    "---\n",
    "### Exercise 2: Comparing logistic regrerssion models (20 points)\n",
    "Train the one-hot model using both the concatenating and the averaging strategies and compare the results. Let's call these *LR-C* (Logistic Regression Concatenating) and *LR-A* (Logistic Regression Averaging). Then answer the following questions:\n",
    "\n",
    "1. What are the final training and validation accuracies for LR-C and LR-A?\n",
    "2. How many parameters are there in each model?\n",
    "3. Would you say that either model is overfitting? Why or why not?\n",
    "4. Briefly describe how LR-C differs from LR-A. How do you explain the relationship between their respective validation accuracy results? "
   ]
  },
  {
   "cell_type": "code",
   "execution_count": 14,
   "metadata": {},
   "outputs": [
    {
     "name": "stdout",
     "output_type": "stream",
     "text": [
      "LR-C model\n",
      "Epoch 1/5\n",
      "352/352 [==============================] - 3s 9ms/step - loss: 0.6789 - accuracy: 0.6084 - val_loss: 0.6658 - val_accuracy: 0.6524\n",
      "Epoch 2/5\n",
      "352/352 [==============================] - 3s 8ms/step - loss: 0.6336 - accuracy: 0.7432 - val_loss: 0.6454 - val_accuracy: 0.6712\n",
      "Epoch 3/5\n",
      "352/352 [==============================] - 3s 8ms/step - loss: 0.5970 - accuracy: 0.7746 - val_loss: 0.6292 - val_accuracy: 0.6780\n",
      "Epoch 4/5\n",
      "352/352 [==============================] - 3s 8ms/step - loss: 0.5669 - accuracy: 0.7941 - val_loss: 0.6181 - val_accuracy: 0.6784\n",
      "Epoch 5/5\n",
      "352/352 [==============================] - 3s 8ms/step - loss: 0.5412 - accuracy: 0.8088 - val_loss: 0.6089 - val_accuracy: 0.6808\n",
      "Model: \"sequential\"\n",
      "_________________________________________________________________\n",
      " Layer (type)                Output Shape              Param #   \n",
      "=================================================================\n",
      " flatten (Flatten)           (None, 20000)             0         \n",
      "                                                                 \n",
      " dense (Dense)               (None, 1)                 20001     \n",
      "                                                                 \n",
      "=================================================================\n",
      "Total params: 20,001\n",
      "Trainable params: 20,001\n",
      "Non-trainable params: 0\n",
      "_________________________________________________________________\n",
      "None\n"
     ]
    },
    {
     "data": {
      "image/png": "[encoded data removed]",
      "text/plain": [
       "<Figure size 640x480 with 1 Axes>"
      ]
     },
     "metadata": {},
     "output_type": "display_data"
    },
    {
     "name": "stdout",
     "output_type": "stream",
     "text": [
      "Final training accuracy: 0.8087999820709229\n",
      "Final validation accuracy: 0.6808000206947327\n",
      "\n",
      "LR-A model\n",
      "Epoch 1/5\n",
      "352/352 [==============================] - 4s 10ms/step - loss: 0.6909 - accuracy: 0.6049 - val_loss: 0.6884 - val_accuracy: 0.6480\n",
      "Epoch 2/5\n",
      "352/352 [==============================] - 3s 9ms/step - loss: 0.6857 - accuracy: 0.6768 - val_loss: 0.6838 - val_accuracy: 0.6732\n",
      "Epoch 3/5\n",
      "352/352 [==============================] - 3s 9ms/step - loss: 0.6808 - accuracy: 0.6765 - val_loss: 0.6792 - val_accuracy: 0.6888\n",
      "Epoch 4/5\n",
      "352/352 [==============================] - 3s 9ms/step - loss: 0.6761 - accuracy: 0.6998 - val_loss: 0.6749 - val_accuracy: 0.6896\n",
      "Epoch 5/5\n",
      "352/352 [==============================] - 3s 9ms/step - loss: 0.6715 - accuracy: 0.7005 - val_loss: 0.6709 - val_accuracy: 0.6912\n",
      "Model: \"sequential\"\n",
      "_________________________________________________________________\n",
      " Layer (type)                Output Shape              Param #   \n",
      "=================================================================\n",
      " global_average_pooling1d (G  (None, 1000)             0         \n",
      " lobalAveragePooling1D)                                          \n",
      "                                                                 \n",
      " dense (Dense)               (None, 1)                 1001      \n",
      "                                                                 \n",
      "=================================================================\n",
      "Total params: 1,001\n",
      "Trainable params: 1,001\n",
      "Non-trainable params: 0\n",
      "_________________________________________________________________\n",
      "None\n"
     ]
    },
    {
     "data": {
      "image/png": "[encoded data removed]",
      "text/plain": [
       "<Figure size 640x480 with 1 Axes>"
      ]
     },
     "metadata": {},
     "output_type": "display_data"
    },
    {
     "name": "stdout",
     "output_type": "stream",
     "text": [
      "Final training accuracy: 0.7004888653755188\n",
      "Final validation accuracy: 0.6912000179290771\n",
      "\n"
     ]
    }
   ],
   "source": [
    "def log_regression_experiments(average_over_positions):\n",
    "    \"\"\"Run logistic regression experiments based on whether average_over_positions is True or False.\"\"\"\n",
    "    print(\"LR-A model\") if average_over_positions else print (\"LR-C model\")\n",
    "\n",
    "    model = build_onehot_model(average_over_positions=average_over_positions)\n",
    "\n",
    "    # Fit the model.\n",
    "    history = model.fit(\n",
    "    x = X_train_one_hot,  # one-hot training data\n",
    "    y = Y_train,          # corresponding binary labels\n",
    "    epochs=5,             # number of passes through the training data\n",
    "    batch_size=64,        # mini-batch size\n",
    "    validation_split=0.1, # use a fraction of the examples for validation\n",
    "    verbose=1             # display some progress output during training\n",
    "    )\n",
    "\n",
    "    # Convert the return value into a DataFrame so we can see the train loss \n",
    "    # and binary accuracy after every epoch.\n",
    "    history = pd.DataFrame(history.history)\n",
    "    \n",
    "    # Print model summary to list the number of parameters\n",
    "    print(model.summary())   \n",
    "\n",
    "    # Plot the training and validation loss\n",
    "    plot_history(history)\n",
    "    \n",
    "    # Print the final training and validation accuracy\n",
    "    print(\"Final training accuracy:\", history['accuracy'].iloc[-1])\n",
    "    print(\"Final validation accuracy:\", history['val_accuracy'].iloc[-1])\n",
    "    print()\n",
    "\n",
    "log_regression_experiments(average_over_positions=False)\n",
    "log_regression_experiments(average_over_positions=True)\n"
   ]
  },
  {
   "cell_type": "markdown",
   "metadata": {
    "id": "CEAN5BejHc__"
   },
   "source": [
    "*Written answers:*\n",
    "\n",
    "1. The final training and validation accuracies are 0.810 and 0.681, respectively for the LR-C model. The final training and validation accuracies are 0.700 and 0.695, respectively for the LR-A model.\n",
    "2. The LR-C model has 20,001 parameters (20,000 weights for each row of the input vector + 1 bias term) while the LR-A model has 1,001 parameters (1,000 weights for each row of the input vector + 1 bias term)\n",
    "3. The LR-C model appears to be overfitting due to a larger gap between training and validation accuracies. The LR-C model has a difference of 0.129 between the training accuracy (0.810) and validation accuracy (0.681). This suggests that the LR-C model is performing much better on the training data compared to the validation data, suggesting that it maybe memorizing the training data and is not generalizing well. In contrast, the LR-A model has a much smaller gap (0.005) between training accuracy (0.700) and validation accuracy (0.695), which suggests that it is less prone to overfitting and is more generalizeable for unseen data.\n",
    "4. Since LR-C uses a concatenation strategy, the LR-C model maintains the full complexity of the original one-hot encodings, which itself includes noise and redundancy, potentially contributing to it overfitting the training data. In contrast, the LR-A model uses an averaging strategy which \"smoothes\" out the noise, and simplifies the feature representation, promoting better generalization and performance. This is why the LR-A outperforms the LR-C both in terms of absolute validation accuracy and the variance (difference between training and validation accuracy)\n"
   ]
  },
  {
   "cell_type": "markdown",
   "metadata": {},
   "source": [
    "---"
   ]
  },
  {
   "cell_type": "markdown",
   "metadata": {
    "id": "sJIBRqK7lsjG"
   },
   "source": [
    "## Logistic Regression with Embeddings\n",
    "Next, let's train model that replaces one-hot representations of each token with learned embeddings.\n",
    "\n",
    "The code below uses a Keras Embedding layer, which expects to receive a sparse (rather than one-hot) representation. That is, it expects a (padded) sequence of token ids; for each id, it looks up the corresponding embedding vector."
   ]
  },
  {
   "cell_type": "code",
   "execution_count": 15,
   "metadata": {
    "id": "ho6uOeCaBs2e"
   },
   "outputs": [],
   "source": [
    "def build_embeddings_model(average_over_positions=False,\n",
    "                           vocab_size=1000,\n",
    "                           sequence_length=20,\n",
    "                           embedding_dim=2):\n",
    "  \"\"\"Build a tf.keras model using embeddings.\"\"\"\n",
    "  # Clear session and remove randomness.\n",
    "  tf.keras.backend.clear_session()\n",
    "  tf.random.set_seed(0)\n",
    "\n",
    "  model = tf.keras.Sequential()\n",
    "  model.add(tf.keras.layers.Embedding(\n",
    "      input_dim=vocab_size,\n",
    "      output_dim=embedding_dim,\n",
    "      input_length=sequence_length)\n",
    "  )\n",
    "\n",
    "  if average_over_positions:\n",
    "    # This layer averages over the first dimension of the input by default.\n",
    "    model.add(tf.keras.layers.GlobalAveragePooling1D())\n",
    "  else:\n",
    "    # Concatenate.\n",
    "    model.add(tf.keras.layers.Flatten())\n",
    "  model.add(tf.keras.layers.Dense(\n",
    "      units=1,                     # output dim (for binary classification)\n",
    "      activation='sigmoid'         # apply the sigmoid function!\n",
    "  ))\n",
    "\n",
    "  model.compile(loss='binary_crossentropy', \n",
    "                optimizer='adam',\n",
    "                metrics=['accuracy'])\n",
    "\n",
    "  return model"
   ]
  },
  {
   "cell_type": "markdown",
   "metadata": {
    "id": "eyhoEjAiFSNB"
   },
   "source": [
    "Try training the model as before. We'll use the averaging strategy rather than the concatenating strategy for dealing with the token sequence. That is, we'll look up embedding vectors for each token. Then we'll average them to produce a single vector. Then we'll traing a logistic regression with that vector as input to predict the binary label."
   ]
  },
  {
   "cell_type": "code",
   "execution_count": 16,
   "metadata": {
    "colab": {
     "base_uri": "https://localhost:8080/",
     "height": 478
    },
    "executionInfo": {
     "elapsed": 5490,
     "status": "ok",
     "timestamp": 1646684762935,
     "user": {
      "displayName": "Daniel Gillick",
      "photoUrl": "https://lh3.googleusercontent.com/a-/AOh14Gg9DrSMlwYnG9EolecuJqe8n9m7fpcje4_UbYrhQ10=s64",
      "userId": "01872965353911650729"
     },
     "user_tz": 600
    },
    "id": "uYUE5UwkxoU8",
    "outputId": "20a4c237-8c49-4b24-9ea1-e0f325cb9908"
   },
   "outputs": [
    {
     "name": "stdout",
     "output_type": "stream",
     "text": [
      "Epoch 1/5\n",
      "352/352 [==============================] - 5s 12ms/step - loss: 0.6878 - accuracy: 0.6385 - val_loss: 0.6805 - val_accuracy: 0.6716\n",
      "Epoch 2/5\n",
      "352/352 [==============================] - 4s 13ms/step - loss: 0.6679 - accuracy: 0.6923 - val_loss: 0.6577 - val_accuracy: 0.6928\n",
      "Epoch 3/5\n",
      "352/352 [==============================] - 3s 9ms/step - loss: 0.6410 - accuracy: 0.7033 - val_loss: 0.6317 - val_accuracy: 0.7028\n",
      "Epoch 4/5\n",
      "352/352 [==============================] - 3s 9ms/step - loss: 0.6138 - accuracy: 0.7148 - val_loss: 0.6092 - val_accuracy: 0.7056\n",
      "Epoch 5/5\n",
      "352/352 [==============================] - 3s 9ms/step - loss: 0.5901 - accuracy: 0.7213 - val_loss: 0.5908 - val_accuracy: 0.7116\n"
     ]
    },
    {
     "data": {
      "image/png": "[encoded data removed]",
      "text/plain": [
       "<Figure size 640x480 with 1 Axes>"
      ]
     },
     "metadata": {},
     "output_type": "display_data"
    }
   ],
   "source": [
    "model = build_embeddings_model(average_over_positions=True,\n",
    "                               vocab_size=1000,\n",
    "                               sequence_length=20,\n",
    "                               embedding_dim=2)\n",
    "history = model.fit(\n",
    "  x = X_train_reduced,  # our sparse padded training data\n",
    "  y = Y_train,          # corresponding binary labels\n",
    "  epochs=5,             # number of passes through the training data\n",
    "  batch_size=64,        # mini-batch size\n",
    "  validation_split=0.1, # use a fraction of the examples for validation\n",
    "  verbose=1             # display some progress output during training\n",
    "  )\n",
    "\n",
    "history = pd.DataFrame(history.history)\n",
    "plot_history(history)"
   ]
  },
  {
   "cell_type": "markdown",
   "metadata": {
    "id": "V3k__61hFnag"
   },
   "source": [
    "---\n",
    "### Exercise 3: Experiments with embeddings (20 points)\n",
    "Train 6 models with embedding sizes in [2,4,8,16,32,64], keeping other settings fixed. Use the averaging strategy rather than the concatenating strategy.\n",
    "\n",
    "1. Construct a table with the training and validation accuracies of each model (after 5 training epochs).\n",
    "2. Compute the number of parameters in each model.\n",
    "3. Do learned embeddings appear to provide improved performance over the one-hot encoding? Why?"
   ]
  },
  {
   "cell_type": "code",
   "execution_count": 17,
   "metadata": {},
   "outputs": [
    {
     "data": {
      "text/html": [
       "<div>\n",
       "<style scoped>\n",
       "    .dataframe tbody tr th:only-of-type {\n",
       "        vertical-align: middle;\n",
       "    }\n",
       "\n",
       "    .dataframe tbody tr th {\n",
       "        vertical-align: top;\n",
       "    }\n",
       "\n",
       "    .dataframe thead th {\n",
       "        text-align: right;\n",
       "    }\n",
       "</style>\n",
       "<table border=\"1\" class=\"dataframe\">\n",
       "  <thead>\n",
       "    <tr style=\"text-align: right;\">\n",
       "      <th></th>\n",
       "      <th>Embedding size</th>\n",
       "      <th>Training accuracy</th>\n",
       "      <th>Validation accuracy</th>\n",
       "      <th>Number of parameters</th>\n",
       "    </tr>\n",
       "  </thead>\n",
       "  <tbody>\n",
       "    <tr>\n",
       "      <th>0</th>\n",
       "      <td>2</td>\n",
       "      <td>0.721911</td>\n",
       "      <td>0.7144</td>\n",
       "      <td>2003</td>\n",
       "    </tr>\n",
       "    <tr>\n",
       "      <th>1</th>\n",
       "      <td>4</td>\n",
       "      <td>0.732089</td>\n",
       "      <td>0.7176</td>\n",
       "      <td>4005</td>\n",
       "    </tr>\n",
       "    <tr>\n",
       "      <th>2</th>\n",
       "      <td>8</td>\n",
       "      <td>0.7404</td>\n",
       "      <td>0.7216</td>\n",
       "      <td>8009</td>\n",
       "    </tr>\n",
       "    <tr>\n",
       "      <th>3</th>\n",
       "      <td>16</td>\n",
       "      <td>0.748667</td>\n",
       "      <td>0.7276</td>\n",
       "      <td>16017</td>\n",
       "    </tr>\n",
       "    <tr>\n",
       "      <th>4</th>\n",
       "      <td>32</td>\n",
       "      <td>0.751822</td>\n",
       "      <td>0.7312</td>\n",
       "      <td>32033</td>\n",
       "    </tr>\n",
       "    <tr>\n",
       "      <th>5</th>\n",
       "      <td>64</td>\n",
       "      <td>0.7552</td>\n",
       "      <td>0.7284</td>\n",
       "      <td>64065</td>\n",
       "    </tr>\n",
       "  </tbody>\n",
       "</table>\n",
       "</div>"
      ],
      "text/plain": [
       "   Embedding size Training accuracy Validation accuracy Number of parameters\n",
       "0               2          0.721911              0.7144                 2003\n",
       "1               4          0.732089              0.7176                 4005\n",
       "2               8            0.7404              0.7216                 8009\n",
       "3              16          0.748667              0.7276                16017\n",
       "4              32          0.751822              0.7312                32033\n",
       "5              64            0.7552              0.7284                64065"
      ]
     },
     "execution_count": 17,
     "metadata": {},
     "output_type": "execute_result"
    }
   ],
   "source": [
    "def embedding_experiment(embedding_sizes):\n",
    "    \"\"\"Run an experiment to compare accuracies and number of parameters for different embedding sizes.\"\"\"\n",
    "    \n",
    "    # Create a new dataframe to represent a table with the training and validation accuracies of each model (6 different models with embedding sizes in [2,4,8,16,32,64])\n",
    "    df = pd.DataFrame(columns=['Embedding size', 'Training accuracy', 'Validation accuracy', 'Number of parameters'])\n",
    "    df['Embedding size'] = embedding_sizes\n",
    "\n",
    "    # Loop through each embedding size\n",
    "    for size in embedding_sizes:\n",
    "        model = build_embeddings_model(average_over_positions=True,\n",
    "                                vocab_size=1000,\n",
    "                                sequence_length=20,\n",
    "                                embedding_dim=size)\n",
    "        history = model.fit(\n",
    "        x = X_train_reduced,  # our sparse padded training data\n",
    "        y = Y_train,          # corresponding binary labels\n",
    "        epochs=5,             # number of passes through the training data\n",
    "        batch_size=64,        # mini-batch size\n",
    "        validation_split=0.1, # use a fraction of the examples for validation\n",
    "        verbose=0             # display no progress output during training\n",
    "        )\n",
    "\n",
    "        history = pd.DataFrame(history.history)\n",
    "        \n",
    "        # Add the training and validation accuracy to the dataframe\n",
    "        df.loc[df['Embedding size'] == size, 'Training accuracy'] = history['accuracy'].iloc[-1]\n",
    "        df.loc[df['Embedding size'] == size, 'Validation accuracy'] = history['val_accuracy'].iloc[-1]\n",
    "\n",
    "        # Get the number of parameters\n",
    "        num_params = model.count_params()\n",
    "        df.loc[df['Embedding size'] == size, 'Number of parameters'] = num_params\n",
    "\n",
    "    return df\n",
    "\n",
    "df_embedding_experiment_summary = embedding_experiment(embedding_sizes=[2,4,8,16,32,64])\n",
    "df_embedding_experiment_summary"
   ]
  },
  {
   "cell_type": "markdown",
   "metadata": {
    "id": "O7t46ZdX2ofd"
   },
   "source": [
    "*Written answers:*\n",
    "\n",
    "1. The table with the training and validation accuracies for each experiment are as shown above\n",
    "2. The number of parameters for each model is listed in the table above\n",
    "3. Learned embeddings provide improvements in performance over the one-hot encodings. This is shown in the table above, where the training and validation accuracies of the models training using embeddings outperform the equivalent LR-A model trained with one-hot encodings. This is because embeddings are derived from the contextual usage of words, capturing relationships, similarities and differencies between words. By considering how frequently words appear alongside other words in the vocabulary, embeddings encode sematic information, which allows the model to make more informed predictions. In contrast, one-hot encodings do not capture the relationships between different words as the encoding simply captures whether or not a certain word is present, without considering the context of how a word is used. This explains the gap in performance between models trained using embeddings vs. the model trained using one-hot encodings."
   ]
  },
  {
   "cell_type": "markdown",
   "metadata": {},
   "source": [
    "---"
   ]
  },
  {
   "cell_type": "markdown",
   "metadata": {
    "id": "i2dWOuxqKHA6"
   },
   "source": [
    "## Inspecting Learned Embeddings\n",
    "Let's retrieve the learned embedding parameters from the trained model and plot the token embeddings.\n",
    "\n",
    "The model layers in a Keras Sequential model are stored as a list and the embeddings are the first layer. We can use the get_weights() function to get a numpy array with the parameters."
   ]
  },
  {
   "cell_type": "code",
   "execution_count": 18,
   "metadata": {
    "colab": {
     "base_uri": "https://localhost:8080/",
     "height": 86
    },
    "executionInfo": {
     "elapsed": 355,
     "status": "ok",
     "timestamp": 1646684774106,
     "user": {
      "displayName": "Daniel Gillick",
      "photoUrl": "https://lh3.googleusercontent.com/a-/AOh14Gg9DrSMlwYnG9EolecuJqe8n9m7fpcje4_UbYrhQ10=s64",
      "userId": "01872965353911650729"
     },
     "user_tz": 600
    },
    "id": "bfsbGSwkaFjo",
    "outputId": "d9d74723-012f-464f-a9f3-8a41d8178868"
   },
   "outputs": [
    {
     "data": {
      "text/plain": [
       "[<keras.layers.core.embedding.Embedding at 0x296833d60>,\n",
       " <keras.layers.pooling.global_average_pooling1d.GlobalAveragePooling1D at 0x17647d420>,\n",
       " <keras.layers.core.dense.Dense at 0x296862080>]"
      ]
     },
     "metadata": {},
     "output_type": "display_data"
    },
    {
     "data": {
      "text/plain": [
       "(1000, 2)"
      ]
     },
     "metadata": {},
     "output_type": "display_data"
    }
   ],
   "source": [
    "# Display the model layers.\n",
    "display(model.layers)\n",
    "\n",
    "# Retrieve the embeddings layer, which itself is wrapped in a list.\n",
    "embeddings = model.layers[0].get_weights()[0]\n",
    "display(embeddings.shape)"
   ]
  },
  {
   "cell_type": "markdown",
   "metadata": {
    "id": "apPWscNwcXTE"
   },
   "source": [
    "Now we'll use a fancy plotting tool called *plotly* to show the embeddings with hovertext so you can move your mouse over the points to see the corresponding tokens."
   ]
  },
  {
   "cell_type": "code",
   "execution_count": 19,
   "metadata": {},
   "outputs": [
    {
     "data": {
      "text/plain": [
       "array([[ 0.18621813, -0.15694286],\n",
       "       [ 0.08085769, -0.11886136],\n",
       "       [-0.00499473, -0.04948486],\n",
       "       ...,\n",
       "       [-0.15708756,  0.13059443],\n",
       "       [-0.16050626,  0.10933536],\n",
       "       [-0.35018292,  0.32890257]], dtype=float32)"
      ]
     },
     "execution_count": 19,
     "metadata": {},
     "output_type": "execute_result"
    }
   ],
   "source": [
    "embeddings"
   ]
  },
  {
   "cell_type": "code",
   "execution_count": 20,
   "metadata": {
    "colab": {
     "base_uri": "https://localhost:8080/",
     "height": 542
    },
    "executionInfo": {
     "elapsed": 453,
     "status": "ok",
     "timestamp": 1646684778338,
     "user": {
      "displayName": "Daniel Gillick",
      "photoUrl": "https://lh3.googleusercontent.com/a-/AOh14Gg9DrSMlwYnG9EolecuJqe8n9m7fpcje4_UbYrhQ10=s64",
      "userId": "01872965353911650729"
     },
     "user_tz": 600
    },
    "id": "5RZMTrA0KttL",
    "outputId": "f5ec9b65-84bb-4c28-c673-cf86a87112df"
   },
   "outputs": [
    {
     "data": {
      "application/vnd.plotly.v1+json": {
       "config": {
        "plotlyServerURL": "https://plot.ly"
       },
       "data": [
        {
         "hoverinfo": "text",
         "mode": "markers",
         "text": [
          "Text: game<br>x1: -0.24<br>x2: 0.25",
          "Text: past<br>x1: -0.11<br>x2: 0.17",
          "Text: able<br>x1: -0.03<br>x2: 0.04",
          "Text: b<br>x1: 0.05<br>x2: -0.02",
          "Text: days<br>x1: -0.28<br>x2: 0.28",
          "Text: turns<br>x1: 0.05<br>x2: -0.08",
          "Text: child<br>x1: -0.14<br>x2: 0.16",
          "Text: they're<br>x1: 0.14<br>x2: -0.16",
          "Text: hand<br>x1: 0.32<br>x2: -0.29",
          "Text: flick<br>x1: 0.18<br>x2: -0.20",
          "Text: enjoyed<br>x1: -0.53<br>x2: 0.49",
          "Text: act<br>x1: 0.20<br>x2: -0.17",
          "Text: genre<br>x1: -0.33<br>x2: 0.30",
          "Text: town<br>x1: 0.02<br>x2: 0.03",
          "Text: favorite<br>x1: -0.73<br>x2: 0.67",
          "Text: soon<br>x1: -0.31<br>x2: 0.27",
          "Text: kill<br>x1: 0.32<br>x2: -0.28",
          "Text: starts<br>x1: 0.08<br>x2: -0.04",
          "Text: sometimes<br>x1: -0.27<br>x2: 0.30",
          "Text: car<br>x1: 0.28<br>x2: -0.19",
          "Text: gave<br>x1: 0.01<br>x2: 0.07",
          "Text: run<br>x1: 0.32<br>x2: -0.24",
          "Text: late<br>x1: -0.05<br>x2: 0.06",
          "Text: eyes<br>x1: -0.14<br>x2: 0.05",
          "Text: actress<br>x1: -0.11<br>x2: 0.11",
          "Text: etc<br>x1: 0.21<br>x2: -0.18",
          "Text: directed<br>x1: 0.04<br>x2: -0.10",
          "Text: horrible<br>x1: 0.81<br>x2: -0.82",
          "Text: won't<br>x1: -0.20<br>x2: 0.18",
          "Text: viewer<br>x1: 0.03<br>x2: -0.00",
          "Text: brilliant<br>x1: -0.72<br>x2: 0.69",
          "Text: parts<br>x1: -0.20<br>x2: 0.10",
          "Text: self<br>x1: 0.32<br>x2: -0.25",
          "Text: themselves<br>x1: 0.02<br>x2: -0.02",
          "Text: hour<br>x1: 0.17<br>x2: -0.19",
          "Text: expect<br>x1: 0.19<br>x2: -0.12",
          "Text: thinking<br>x1: 0.13<br>x2: -0.10",
          "Text: stories<br>x1: -0.39<br>x2: 0.31",
          "Text: stuff<br>x1: -0.11<br>x2: 0.14",
          "Text: girls<br>x1: 0.02<br>x2: -0.02",
          "Text: obviously<br>x1: 0.23<br>x2: -0.24",
          "Text: blood<br>x1: -0.04<br>x2: 0.07",
          "Text: decent<br>x1: 0.51<br>x2: -0.51",
          "Text: city<br>x1: -0.08<br>x2: 0.11",
          "Text: voice<br>x1: -0.16<br>x2: 0.13",
          "Text: highly<br>x1: -1.28<br>x2: 1.19",
          "Text: myself<br>x1: -0.08<br>x2: 0.02",
          "Text: feeling<br>x1: -0.13<br>x2: 0.15",
          "Text: fight<br>x1: 0.00<br>x2: 0.01",
          "Text: except<br>x1: 0.36<br>x2: -0.36",
          "Text: slow<br>x1: -0.00<br>x2: -0.06",
          "Text: matter<br>x1: -0.14<br>x2: 0.17",
          "Text: type<br>x1: -0.04<br>x2: 0.00",
          "Text: anyway<br>x1: 0.09<br>x2: -0.03",
          "Text: kid<br>x1: 0.22<br>x2: -0.27",
          "Text: roles<br>x1: -0.06<br>x2: 0.11",
          "Text: killed<br>x1: 0.28<br>x2: -0.23",
          "Text: heard<br>x1: -0.16<br>x2: 0.10",
          "Text: god<br>x1: 0.32<br>x2: -0.29",
          "Text: age<br>x1: -0.20<br>x2: 0.19",
          "Text: says<br>x1: 0.03<br>x2: -0.00",
          "Text: moment<br>x1: -0.07<br>x2: 0.03",
          "Text: took<br>x1: 0.15<br>x2: -0.10",
          "Text: leave<br>x1: 0.21<br>x2: -0.14",
          "Text: writer<br>x1: 0.19<br>x2: -0.22",
          "Text: strong<br>x1: -0.30<br>x2: 0.27",
          "Text: cannot<br>x1: -0.02<br>x2: -0.04",
          "Text: violence<br>x1: 0.12<br>x2: -0.12",
          "Text: police<br>x1: -0.08<br>x2: 0.09",
          "Text: hit<br>x1: -0.52<br>x2: 0.51",
          "Text: stop<br>x1: 0.24<br>x2: -0.22",
          "Text: happens<br>x1: 0.36<br>x2: -0.38",
          "Text: particularly<br>x1: 0.08<br>x2: -0.07",
          "Text: known<br>x1: -0.07<br>x2: 0.13",
          "Text: involved<br>x1: 0.19<br>x2: -0.21",
          "Text: happened<br>x1: 0.05<br>x2: -0.09",
          "Text: extremely<br>x1: 0.07<br>x2: -0.08",
          "Text: daughter<br>x1: -0.09<br>x2: 0.03",
          "Text: obvious<br>x1: 0.41<br>x2: -0.33",
          "Text: told<br>x1: -0.02<br>x2: 0.00",
          "Text: chance<br>x1: -0.70<br>x2: 0.59",
          "Text: living<br>x1: 0.05<br>x2: -0.10",
          "Text: coming<br>x1: -0.09<br>x2: 0.09",
          "Text: lack<br>x1: 0.59<br>x2: -0.53",
          "Text: alone<br>x1: -0.05<br>x2: 0.00",
          "Text: experience<br>x1: -0.37<br>x2: 0.35",
          "Text: wouldn't<br>x1: 0.74<br>x2: -0.68",
          "Text: including<br>x1: -0.34<br>x2: 0.39",
          "Text: murder<br>x1: -0.05<br>x2: 0.07",
          "Text: attempt<br>x1: 0.53<br>x2: -0.50",
          "Text: s<br>x1: 0.12<br>x2: -0.07",
          "Text: please<br>x1: 0.20<br>x2: -0.19",
          "Text: james<br>x1: -0.27<br>x2: 0.28",
          "Text: happen<br>x1: -0.11<br>x2: 0.07",
          "Text: wonder<br>x1: 0.21<br>x2: -0.13",
          "Text: crap<br>x1: 0.99<br>x2: -0.89",
          "Text: ago<br>x1: -0.20<br>x2: 0.15",
          "Text: brother<br>x1: 0.01<br>x2: -0.04",
          "Text: film's<br>x1: 0.18<br>x2: -0.18",
          "Text: gore<br>x1: 0.55<br>x2: -0.55",
          "Text: none<br>x1: 0.41<br>x2: -0.35",
          "Text: complete<br>x1: 0.31<br>x2: -0.29",
          "Text: interest<br>x1: 0.10<br>x2: -0.11",
          "Text: score<br>x1: -0.22<br>x2: 0.19",
          "Text: group<br>x1: -0.05<br>x2: 0.06",
          "Text: cut<br>x1: -0.09<br>x2: 0.03",
          "Text: simple<br>x1: -0.21<br>x2: 0.21",
          "Text: save<br>x1: 1.05<br>x2: -0.96",
          "Text: ok<br>x1: 0.29<br>x2: -0.33",
          "Text: hell<br>x1: 0.24<br>x2: -0.23",
          "Text: looked<br>x1: 0.37<br>x2: -0.41",
          "Text: career<br>x1: 0.26<br>x2: -0.26",
          "Text: number<br>x1: -0.19<br>x2: 0.21",
          "Text: song<br>x1: -0.01<br>x2: -0.03",
          "Text: possible<br>x1: 0.01<br>x2: -0.05",
          "Text: seriously<br>x1: 0.27<br>x2: -0.29",
          "Text: annoying<br>x1: 0.48<br>x2: -0.43",
          "Text: shown<br>x1: -0.06<br>x2: 0.11",
          "Text: exactly<br>x1: -0.09<br>x2: 0.09",
          "Text: sad<br>x1: 0.31<br>x2: -0.26",
          "Text: running<br>x1: 0.10<br>x2: -0.10",
          "Text: musical<br>x1: -0.22<br>x2: 0.21",
          "Text: serious<br>x1: -0.03<br>x2: -0.05",
          "Text: taken<br>x1: 0.08<br>x2: -0.05",
          "Text: yourself<br>x1: 0.52<br>x2: -0.49",
          "Text: whose<br>x1: -0.03<br>x2: 0.07",
          "Text: released<br>x1: -0.26<br>x2: 0.20",
          "Text: cinematography<br>x1: -0.08<br>x2: 0.10",
          "Text: david<br>x1: 0.09<br>x2: 0.01",
          "Text: scary<br>x1: 0.29<br>x2: -0.22",
          "Text: ends<br>x1: -0.07<br>x2: 0.12",
          "Text: english<br>x1: -0.39<br>x2: 0.38",
          "Text: hero<br>x1: -0.16<br>x2: 0.16",
          "Text: usually<br>x1: 0.02<br>x2: -0.05",
          "Text: hours<br>x1: 0.31<br>x2: -0.34",
          "Text: reality<br>x1: -0.24<br>x2: 0.25",
          "Text: opening<br>x1: -0.09<br>x2: 0.10",
          "Text: i'll<br>x1: 0.08<br>x2: -0.10",
          "Text: across<br>x1: -0.02<br>x2: 0.04",
          "Text: today<br>x1: -0.82<br>x2: 0.80",
          "Text: jokes<br>x1: 0.23<br>x2: -0.21",
          "Text: light<br>x1: -0.37<br>x2: 0.33",
          "Text: hilarious<br>x1: -0.22<br>x2: 0.20",
          "Text: somewhat<br>x1: -0.01<br>x2: 0.08",
          "Text: usual<br>x1: -0.08<br>x2: 0.02",
          "Text: started<br>x1: 0.21<br>x2: -0.21",
          "Text: cool<br>x1: -0.25<br>x2: 0.22",
          "Text: ridiculous<br>x1: 0.55<br>x2: -0.49",
          "Text: body<br>x1: 0.11<br>x2: -0.09",
          "Text: relationship<br>x1: -0.28<br>x2: 0.19",
          "Text: view<br>x1: -0.20<br>x2: 0.12",
          "Text: level<br>x1: 0.11<br>x2: -0.08",
          "Text: opinion<br>x1: 0.15<br>x2: -0.11",
          "Text: change<br>x1: -0.26<br>x2: 0.24",
          "Text: happy<br>x1: -0.42<br>x2: 0.32",
          "Text: middle<br>x1: 0.06<br>x2: -0.04",
          "Text: taking<br>x1: 0.02<br>x2: -0.03",
          "Text: wish<br>x1: -0.13<br>x2: 0.16",
          "Text: husband<br>x1: 0.08<br>x2: -0.07",
          "Text: finds<br>x1: -0.10<br>x2: 0.13",
          "Text: saying<br>x1: 0.27<br>x2: -0.27",
          "Text: order<br>x1: -0.07<br>x2: 0.07",
          "Text: talking<br>x1: -0.17<br>x2: 0.14",
          "Text: ones<br>x1: -0.06<br>x2: 0.01",
          "Text: documentary<br>x1: -0.21<br>x2: 0.19",
          "Text: shots<br>x1: 0.19<br>x2: -0.16",
          "Text: huge<br>x1: 0.34<br>x2: -0.25",
          "Text: novel<br>x1: -0.03<br>x2: 0.04",
          "Text: female<br>x1: 0.15<br>x2: -0.14",
          "Text: mostly<br>x1: 0.17<br>x2: -0.16",
          "Text: robert<br>x1: -0.09<br>x2: 0.07",
          "Text: power<br>x1: 0.14<br>x2: -0.10",
          "Text: episodes<br>x1: -0.31<br>x2: 0.30",
          "Text: room<br>x1: 0.12<br>x2: -0.04",
          "Text: important<br>x1: -0.24<br>x2: 0.18",
          "Text: rating<br>x1: 0.23<br>x2: -0.24",
          "Text: talent<br>x1: 0.29<br>x2: -0.27",
          "Text: five<br>x1: 0.21<br>x2: -0.17",
          "Text: major<br>x1: 0.18<br>x2: -0.20",
          "Text: turned<br>x1: 0.29<br>x2: -0.33",
          "Text: strange<br>x1: -0.02<br>x2: -0.04",
          "Text: word<br>x1: 0.25<br>x2: -0.22",
          "Text: modern<br>x1: -0.27<br>x2: 0.23",
          "Text: call<br>x1: 0.19<br>x2: -0.25",
          "Text: apparently<br>x1: 0.12<br>x2: -0.13",
          "Text: disappointed<br>x1: 0.04<br>x2: -0.12",
          "Text: single<br>x1: 0.13<br>x2: -0.11",
          "Text: events<br>x1: 0.02<br>x2: -0.02",
          "Text: due<br>x1: 0.09<br>x2: -0.10",
          "Text: four<br>x1: 0.06<br>x2: -0.02",
          "Text: songs<br>x1: 0.06<br>x2: -0.04",
          "Text: basically<br>x1: 0.14<br>x2: -0.16",
          "Text: attention<br>x1: -0.27<br>x2: 0.28",
          "Text: 7<br>x1: -1.26<br>x2: 1.20",
          "Text: knows<br>x1: -0.13<br>x2: 0.15",
          "Text: clearly<br>x1: 0.20<br>x2: -0.15",
          "Text: supporting<br>x1: -0.14<br>x2: 0.11",
          "Text: knew<br>x1: 0.27<br>x2: -0.24",
          "Text: british<br>x1: 0.09<br>x2: -0.08",
          "Text: television<br>x1: -0.30<br>x2: 0.26",
          "Text: comic<br>x1: -0.20<br>x2: 0.14",
          "Text: non<br>x1: 0.07<br>x2: -0.07",
          "Text: fast<br>x1: 0.23<br>x2: -0.18",
          "Text: earth<br>x1: 0.07<br>x2: -0.07",
          "Text: country<br>x1: -0.11<br>x2: 0.15",
          "Text: future<br>x1: -0.40<br>x2: 0.39",
          "Text: cheap<br>x1: 0.57<br>x2: -0.62",
          "Text: class<br>x1: 0.06<br>x2: -0.00",
          "Text: thriller<br>x1: -0.35<br>x2: 0.34",
          "Text: 8<br>x1: -1.25<br>x2: 1.22",
          "Text: silly<br>x1: 0.24<br>x2: -0.20",
          "Text: king<br>x1: 0.02<br>x2: 0.00",
          "Text: problems<br>x1: 0.12<br>x2: -0.09",
          "Text: aren't<br>x1: 0.17<br>x2: -0.18",
          "Text: easily<br>x1: -0.26<br>x2: 0.23",
          "Text: words<br>x1: -0.11<br>x2: 0.09",
          "Text: tells<br>x1: -0.22<br>x2: 0.23",
          "Text: miss<br>x1: -0.41<br>x2: 0.36",
          "Text: jack<br>x1: -0.14<br>x2: 0.09",
          "Text: local<br>x1: 0.22<br>x2: -0.21",
          "Text: sequence<br>x1: -0.17<br>x2: 0.24",
          "Text: bring<br>x1: -0.34<br>x2: 0.35",
          "Text: entertainment<br>x1: -0.17<br>x2: 0.19",
          "Text: paul<br>x1: -0.19<br>x2: 0.13",
          "Text: beyond<br>x1: 0.04<br>x2: 0.02",
          "Text: upon<br>x1: -0.04<br>x2: -0.01",
          "Text: whether<br>x1: -0.15<br>x2: 0.22",
          "Text: predictable<br>x1: 0.41<br>x2: -0.38",
          "Text: moving<br>x1: -0.56<br>x2: 0.48",
          "Text: similar<br>x1: -0.13<br>x2: 0.05",
          "Text: straight<br>x1: 0.07<br>x2: -0.05",
          "Text: romantic<br>x1: -0.41<br>x2: 0.37",
          "Text: sets<br>x1: -0.04<br>x2: 0.03",
          "Text: review<br>x1: 0.14<br>x2: -0.21",
          "Text: falls<br>x1: 0.22<br>x2: -0.23",
          "Text: oscar<br>x1: -0.47<br>x2: 0.48",
          "Text: mystery<br>x1: -0.09<br>x2: 0.06",
          "Text: enjoyable<br>x1: -0.72<br>x2: 0.68",
          "Text: needs<br>x1: 0.14<br>x2: -0.18",
          "Text: appears<br>x1: 0.19<br>x2: -0.17",
          "Text: talk<br>x1: 0.01<br>x2: 0.05",
          "Text: rock<br>x1: -0.17<br>x2: 0.25",
          "Text: george<br>x1: 0.11<br>x2: -0.03",
          "Text: giving<br>x1: -0.05<br>x2: 0.01",
          "Text: eye<br>x1: -0.00<br>x2: 0.03",
          "Text: richard<br>x1: -0.12<br>x2: 0.09",
          "Text: within<br>x1: -0.12<br>x2: 0.17",
          "Text: ten<br>x1: -0.07<br>x2: 0.01",
          "Text: animation<br>x1: -0.04<br>x2: 0.03",
          "Text: message<br>x1: -0.37<br>x2: 0.41",
          "Text: theater<br>x1: 0.24<br>x2: -0.26",
          "Text: near<br>x1: 0.08<br>x2: -0.03",
          "Text: above<br>x1: -0.06<br>x2: 0.02",
          "Text: dull<br>x1: 0.69<br>x2: -0.66",
          "Text: nearly<br>x1: -0.16<br>x2: 0.10",
          "Text: sequel<br>x1: 0.13<br>x2: -0.10",
          "Text: theme<br>x1: 0.10<br>x2: -0.10",
          "Text: points<br>x1: 0.16<br>x2: -0.10",
          "Text: '<br>x1: 0.10<br>x2: -0.18",
          "Text: stand<br>x1: -0.14<br>x2: 0.08",
          "Text: mention<br>x1: -0.07<br>x2: 0.08",
          "Text: lady<br>x1: -0.19<br>x2: 0.21",
          "Text: bunch<br>x1: -0.06<br>x2: 0.01",
          "Text: add<br>x1: -0.08<br>x2: 0.09",
          "Text: feels<br>x1: 0.06<br>x2: -0.05",
          "Text: herself<br>x1: -0.20<br>x2: 0.27",
          "Text: release<br>x1: -0.38<br>x2: 0.36",
          "Text: red<br>x1: 0.13<br>x2: -0.15",
          "Text: team<br>x1: -0.11<br>x2: 0.06",
          "Text: storyline<br>x1: 0.04<br>x2: -0.02",
          "Text: surprised<br>x1: -0.04<br>x2: 0.05",
          "Text: ways<br>x1: -0.09<br>x2: 0.09",
          "Text: using<br>x1: 0.17<br>x2: -0.20",
          "Text: named<br>x1: 0.28<br>x2: -0.33",
          "Text: haven't<br>x1: -0.40<br>x2: 0.37",
          "Text: lots<br>x1: -0.09<br>x2: 0.08",
          "Text: easy<br>x1: -0.17<br>x2: 0.10",
          "Text: fantastic<br>x1: -0.61<br>x2: 0.51",
          "Text: begins<br>x1: -0.02<br>x2: 0.06",
          "Text: actual<br>x1: 0.24<br>x2: -0.23",
          "Text: working<br>x1: 0.01<br>x2: 0.05",
          "Text: effort<br>x1: 0.50<br>x2: -0.44",
          "Text: york<br>x1: -0.01<br>x2: 0.02",
          "Text: die<br>x1: 0.29<br>x2: -0.25",
          "Text: hate<br>x1: 0.25<br>x2: -0.19",
          "Text: french<br>x1: -0.06<br>x2: -0.00",
          "Text: minute<br>x1: 0.30<br>x2: -0.22",
          "Text: tale<br>x1: -0.46<br>x2: 0.43",
          "Text: clear<br>x1: 0.20<br>x2: -0.25",
          "Text: stay<br>x1: 0.58<br>x2: -0.55",
          "Text: 9<br>x1: -1.06<br>x2: 0.96",
          "Text: elements<br>x1: -0.19<br>x2: 0.21",
          "Text: feature<br>x1: 0.09<br>x2: -0.06",
          "Text: among<br>x1: -0.15<br>x2: 0.14",
          "Text: follow<br>x1: -0.04<br>x2: 0.01",
          "Text: comments<br>x1: -0.06<br>x2: 0.02",
          "Text: re<br>x1: -0.02<br>x2: 0.03",
          "Text: viewers<br>x1: -0.08<br>x2: 0.09",
          "Text: avoid<br>x1: 1.40<br>x2: -1.23",
          "Text: sister<br>x1: 0.06<br>x2: -0.11",
          "Text: showing<br>x1: -0.09<br>x2: 0.14",
          "Text: typical<br>x1: -0.19<br>x2: 0.12",
          "Text: editing<br>x1: 0.13<br>x2: -0.07",
          "Text: what's<br>x1: 0.09<br>x2: -0.07",
          "Text: famous<br>x1: -0.20<br>x2: 0.19",
          "Text: tried<br>x1: -0.03<br>x2: 0.01",
          "Text: sorry<br>x1: 0.70<br>x2: -0.62",
          "Text: dialog<br>x1: 0.17<br>x2: -0.14",
          "Text: check<br>x1: -0.42<br>x2: 0.31",
          "Text: fall<br>x1: -0.09<br>x2: 0.02",
          "Text: period<br>x1: -0.15<br>x2: 0.14",
          "Text: season<br>x1: -0.25<br>x2: 0.25",
          "Text: form<br>x1: 0.04<br>x2: 0.01",
          "Text: certain<br>x1: -0.16<br>x2: 0.18",
          "Text: filmed<br>x1: 0.09<br>x2: -0.06",
          "Text: weak<br>x1: 0.47<br>x2: -0.49",
          "Text: soundtrack<br>x1: -0.32<br>x2: 0.33",
          "Text: means<br>x1: -0.10<br>x2: 0.04",
          "Text: buy<br>x1: -0.23<br>x2: 0.22",
          "Text: material<br>x1: 0.21<br>x2: -0.17",
          "Text: somehow<br>x1: -0.04<br>x2: 0.02",
          "Text: realistic<br>x1: -0.43<br>x2: 0.36",
          "Text: figure<br>x1: 0.10<br>x2: -0.08",
          "Text: crime<br>x1: -0.14<br>x2: 0.19",
          "Text: doubt<br>x1: -0.09<br>x2: 0.08",
          "Text: gone<br>x1: -0.13<br>x2: 0.13",
          "Text: peter<br>x1: -0.10<br>x2: 0.01",
          "Text: tom<br>x1: -0.22<br>x2: 0.26",
          "Text: kept<br>x1: 0.07<br>x2: -0.01",
          "Text: viewing<br>x1: -0.56<br>x2: 0.47",
          "Text: t<br>x1: 0.48<br>x2: -0.43",
          "Text: general<br>x1: 0.08<br>x2: -0.13",
          "Text: leads<br>x1: -0.14<br>x2: 0.11",
          "Text: greatest<br>x1: -0.57<br>x2: 0.53",
          "Text: space<br>x1: 0.12<br>x2: -0.13",
          "Text: lame<br>x1: 0.69<br>x2: -0.59",
          "Text: suspense<br>x1: -0.05<br>x2: 0.08",
          "Text: dance<br>x1: -0.33<br>x2: 0.26",
          "Text: imagine<br>x1: -0.04<br>x2: 0.09",
          "Text: brought<br>x1: -0.19<br>x2: 0.20",
          "Text: third<br>x1: -0.06<br>x2: 0.04",
          "Text: atmosphere<br>x1: -0.39<br>x2: 0.37",
          "Text: hear<br>x1: -0.14<br>x2: 0.12",
          "Text: particular<br>x1: -0.13<br>x2: 0.09",
          "Text: sequences<br>x1: -0.22<br>x2: 0.22",
          "Text: whatever<br>x1: 0.21<br>x2: -0.14",
          "Text: parents<br>x1: -0.05<br>x2: 0.03",
          "Text: move<br>x1: 0.21<br>x2: -0.11",
          "Text: lee<br>x1: 0.47<br>x2: -0.39",
          "Text: indeed<br>x1: 0.06<br>x2: -0.06",
          "Text: learn<br>x1: -0.02<br>x2: 0.11",
          "Text: rent<br>x1: 0.38<br>x2: -0.34",
          "Text: de<br>x1: -0.07<br>x2: 0.11",
          "Text: eventually<br>x1: -0.11<br>x2: 0.08",
          "Text: note<br>x1: 0.03<br>x2: -0.04",
          "Text: deal<br>x1: -0.11<br>x2: 0.06",
          "Text: average<br>x1: 0.05<br>x2: -0.08",
          "Text: reviews<br>x1: 0.14<br>x2: -0.12",
          "Text: wait<br>x1: -0.07<br>x2: 0.01",
          "Text: forget<br>x1: -0.07<br>x2: 0.09",
          "Text: japanese<br>x1: -0.27<br>x2: 0.20",
          "Text: sexual<br>x1: 0.09<br>x2: -0.16",
          "Text: poorly<br>x1: 0.65<br>x2: -0.55",
          "Text: premise<br>x1: 0.23<br>x2: -0.26",
          "Text: okay<br>x1: 0.38<br>x2: -0.39",
          "Text: zombie<br>x1: 0.15<br>x2: -0.16",
          "Text: surprise<br>x1: -0.06<br>x2: 0.09",
          "Text: believable<br>x1: -0.31<br>x2: 0.27",
          "Text: stage<br>x1: -0.06<br>x2: 0.06",
          "Text: possibly<br>x1: 0.08<br>x2: -0.04",
          "Text: sit<br>x1: 0.28<br>x2: -0.20",
          "Text: who's<br>x1: -0.10<br>x2: 0.12",
          "Text: decided<br>x1: 0.21<br>x2: -0.19",
          "Text: expected<br>x1: 0.14<br>x2: -0.09",
          "Text: you've<br>x1: -0.03<br>x2: 0.02",
          "Text: subject<br>x1: 0.12<br>x2: -0.12",
          "Text: nature<br>x1: -0.37<br>x2: 0.35",
          "Text: became<br>x1: -0.07<br>x2: 0.10",
          "Text: difficult<br>x1: -0.33<br>x2: 0.38",
          "Text: free<br>x1: 0.39<br>x2: -0.44",
          "Text: killing<br>x1: 0.27<br>x2: -0.28",
          "Text: screenplay<br>x1: -0.06<br>x2: 0.03",
          "Text: truth<br>x1: -0.02<br>x2: -0.01",
          "Text: romance<br>x1: -0.33<br>x2: 0.32",
          "Text: dr<br>x1: 0.19<br>x2: -0.10",
          "Text: nor<br>x1: 0.13<br>x2: -0.07",
          "Text: reading<br>x1: -0.10<br>x2: 0.17",
          "Text: needed<br>x1: -0.18<br>x2: 0.18",
          "Text: question<br>x1: -0.08<br>x2: 0.01",
          "Text: leaves<br>x1: -0.09<br>x2: 0.04",
          "Text: street<br>x1: -0.05<br>x2: -0.03",
          "Text: 20<br>x1: 0.07<br>x2: -0.10",
          "Text: meets<br>x1: -0.04<br>x2: 0.06",
          "Text: hot<br>x1: 0.26<br>x2: -0.20",
          "Text: unless<br>x1: 1.01<br>x2: -0.93",
          "Text: begin<br>x1: 0.19<br>x2: -0.13",
          "Text: baby<br>x1: 0.05<br>x2: -0.08",
          "Text: superb<br>x1: -0.53<br>x2: 0.50",
          "Text: credits<br>x1: 0.19<br>x2: -0.26",
          "Text: imdb<br>x1: 0.20<br>x2: -0.14",
          "Text: otherwise<br>x1: 0.41<br>x2: -0.41",
          "Text: write<br>x1: 0.51<br>x2: -0.41",
          "Text: shame<br>x1: 0.39<br>x2: -0.37",
          "Text: let's<br>x1: -0.00<br>x2: 0.00",
          "Text: situation<br>x1: -0.33<br>x2: 0.29",
          "Text: dramatic<br>x1: -0.19<br>x2: 0.23",
          "Text: memorable<br>x1: -0.15<br>x2: 0.13",
          "Text: directors<br>x1: 0.17<br>x2: -0.14",
          "Text: earlier<br>x1: -0.16<br>x2: 0.19",
          "Text: meet<br>x1: 0.21<br>x2: -0.15",
          "Text: disney<br>x1: -0.11<br>x2: 0.10",
          "Text: open<br>x1: -0.32<br>x2: 0.34",
          "Text: dog<br>x1: 0.10<br>x2: -0.12",
          "Text: badly<br>x1: 0.49<br>x2: -0.43",
          "Text: joe<br>x1: 0.21<br>x2: -0.20",
          "Text: male<br>x1: 0.21<br>x2: -0.16",
          "Text: weird<br>x1: -0.17<br>x2: 0.15",
          "Text: acted<br>x1: -0.03<br>x2: -0.00",
          "Text: forced<br>x1: 0.13<br>x2: -0.19",
          "Text: laughs<br>x1: 0.02<br>x2: -0.06",
          "Text: sci<br>x1: -0.13<br>x2: 0.10",
          "Text: emotional<br>x1: -0.17<br>x2: 0.19",
          "Text: older<br>x1: 0.03<br>x2: 0.05",
          "Text: realize<br>x1: 0.26<br>x2: -0.23",
          "Text: fi<br>x1: -0.08<br>x2: 0.11",
          "Text: dream<br>x1: -0.14<br>x2: 0.16",
          "Text: society<br>x1: -0.27<br>x2: 0.25",
          "Text: writers<br>x1: 0.25<br>x2: -0.17",
          "Text: interested<br>x1: -0.38<br>x2: 0.37",
          "Text: footage<br>x1: -0.05<br>x2: 0.03",
          "Text: forward<br>x1: -0.25<br>x2: 0.26",
          "Text: comment<br>x1: 0.15<br>x2: -0.11",
          "Text: crazy<br>x1: 0.00<br>x2: -0.03",
          "Text: deep<br>x1: -0.24<br>x2: 0.17",
          "Text: sounds<br>x1: 0.10<br>x2: -0.06",
          "Text: plus<br>x1: -0.02<br>x2: -0.02",
          "Text: beauty<br>x1: -0.36<br>x2: 0.38",
          "Text: whom<br>x1: -0.07<br>x2: 0.10",
          "Text: america<br>x1: -0.26<br>x2: 0.23",
          "Text: fantasy<br>x1: -0.29<br>x2: 0.30",
          "Text: directing<br>x1: -0.00<br>x2: 0.04",
          "Text: keeps<br>x1: -0.20<br>x2: 0.25",
          "Text: ask<br>x1: -0.04<br>x2: 0.04",
          "Text: development<br>x1: 0.14<br>x2: -0.12",
          "Text: features<br>x1: -0.12<br>x2: 0.17",
          "Text: air<br>x1: -0.23<br>x2: 0.24",
          "Text: quickly<br>x1: 0.17<br>x2: -0.10",
          "Text: mess<br>x1: 0.80<br>x2: -0.80",
          "Text: creepy<br>x1: -0.18<br>x2: 0.18",
          "Text: towards<br>x1: 0.05<br>x2: 0.03",
          "Text: perfectly<br>x1: -0.47<br>x2: 0.41",
          "Text: mark<br>x1: 0.22<br>x2: -0.22",
          "Text: worked<br>x1: 0.16<br>x2: -0.13",
          "Text: box<br>x1: 0.03<br>x2: 0.02",
          "Text: cheesy<br>x1: 0.30<br>x2: -0.21",
          "Text: unique<br>x1: -0.37<br>x2: 0.33",
          "Text: setting<br>x1: -0.01<br>x2: -0.04",
          "Text: hands<br>x1: 0.08<br>x2: -0.04",
          "Text: plenty<br>x1: -0.01<br>x2: 0.04",
          "Text: result<br>x1: 0.50<br>x2: -0.40",
          "Text: previous<br>x1: 0.16<br>x2: -0.12",
          "Text: brings<br>x1: -0.26<br>x2: 0.30",
          "Text: effect<br>x1: 0.02<br>x2: -0.03",
          "Text: e<br>x1: 0.29<br>x2: -0.21",
          "Text: total<br>x1: 0.53<br>x2: -0.51",
          "Text: personal<br>x1: -0.17<br>x2: 0.23",
          "Text: incredibly<br>x1: 0.00<br>x2: 0.06",
          "Text: rate<br>x1: -0.26<br>x2: 0.19",
          "Text: fire<br>x1: -0.12<br>x2: 0.08",
          "Text: monster<br>x1: 0.17<br>x2: -0.21",
          "Text: business<br>x1: 0.07<br>x2: -0.04",
          "Text: leading<br>x1: -0.25<br>x2: 0.17",
          "Text: apart<br>x1: 0.15<br>x2: -0.10",
          "Text: casting<br>x1: 0.14<br>x2: -0.15",
          "Text: admit<br>x1: -0.07<br>x2: 0.08",
          "Text: joke<br>x1: 0.47<br>x2: -0.48",
          "Text: powerful<br>x1: -0.54<br>x2: 0.54",
          "Text: appear<br>x1: 0.07<br>x2: -0.04",
          "Text: background<br>x1: -0.03<br>x2: 0.04",
          "Text: telling<br>x1: -0.02<br>x2: 0.06",
          "Text: girlfriend<br>x1: -0.07<br>x2: 0.07",
          "Text: meant<br>x1: 0.19<br>x2: -0.19",
          "Text: christmas<br>x1: 0.05<br>x2: -0.10",
          "Text: hardly<br>x1: 0.16<br>x2: -0.21",
          "Text: present<br>x1: -0.15<br>x2: 0.18",
          "Text: battle<br>x1: -0.04<br>x2: -0.01",
          "Text: potential<br>x1: 0.26<br>x2: -0.32",
          "Text: create<br>x1: -0.01<br>x2: 0.04",
          "Text: bill<br>x1: -0.15<br>x2: 0.11",
          "Text: break<br>x1: 0.30<br>x2: -0.32",
          "Text: pay<br>x1: 0.41<br>x2: -0.43",
          "Text: masterpiece<br>x1: -0.50<br>x2: 0.41",
          "Text: gay<br>x1: 0.27<br>x2: -0.25",
          "Text: political<br>x1: -0.03<br>x2: 0.11",
          "Text: return<br>x1: 0.05<br>x2: -0.05",
          "Text: dumb<br>x1: 0.34<br>x2: -0.31",
          "Text: fails<br>x1: 0.47<br>x2: -0.47",
          "Text: fighting<br>x1: -0.16<br>x2: 0.13",
          "Text: various<br>x1: -0.16<br>x2: 0.11",
          "Text: era<br>x1: -0.35<br>x2: 0.33"
         ],
         "textposition": "bottom left",
         "type": "scatter",
         "x": [
          -0.2358814924955368,
          -0.10583517700433731,
          -0.0273934043943882,
          0.050942741334438324,
          -0.2750394642353058,
          0.047096844762563705,
          -0.13876964151859283,
          0.13886810839176178,
          0.32461193203926086,
          0.18293896317481995,
          -0.5277153849601746,
          0.19797180593013763,
          -0.33200782537460327,
          0.01880921609699726,
          -0.7308236956596375,
          -0.3120502531528473,
          0.31668856739997864,
          0.07617366313934326,
          -0.27471277117729187,
          0.27537432312965393,
          0.008817560039460659,
          0.31875789165496826,
          -0.04698557406663895,
          -0.13534341752529144,
          -0.1107950285077095,
          0.20871567726135254,
          0.039737600833177567,
          0.8105233907699585,
          -0.2033231556415558,
          0.027933036908507347,
          -0.7182803153991699,
          -0.1955314576625824,
          0.31784364581108093,
          0.019533440470695496,
          0.17441533505916595,
          0.1931147426366806,
          0.1251249611377716,
          -0.38565027713775635,
          -0.11224207282066345,
          0.022730331867933273,
          0.22757166624069214,
          -0.044147249311208725,
          0.5050410628318787,
          -0.07641910761594772,
          -0.159081369638443,
          -1.275313138961792,
          -0.08025199919939041,
          -0.12707562744617462,
          0.0038414872251451015,
          0.36470773816108704,
          -0.0002584389294497669,
          -0.14374670386314392,
          -0.043381381779909134,
          0.08602684736251831,
          0.2200753092765808,
          -0.06452731788158417,
          0.2760867476463318,
          -0.16417454183101654,
          0.32327699661254883,
          -0.19624923169612885,
          0.03368227183818817,
          -0.06729957461357117,
          0.15019723773002625,
          0.20659460127353668,
          0.1949315220117569,
          -0.2976331412792206,
          -0.017181511968374252,
          0.11766325682401657,
          -0.08221695572137833,
          -0.5161600112915039,
          0.24056124687194824,
          0.3634345233440399,
          0.08412940800189972,
          -0.07132275402545929,
          0.19362148642539978,
          0.04606080800294876,
          0.0667785033583641,
          -0.0893191546201706,
          0.41048309206962585,
          -0.016517886891961098,
          -0.7009009718894958,
          0.045680586248636246,
          -0.09277760982513428,
          0.594078540802002,
          -0.047071732580661774,
          -0.36670199036598206,
          0.744520902633667,
          -0.33764761686325073,
          -0.04718432575464249,
          0.5317779183387756,
          0.11855999380350113,
          0.2014300674200058,
          -0.2734465003013611,
          -0.10639166831970215,
          0.20725233852863312,
          0.9863277673721313,
          -0.20008693635463715,
          0.012711748480796814,
          0.17892718315124512,
          0.5533869862556458,
          0.41310742497444153,
          0.3098249137401581,
          0.10442660748958588,
          -0.21976874768733978,
          -0.04629576578736305,
          -0.08758968114852905,
          -0.2134484350681305,
          1.0459682941436768,
          0.28562864661216736,
          0.23513923585414886,
          0.3670347332954407,
          0.26454025506973267,
          -0.188217893242836,
          -0.008316155523061752,
          0.011275366879999638,
          0.2677289545536041,
          0.47745293378829956,
          -0.062218666076660156,
          -0.09273578971624374,
          0.3080374002456665,
          0.1010768711566925,
          -0.22029884159564972,
          -0.026526903733611107,
          0.08313227444887161,
          0.5153406858444214,
          -0.03228401392698288,
          -0.2576884627342224,
          -0.07636207342147827,
          0.0926646739244461,
          0.29233822226524353,
          -0.06503292918205261,
          -0.3870415687561035,
          -0.16185200214385986,
          0.018299032002687454,
          0.3115251064300537,
          -0.23534180223941803,
          -0.08975337445735931,
          0.07945911586284637,
          -0.01617606356739998,
          -0.8229876160621643,
          0.226776123046875,
          -0.37018823623657227,
          -0.21626994013786316,
          -0.00964693259447813,
          -0.08241269737482071,
          0.21115916967391968,
          -0.2534295916557312,
          0.5481300950050354,
          0.11493723094463348,
          -0.2837662398815155,
          -0.20406073331832886,
          0.11206874996423721,
          0.14871558547019958,
          -0.26302358508110046,
          -0.4187033772468567,
          0.05836408585309982,
          0.024780569598078728,
          -0.12506110966205597,
          0.08496248722076416,
          -0.10231912136077881,
          0.2710629403591156,
          -0.07271269708871841,
          -0.17043383419513702,
          -0.059900444000959396,
          -0.2069380283355713,
          0.18744485080242157,
          0.34419137239456177,
          -0.03440921753644943,
          0.14735613763332367,
          0.16823627054691315,
          -0.09178109467029572,
          0.13607904314994812,
          -0.3053697347640991,
          0.11986375600099564,
          -0.24480919539928436,
          0.22835591435432434,
          0.2941035330295563,
          0.2125777006149292,
          0.1781148612499237,
          0.29493018984794617,
          -0.02309029921889305,
          0.2512671649456024,
          -0.2651688754558563,
          0.1937403529882431,
          0.12024027854204178,
          0.04327058419585228,
          0.13477420806884766,
          0.023880604654550552,
          0.09013102948665619,
          0.05505917966365814,
          0.06498514860868454,
          0.1357412040233612,
          -0.2675744593143463,
          -1.2550076246261597,
          -0.13341981172561646,
          0.20387960970401764,
          -0.13862083852291107,
          0.26764512062072754,
          0.09374194592237473,
          -0.30258721113204956,
          -0.1987890899181366,
          0.07310745865106583,
          0.23262564837932587,
          0.06956881284713745,
          -0.1087968647480011,
          -0.4004083275794983,
          0.5693099498748779,
          0.0641956478357315,
          -0.35231778025627136,
          -1.2500652074813843,
          0.2389540672302246,
          0.017431359738111496,
          0.12445501238107681,
          0.16609083116054535,
          -0.25747931003570557,
          -0.10971231758594513,
          -0.2164076268672943,
          -0.4090661406517029,
          -0.140772745013237,
          0.22217035293579102,
          -0.16994117200374603,
          -0.3366379141807556,
          -0.16731485724449158,
          -0.1924760937690735,
          0.035695530474185944,
          -0.041654810309410095,
          -0.14523710310459137,
          0.405178964138031,
          -0.5628479719161987,
          -0.12605485320091248,
          0.07094956189393997,
          -0.41153448820114136,
          -0.03785131126642227,
          0.14397266507148743,
          0.21951282024383545,
          -0.47097793221473694,
          -0.08946065604686737,
          -0.7180052399635315,
          0.1357031762599945,
          0.18890711665153503,
          0.008137245662510395,
          -0.16824311017990112,
          0.11373795568943024,
          -0.04609019681811333,
          -0.0011121927527710795,
          -0.12495487183332443,
          -0.12187829613685608,
          -0.06690073013305664,
          -0.03997340053319931,
          -0.3728124499320984,
          0.23595400154590607,
          0.0788600817322731,
          -0.06061885878443718,
          0.6897014379501343,
          -0.16240817308425903,
          0.13212360441684723,
          0.10221054404973984,
          0.1578921228647232,
          0.10353001952171326,
          -0.13953720033168793,
          -0.06774600595235825,
          -0.19200749695301056,
          -0.05939370021224022,
          -0.08202226459980011,
          0.055031631141901016,
          -0.2045239508152008,
          -0.37922215461730957,
          0.13192588090896606,
          -0.10635463148355484,
          0.04004622995853424,
          -0.038534555584192276,
          -0.08557415008544922,
          0.16889677941799164,
          0.28193962574005127,
          -0.3958571255207062,
          -0.09281182289123535,
          -0.16956087946891785,
          -0.6066426038742065,
          -0.021920520812273026,
          0.2429388016462326,
          0.006841262336820364,
          0.4997648000717163,
          -0.011227785609662533,
          0.29185745120048523,
          0.25154614448547363,
          -0.05654867738485336,
          0.3047744631767273,
          -0.4649406671524048,
          0.20198890566825867,
          0.5833264589309692,
          -1.0611668825149536,
          -0.19025516510009766,
          0.08590444177389145,
          -0.1464095562696457,
          -0.04447236284613609,
          -0.05924391746520996,
          -0.015210719779133797,
          -0.07562670111656189,
          1.400287389755249,
          0.05935904011130333,
          -0.09271640330553055,
          -0.19438228011131287,
          0.1310129016637802,
          0.08545877039432526,
          -0.2042849361896515,
          -0.03492983803153038,
          0.704425573348999,
          0.16807220876216888,
          -0.4209349453449249,
          -0.09472649544477463,
          -0.1491871327161789,
          -0.25222498178482056,
          0.03502733260393143,
          -0.16077928245067596,
          0.0936761274933815,
          0.4699017405509949,
          -0.32019665837287903,
          -0.10140695422887802,
          -0.23234371840953827,
          0.2107221484184265,
          -0.04442823678255081,
          -0.4276001453399658,
          0.09806545823812485,
          -0.14212119579315186,
          -0.0863150805234909,
          -0.13186781108379364,
          -0.0995788425207138,
          -0.22036397457122803,
          0.0747419223189354,
          -0.5554134845733643,
          0.477055162191391,
          0.07858438789844513,
          -0.14130899310112,
          -0.5713699460029602,
          0.1202029213309288,
          0.6909115314483643,
          -0.053112972527742386,
          -0.3289690315723419,
          -0.03586982935667038,
          -0.1908147633075714,
          -0.0587695874273777,
          -0.38917502760887146,
          -0.13871027529239655,
          -0.1296219676733017,
          -0.22271738946437836,
          0.21207955479621887,
          -0.054190028458833694,
          0.21275079250335693,
          0.467190682888031,
          0.05792560800909996,
          -0.020521603524684906,
          0.3791566491127014,
          -0.07395126670598984,
          -0.10727496445178986,
          0.032033566385507584,
          -0.11461275815963745,
          0.04944876953959465,
          0.14186102151870728,
          -0.06519947201013565,
          -0.07124549895524979,
          -0.2742995321750641,
          0.09235120564699173,
          0.6477470993995667,
          0.230800062417984,
          0.37590155005455017,
          0.14566007256507874,
          -0.06080802157521248,
          -0.3077065050601959,
          -0.06239912286400795,
          0.07679018378257751,
          0.28109830617904663,
          -0.10013789683580399,
          0.21081481873989105,
          0.13666941225528717,
          -0.028026148676872253,
          0.11877023428678513,
          -0.36666321754455566,
          -0.07178111374378204,
          -0.33475053310394287,
          0.39297255873680115,
          0.27480602264404297,
          -0.05896902084350586,
          -0.020335692912340164,
          -0.32777032256126404,
          0.19180087745189667,
          0.12765397131443024,
          -0.09989379346370697,
          -0.18490783870220184,
          -0.08226025849580765,
          -0.08539136499166489,
          -0.049210675060749054,
          0.06514844298362732,
          -0.03959917277097702,
          0.2561064064502716,
          1.0078661441802979,
          0.1924707591533661,
          0.04514371603727341,
          -0.534481942653656,
          0.18906062841415405,
          0.20151956379413605,
          0.4064519703388214,
          0.5127312541007996,
          0.39427635073661804,
          -0.0014864588156342506,
          -0.3310733735561371,
          -0.19231374561786652,
          -0.15310394763946533,
          0.1724938303232193,
          -0.15644808113574982,
          0.20959162712097168,
          -0.10978822410106659,
          -0.32051804661750793,
          0.10154470056295395,
          0.49308541417121887,
          0.21427087485790253,
          0.21198882162570953,
          -0.17106233537197113,
          -0.02886568009853363,
          0.1290319412946701,
          0.016834944486618042,
          -0.13287495076656342,
          -0.16631674766540527,
          0.02864253707230091,
          0.264443963766098,
          -0.08159154653549194,
          -0.13747890293598175,
          -0.27176952362060547,
          0.252998024225235,
          -0.3808271288871765,
          -0.04990209639072418,
          -0.24746447801589966,
          0.15146349370479584,
          0.0015726287383586168,
          -0.24425794184207916,
          0.10443785041570663,
          -0.020012304186820984,
          -0.3594048321247101,
          -0.07254788279533386,
          -0.25924327969551086,
          -0.28902313113212585,
          -0.0035398181062191725,
          -0.20085659623146057,
          -0.0441858284175396,
          0.13505782186985016,
          -0.11682009696960449,
          -0.23381119966506958,
          0.1682824194431305,
          0.799592912197113,
          -0.1805507242679596,
          0.05291527509689331,
          -0.4666154980659485,
          0.22408771514892578,
          0.15851184725761414,
          0.034883156418800354,
          0.3037051558494568,
          -0.3687482178211212,
          -0.005417823325842619,
          0.08492754399776459,
          -0.007424895651638508,
          0.49760523438453674,
          0.1576012372970581,
          -0.2646358013153076,
          0.018476754426956177,
          0.2863462567329407,
          0.5308353304862976,
          -0.1664505898952484,
          0.002077623037621379,
          -0.25543808937072754,
          -0.11664781719446182,
          0.17130325734615326,
          0.07024053484201431,
          -0.24625948071479797,
          0.14785140752792358,
          0.14314010739326477,
          -0.07132003456354141,
          0.4710734486579895,
          -0.5381655693054199,
          0.0732513815164566,
          -0.027411768212914467,
          -0.019269093871116638,
          -0.07294037193059921,
          0.18587221205234528,
          0.05202442780137062,
          0.16497132182121277,
          -0.1489713042974472,
          -0.039491258561611176,
          0.26471859216690063,
          -0.00976854283362627,
          -0.14645273983478546,
          0.30047735571861267,
          0.41468101739883423,
          -0.5007836818695068,
          0.2650907635688782,
          -0.03334079310297966,
          0.05068249627947807,
          0.3414967358112335,
          0.4697010815143585,
          -0.1570875644683838,
          -0.1605062633752823,
          -0.3501829206943512
         ],
         "y": [
          0.2533102333545685,
          0.17081193625926971,
          0.03536467254161835,
          -0.022419007495045662,
          0.2837674915790558,
          -0.08183394372463226,
          0.16299307346343994,
          -0.1624758541584015,
          -0.2914234697818756,
          -0.19969214498996735,
          0.48549577593803406,
          -0.1694568693637848,
          0.3039850890636444,
          0.031115027144551277,
          0.6698156595230103,
          0.2675696909427643,
          -0.28369393944740295,
          -0.036222051829099655,
          0.29982906579971313,
          -0.19199256598949432,
          0.065961554646492,
          -0.24062852561473846,
          0.05500321835279465,
          0.053371988236904144,
          0.10582450777292252,
          -0.18271413445472717,
          -0.0955829992890358,
          -0.8189063668251038,
          0.17519263923168182,
          -0.0011447204742580652,
          0.6937204003334045,
          0.10054169595241547,
          -0.2504654824733734,
          -0.01809525303542614,
          -0.1939966082572937,
          -0.117108054459095,
          -0.10134022682905197,
          0.30555954575538635,
          0.1415323168039322,
          -0.01970343478024006,
          -0.24028393626213074,
          0.07466050237417221,
          -0.5138100385665894,
          0.10985846072435379,
          0.1304580718278885,
          1.1906505823135376,
          0.017131635919213295,
          0.15324433147907257,
          0.012471949681639671,
          -0.3602827787399292,
          -0.06359968334436417,
          0.16847120225429535,
          0.004674531519412994,
          -0.03213473781943321,
          -0.2749641239643097,
          0.10876598209142685,
          -0.23449058830738068,
          0.09668508917093277,
          -0.2945859432220459,
          0.1943531632423401,
          -0.0012634826125577092,
          0.027422452345490456,
          -0.10375533252954483,
          -0.14322739839553833,
          -0.22195859253406525,
          0.2726227939128876,
          -0.03550565615296364,
          -0.12053421884775162,
          0.08657523989677429,
          0.5086745023727417,
          -0.21550869941711426,
          -0.3806476891040802,
          -0.07191888988018036,
          0.1269453763961792,
          -0.21399682760238647,
          -0.08549489080905914,
          -0.07611511647701263,
          0.03158195689320564,
          -0.32983461022377014,
          0.004780246876180172,
          0.5945225358009338,
          -0.10225183516740799,
          0.08827260136604309,
          -0.5290261507034302,
          0.0013653612695634365,
          0.3471323251724243,
          -0.676425576210022,
          0.3892723321914673,
          0.0691554993391037,
          -0.49545520544052124,
          -0.07473519444465637,
          -0.19496476650238037,
          0.2821026146411896,
          0.07111390680074692,
          -0.1319182813167572,
          -0.8913049101829529,
          0.14503999054431915,
          -0.04001905024051666,
          -0.1777576357126236,
          -0.5548486709594727,
          -0.34581291675567627,
          -0.28591737151145935,
          -0.11025123298168182,
          0.1941187083721161,
          0.0588858500123024,
          0.026282835751771927,
          0.20993837714195251,
          -0.9609099626541138,
          -0.3281219005584717,
          -0.23309756815433502,
          -0.41023799777030945,
          -0.25719282031059265,
          0.21337546408176422,
          -0.03335161879658699,
          -0.04760110750794411,
          -0.2904435992240906,
          -0.43258774280548096,
          0.10724055022001266,
          0.09232090413570404,
          -0.25722476840019226,
          -0.0955415740609169,
          0.20556952059268951,
          -0.05172746628522873,
          -0.04891972243785858,
          -0.48969027400016785,
          0.07063983380794525,
          0.1995536834001541,
          0.10481692850589752,
          0.005212542600929737,
          -0.2161637395620346,
          0.11695364117622375,
          0.38105159997940063,
          0.15886080265045166,
          -0.04559636116027832,
          -0.3412821590900421,
          0.2524392604827881,
          0.09690584242343903,
          -0.10102211683988571,
          0.03591535612940788,
          0.798973798751831,
          -0.21088382601737976,
          0.3346228003501892,
          0.20131748914718628,
          0.08092527091503143,
          0.01588534377515316,
          -0.20913834869861603,
          0.21794819831848145,
          -0.4853605031967163,
          -0.08920660614967346,
          0.19078673422336578,
          0.12405494600534439,
          -0.07987049967050552,
          -0.10795705020427704,
          0.24172000586986542,
          0.32439643144607544,
          -0.036169927567243576,
          -0.03317969664931297,
          0.16036204993724823,
          -0.06557494401931763,
          0.12547199428081512,
          -0.2729836106300354,
          0.07181552052497864,
          0.14161959290504456,
          0.007320673670619726,
          0.19109544157981873,
          -0.16210176050662994,
          -0.2545863389968872,
          0.04262896999716759,
          -0.13948054611682892,
          -0.16083529591560364,
          0.06804335117340088,
          -0.09762974083423615,
          0.302924245595932,
          -0.03513454645872116,
          0.18374675512313843,
          -0.24364414811134338,
          -0.2689315676689148,
          -0.17469057440757751,
          -0.2024926394224167,
          -0.3299914598464966,
          -0.044594764709472656,
          -0.2214890718460083,
          0.2330922782421112,
          -0.24539752304553986,
          -0.13260477781295776,
          -0.1228783130645752,
          -0.11091174930334091,
          -0.023804763332009315,
          -0.09799009561538696,
          -0.01773444563150406,
          -0.035178449004888535,
          -0.16414421796798706,
          0.2783050239086151,
          1.1950887441635132,
          0.15155461430549622,
          -0.14919887483119965,
          0.10680229216814041,
          -0.24296821653842926,
          -0.08226344734430313,
          0.25818246603012085,
          0.14303147792816162,
          -0.07241348922252655,
          -0.17562882602214813,
          -0.07136160880327225,
          0.15124262869358063,
          0.38850316405296326,
          -0.6155094504356384,
          -0.00010780798038467765,
          0.33964139223098755,
          1.2213326692581177,
          -0.20359498262405396,
          0.004000763408839703,
          -0.09235924482345581,
          -0.17514383792877197,
          0.22839589416980743,
          0.0940435379743576,
          0.22948028147220612,
          0.36123791337013245,
          0.0924227386713028,
          -0.2090243250131607,
          0.23766878247261047,
          0.3473091721534729,
          0.1935514211654663,
          0.12646673619747162,
          0.018192259594798088,
          -0.007490313611924648,
          0.21922071278095245,
          -0.37814444303512573,
          0.47900259494781494,
          0.047986991703510284,
          -0.053700704127550125,
          0.37001359462738037,
          0.028107743710279465,
          -0.21261273324489594,
          -0.2265755534172058,
          0.47627583146095276,
          0.06420136243104935,
          0.6800604462623596,
          -0.17819352447986603,
          -0.16599346697330475,
          0.049937084317207336,
          0.24523034691810608,
          -0.03448212146759033,
          0.011949156410992146,
          0.03319898992776871,
          0.08821048587560654,
          0.16579443216323853,
          0.009576985612511635,
          0.02617783285677433,
          0.40921860933303833,
          -0.258611798286438,
          -0.026336032897233963,
          0.022100958973169327,
          -0.6568365693092346,
          0.10391829907894135,
          -0.10201843082904816,
          -0.09747499972581863,
          -0.0971129834651947,
          -0.18073056638240814,
          0.07826664298772812,
          0.08324091881513596,
          0.21135827898979187,
          0.013726687990128994,
          0.08984287828207016,
          -0.05276169255375862,
          0.273849755525589,
          0.3572410047054291,
          -0.150078684091568,
          0.06494418531656265,
          -0.022775661200284958,
          0.04571539908647537,
          0.09086795896291733,
          -0.19723747670650482,
          -0.3268761932849884,
          0.3729724586009979,
          0.07612384855747223,
          0.09927260875701904,
          0.512192964553833,
          0.06203421577811241,
          -0.23158051073551178,
          0.05498725548386574,
          -0.44448909163475037,
          0.016910001635551453,
          -0.24890147149562836,
          -0.18789835274219513,
          -0.004067125730216503,
          -0.22350360453128815,
          0.42951154708862305,
          -0.25337374210357666,
          -0.5526570081710815,
          0.9576107263565063,
          0.20811358094215393,
          -0.05756235495209694,
          0.13587580621242523,
          0.00998321920633316,
          0.015655549243092537,
          0.030753012746572495,
          0.09308851510286331,
          -1.2328243255615234,
          -0.11427632719278336,
          0.14266978204250336,
          0.12227464467287064,
          -0.07433398813009262,
          -0.06948558986186981,
          0.1892080008983612,
          0.006542757619172335,
          -0.6242877244949341,
          -0.14431709051132202,
          0.3095455467700958,
          0.017121216282248497,
          0.14400744438171387,
          0.24581463634967804,
          0.007948782294988632,
          0.18377254903316498,
          -0.0563415065407753,
          -0.494810551404953,
          0.3266769051551819,
          0.03902973234653473,
          0.2160479724407196,
          -0.16828657686710358,
          0.021451260894536972,
          0.35786503553390503,
          -0.08229437470436096,
          0.1863696426153183,
          0.0783681720495224,
          0.12702055275440216,
          0.007551630027592182,
          0.25861597061157227,
          -0.011456172913312912,
          0.47152385115623474,
          -0.42743295431137085,
          -0.12914666533470154,
          0.1101205050945282,
          0.5287450551986694,
          -0.12631802260875702,
          -0.591450035572052,
          0.08472281694412231,
          0.2633568346500397,
          0.08971895277500153,
          0.2034209966659546,
          0.039821937680244446,
          0.36933907866477966,
          0.12443098425865173,
          0.09192502498626709,
          0.22386711835861206,
          -0.13591629266738892,
          0.031252678483724594,
          -0.11457672715187073,
          -0.3864203095436096,
          -0.05603793263435364,
          0.10647957026958466,
          -0.33561182022094727,
          0.11392296105623245,
          0.07676583528518677,
          -0.04168245941400528,
          0.057193368673324585,
          -0.08400402963161469,
          -0.11542297899723053,
          0.007904713973402977,
          0.08607228100299835,
          0.19548524916172028,
          -0.15762485563755035,
          -0.5508462190628052,
          -0.25957465171813965,
          -0.39481616020202637,
          -0.1648242473602295,
          0.09254550188779831,
          0.2655141055583954,
          0.06343379616737366,
          -0.0416715145111084,
          -0.19951635599136353,
          0.1194060668349266,
          -0.19432972371578217,
          -0.08898623287677765,
          0.015407806262373924,
          -0.11928575485944748,
          0.35083213448524475,
          0.1039341390132904,
          0.3773972690105438,
          -0.43759381771087646,
          -0.2827274799346924,
          0.025633983314037323,
          -0.009820855222642422,
          0.3197261691093445,
          -0.09803442656993866,
          -0.066010020673275,
          0.17357882857322693,
          0.17952990531921387,
          0.01499619334936142,
          0.03665652871131897,
          -0.02995062619447708,
          -0.10353042930364609,
          0.057003870606422424,
          -0.19984012842178345,
          -0.9254093170166016,
          -0.12937122583389282,
          -0.07916566729545593,
          0.497886598110199,
          -0.25627511739730835,
          -0.1429317444562912,
          -0.4093341827392578,
          -0.40855708718299866,
          -0.37062695622444153,
          0.0037069302052259445,
          0.29352036118507385,
          0.23263126611709595,
          0.12943203747272491,
          -0.13783015310764313,
          0.19038575887680054,
          -0.145873561501503,
          0.10368576645851135,
          0.3370937407016754,
          -0.11675040423870087,
          -0.425215482711792,
          -0.19657684862613678,
          -0.1605699360370636,
          0.14867402613162994,
          -0.0022327883634716272,
          -0.19256970286369324,
          -0.055745795369148254,
          0.09555324167013168,
          0.19354532659053802,
          0.05237685889005661,
          -0.22666911780834198,
          0.11315464973449707,
          0.16264623403549194,
          0.24969175457954407,
          -0.17191480100154877,
          0.3703427016735077,
          0.029251325875520706,
          0.26082587242126465,
          -0.1124846562743187,
          -0.034986287355422974,
          0.16609689593315125,
          -0.055524181574583054,
          -0.019814884290099144,
          0.38004231452941895,
          0.09679639339447021,
          0.23472359776496887,
          0.3010331988334656,
          0.038138605654239655,
          0.247666135430336,
          0.03799187019467354,
          -0.11840393394231796,
          0.16577774286270142,
          0.24362719058990479,
          -0.09989751130342484,
          -0.803174614906311,
          0.1771041452884674,
          0.0336756557226181,
          0.40534281730651855,
          -0.21795500814914703,
          -0.13413062691688538,
          0.02376098558306694,
          -0.21058553457260132,
          0.3254486918449402,
          -0.03930123522877693,
          -0.044322408735752106,
          0.03537023812532425,
          -0.3995959758758545,
          -0.11750011891126633,
          0.2972014546394348,
          -0.0258529894053936,
          -0.20664797723293304,
          -0.5050394535064697,
          0.22667793929576874,
          0.055311668664216995,
          0.19250573217868805,
          0.07628578692674637,
          -0.21323136985301971,
          -0.03543751314282417,
          0.1727217435836792,
          -0.10396812111139297,
          -0.14696665108203888,
          0.08412407338619232,
          -0.48059725761413574,
          0.5444669127464294,
          -0.042091816663742065,
          0.03992397338151932,
          0.059472158551216125,
          0.07483356446027756,
          -0.1850445717573166,
          -0.09723399579524994,
          -0.20714722573757172,
          0.17756026983261108,
          -0.005438309162855148,
          -0.3193287253379822,
          0.0410233736038208,
          0.10755272954702377,
          -0.3225514888763428,
          -0.42551589012145996,
          0.4074960947036743,
          -0.2530316710472107,
          0.11121580749750137,
          -0.04584517702460289,
          -0.3091962933540344,
          -0.46532389521598816,
          0.1305944323539734,
          0.10933536291122437,
          0.32890257239341736
         ]
        }
       ],
       "layout": {
        "height": 800,
        "hovermode": "closest",
        "template": {
         "data": {
          "bar": [
           {
            "error_x": {
             "color": "#2a3f5f"
            },
            "error_y": {
             "color": "#2a3f5f"
            },
            "marker": {
             "line": {
              "color": "#E5ECF6",
              "width": 0.5
             },
             "pattern": {
              "fillmode": "overlay",
              "size": 10,
              "solidity": 0.2
             }
            },
            "type": "bar"
           }
          ],
          "barpolar": [
           {
            "marker": {
             "line": {
              "color": "#E5ECF6",
              "width": 0.5
             },
             "pattern": {
              "fillmode": "overlay",
              "size": 10,
              "solidity": 0.2
             }
            },
            "type": "barpolar"
           }
          ],
          "carpet": [
           {
            "aaxis": {
             "endlinecolor": "#2a3f5f",
             "gridcolor": "white",
             "linecolor": "white",
             "minorgridcolor": "white",
             "startlinecolor": "#2a3f5f"
            },
            "baxis": {
             "endlinecolor": "#2a3f5f",
             "gridcolor": "white",
             "linecolor": "white",
             "minorgridcolor": "white",
             "startlinecolor": "#2a3f5f"
            },
            "type": "carpet"
           }
          ],
          "choropleth": [
           {
            "colorbar": {
             "outlinewidth": 0,
             "ticks": ""
            },
            "type": "choropleth"
           }
          ],
          "contour": [
           {
            "colorbar": {
             "outlinewidth": 0,
             "ticks": ""
            },
            "colorscale": [
             [
              0,
              "#0d0887"
             ],
             [
              0.1111111111111111,
              "#46039f"
             ],
             [
              0.2222222222222222,
              "#7201a8"
             ],
             [
              0.3333333333333333,
              "#9c179e"
             ],
             [
              0.4444444444444444,
              "#bd3786"
             ],
             [
              0.5555555555555556,
              "#d8576b"
             ],
             [
              0.6666666666666666,
              "#ed7953"
             ],
             [
              0.7777777777777778,
              "#fb9f3a"
             ],
             [
              0.8888888888888888,
              "#fdca26"
             ],
             [
              1,
              "#f0f921"
             ]
            ],
            "type": "contour"
           }
          ],
          "contourcarpet": [
           {
            "colorbar": {
             "outlinewidth": 0,
             "ticks": ""
            },
            "type": "contourcarpet"
           }
          ],
          "heatmap": [
           {
            "colorbar": {
             "outlinewidth": 0,
             "ticks": ""
            },
            "colorscale": [
             [
              0,
              "#0d0887"
             ],
             [
              0.1111111111111111,
              "#46039f"
             ],
             [
              0.2222222222222222,
              "#7201a8"
             ],
             [
              0.3333333333333333,
              "#9c179e"
             ],
             [
              0.4444444444444444,
              "#bd3786"
             ],
             [
              0.5555555555555556,
              "#d8576b"
             ],
             [
              0.6666666666666666,
              "#ed7953"
             ],
             [
              0.7777777777777778,
              "#fb9f3a"
             ],
             [
              0.8888888888888888,
              "#fdca26"
             ],
             [
              1,
              "#f0f921"
             ]
            ],
            "type": "heatmap"
           }
          ],
          "heatmapgl": [
           {
            "colorbar": {
             "outlinewidth": 0,
             "ticks": ""
            },
            "colorscale": [
             [
              0,
              "#0d0887"
             ],
             [
              0.1111111111111111,
              "#46039f"
             ],
             [
              0.2222222222222222,
              "#7201a8"
             ],
             [
              0.3333333333333333,
              "#9c179e"
             ],
             [
              0.4444444444444444,
              "#bd3786"
             ],
             [
              0.5555555555555556,
              "#d8576b"
             ],
             [
              0.6666666666666666,
              "#ed7953"
             ],
             [
              0.7777777777777778,
              "#fb9f3a"
             ],
             [
              0.8888888888888888,
              "#fdca26"
             ],
             [
              1,
              "#f0f921"
             ]
            ],
            "type": "heatmapgl"
           }
          ],
          "histogram": [
           {
            "marker": {
             "pattern": {
              "fillmode": "overlay",
              "size": 10,
              "solidity": 0.2
             }
            },
            "type": "histogram"
           }
          ],
          "histogram2d": [
           {
            "colorbar": {
             "outlinewidth": 0,
             "ticks": ""
            },
            "colorscale": [
             [
              0,
              "#0d0887"
             ],
             [
              0.1111111111111111,
              "#46039f"
             ],
             [
              0.2222222222222222,
              "#7201a8"
             ],
             [
              0.3333333333333333,
              "#9c179e"
             ],
             [
              0.4444444444444444,
              "#bd3786"
             ],
             [
              0.5555555555555556,
              "#d8576b"
             ],
             [
              0.6666666666666666,
              "#ed7953"
             ],
             [
              0.7777777777777778,
              "#fb9f3a"
             ],
             [
              0.8888888888888888,
              "#fdca26"
             ],
             [
              1,
              "#f0f921"
             ]
            ],
            "type": "histogram2d"
           }
          ],
          "histogram2dcontour": [
           {
            "colorbar": {
             "outlinewidth": 0,
             "ticks": ""
            },
            "colorscale": [
             [
              0,
              "#0d0887"
             ],
             [
              0.1111111111111111,
              "#46039f"
             ],
             [
              0.2222222222222222,
              "#7201a8"
             ],
             [
              0.3333333333333333,
              "#9c179e"
             ],
             [
              0.4444444444444444,
              "#bd3786"
             ],
             [
              0.5555555555555556,
              "#d8576b"
             ],
             [
              0.6666666666666666,
              "#ed7953"
             ],
             [
              0.7777777777777778,
              "#fb9f3a"
             ],
             [
              0.8888888888888888,
              "#fdca26"
             ],
             [
              1,
              "#f0f921"
             ]
            ],
            "type": "histogram2dcontour"
           }
          ],
          "mesh3d": [
           {
            "colorbar": {
             "outlinewidth": 0,
             "ticks": ""
            },
            "type": "mesh3d"
           }
          ],
          "parcoords": [
           {
            "line": {
             "colorbar": {
              "outlinewidth": 0,
              "ticks": ""
             }
            },
            "type": "parcoords"
           }
          ],
          "pie": [
           {
            "automargin": true,
            "type": "pie"
           }
          ],
          "scatter": [
           {
            "fillpattern": {
             "fillmode": "overlay",
             "size": 10,
             "solidity": 0.2
            },
            "type": "scatter"
           }
          ],
          "scatter3d": [
           {
            "line": {
             "colorbar": {
              "outlinewidth": 0,
              "ticks": ""
             }
            },
            "marker": {
             "colorbar": {
              "outlinewidth": 0,
              "ticks": ""
             }
            },
            "type": "scatter3d"
           }
          ],
          "scattercarpet": [
           {
            "marker": {
             "colorbar": {
              "outlinewidth": 0,
              "ticks": ""
             }
            },
            "type": "scattercarpet"
           }
          ],
          "scattergeo": [
           {
            "marker": {
             "colorbar": {
              "outlinewidth": 0,
              "ticks": ""
             }
            },
            "type": "scattergeo"
           }
          ],
          "scattergl": [
           {
            "marker": {
             "colorbar": {
              "outlinewidth": 0,
              "ticks": ""
             }
            },
            "type": "scattergl"
           }
          ],
          "scattermapbox": [
           {
            "marker": {
             "colorbar": {
              "outlinewidth": 0,
              "ticks": ""
             }
            },
            "type": "scattermapbox"
           }
          ],
          "scatterpolar": [
           {
            "marker": {
             "colorbar": {
              "outlinewidth": 0,
              "ticks": ""
             }
            },
            "type": "scatterpolar"
           }
          ],
          "scatterpolargl": [
           {
            "marker": {
             "colorbar": {
              "outlinewidth": 0,
              "ticks": ""
             }
            },
            "type": "scatterpolargl"
           }
          ],
          "scatterternary": [
           {
            "marker": {
             "colorbar": {
              "outlinewidth": 0,
              "ticks": ""
             }
            },
            "type": "scatterternary"
           }
          ],
          "surface": [
           {
            "colorbar": {
             "outlinewidth": 0,
             "ticks": ""
            },
            "colorscale": [
             [
              0,
              "#0d0887"
             ],
             [
              0.1111111111111111,
              "#46039f"
             ],
             [
              0.2222222222222222,
              "#7201a8"
             ],
             [
              0.3333333333333333,
              "#9c179e"
             ],
             [
              0.4444444444444444,
              "#bd3786"
             ],
             [
              0.5555555555555556,
              "#d8576b"
             ],
             [
              0.6666666666666666,
              "#ed7953"
             ],
             [
              0.7777777777777778,
              "#fb9f3a"
             ],
             [
              0.8888888888888888,
              "#fdca26"
             ],
             [
              1,
              "#f0f921"
             ]
            ],
            "type": "surface"
           }
          ],
          "table": [
           {
            "cells": {
             "fill": {
              "color": "#EBF0F8"
             },
             "line": {
              "color": "white"
             }
            },
            "header": {
             "fill": {
              "color": "#C8D4E3"
             },
             "line": {
              "color": "white"
             }
            },
            "type": "table"
           }
          ]
         },
         "layout": {
          "annotationdefaults": {
           "arrowcolor": "#2a3f5f",
           "arrowhead": 0,
           "arrowwidth": 1
          },
          "autotypenumbers": "strict",
          "coloraxis": {
           "colorbar": {
            "outlinewidth": 0,
            "ticks": ""
           }
          },
          "colorscale": {
           "diverging": [
            [
             0,
             "#8e0152"
            ],
            [
             0.1,
             "#c51b7d"
            ],
            [
             0.2,
             "#de77ae"
            ],
            [
             0.3,
             "#f1b6da"
            ],
            [
             0.4,
             "#fde0ef"
            ],
            [
             0.5,
             "#f7f7f7"
            ],
            [
             0.6,
             "#e6f5d0"
            ],
            [
             0.7,
             "#b8e186"
            ],
            [
             0.8,
             "#7fbc41"
            ],
            [
             0.9,
             "#4d9221"
            ],
            [
             1,
             "#276419"
            ]
           ],
           "sequential": [
            [
             0,
             "#0d0887"
            ],
            [
             0.1111111111111111,
             "#46039f"
            ],
            [
             0.2222222222222222,
             "#7201a8"
            ],
            [
             0.3333333333333333,
             "#9c179e"
            ],
            [
             0.4444444444444444,
             "#bd3786"
            ],
            [
             0.5555555555555556,
             "#d8576b"
            ],
            [
             0.6666666666666666,
             "#ed7953"
            ],
            [
             0.7777777777777778,
             "#fb9f3a"
            ],
            [
             0.8888888888888888,
             "#fdca26"
            ],
            [
             1,
             "#f0f921"
            ]
           ],
           "sequentialminus": [
            [
             0,
             "#0d0887"
            ],
            [
             0.1111111111111111,
             "#46039f"
            ],
            [
             0.2222222222222222,
             "#7201a8"
            ],
            [
             0.3333333333333333,
             "#9c179e"
            ],
            [
             0.4444444444444444,
             "#bd3786"
            ],
            [
             0.5555555555555556,
             "#d8576b"
            ],
            [
             0.6666666666666666,
             "#ed7953"
            ],
            [
             0.7777777777777778,
             "#fb9f3a"
            ],
            [
             0.8888888888888888,
             "#fdca26"
            ],
            [
             1,
             "#f0f921"
            ]
           ]
          },
          "colorway": [
           "#636efa",
           "#EF553B",
           "#00cc96",
           "#ab63fa",
           "#FFA15A",
           "#19d3f3",
           "#FF6692",
           "#B6E880",
           "#FF97FF",
           "#FECB52"
          ],
          "font": {
           "color": "#2a3f5f"
          },
          "geo": {
           "bgcolor": "white",
           "lakecolor": "white",
           "landcolor": "#E5ECF6",
           "showlakes": true,
           "showland": true,
           "subunitcolor": "white"
          },
          "hoverlabel": {
           "align": "left"
          },
          "hovermode": "closest",
          "mapbox": {
           "style": "light"
          },
          "paper_bgcolor": "white",
          "plot_bgcolor": "#E5ECF6",
          "polar": {
           "angularaxis": {
            "gridcolor": "white",
            "linecolor": "white",
            "ticks": ""
           },
           "bgcolor": "#E5ECF6",
           "radialaxis": {
            "gridcolor": "white",
            "linecolor": "white",
            "ticks": ""
           }
          },
          "scene": {
           "xaxis": {
            "backgroundcolor": "#E5ECF6",
            "gridcolor": "white",
            "gridwidth": 2,
            "linecolor": "white",
            "showbackground": true,
            "ticks": "",
            "zerolinecolor": "white"
           },
           "yaxis": {
            "backgroundcolor": "#E5ECF6",
            "gridcolor": "white",
            "gridwidth": 2,
            "linecolor": "white",
            "showbackground": true,
            "ticks": "",
            "zerolinecolor": "white"
           },
           "zaxis": {
            "backgroundcolor": "#E5ECF6",
            "gridcolor": "white",
            "gridwidth": 2,
            "linecolor": "white",
            "showbackground": true,
            "ticks": "",
            "zerolinecolor": "white"
           }
          },
          "shapedefaults": {
           "line": {
            "color": "#2a3f5f"
           }
          },
          "ternary": {
           "aaxis": {
            "gridcolor": "white",
            "linecolor": "white",
            "ticks": ""
           },
           "baxis": {
            "gridcolor": "white",
            "linecolor": "white",
            "ticks": ""
           },
           "bgcolor": "#E5ECF6",
           "caxis": {
            "gridcolor": "white",
            "linecolor": "white",
            "ticks": ""
           }
          },
          "title": {
           "x": 0.05
          },
          "xaxis": {
           "automargin": true,
           "gridcolor": "white",
           "linecolor": "white",
           "ticks": "",
           "title": {
            "standoff": 15
           },
           "zerolinecolor": "white",
           "zerolinewidth": 2
          },
          "yaxis": {
           "automargin": true,
           "gridcolor": "white",
           "linecolor": "white",
           "ticks": "",
           "title": {
            "standoff": 15
           },
           "zerolinecolor": "white",
           "zerolinewidth": 2
          }
         }
        },
        "title": {
         "text": "Word Embeddings"
        },
        "width": 800
       }
      }
     },
     "metadata": {},
     "output_type": "display_data"
    }
   ],
   "source": [
    "def plot_2d_embeddings(embeddings, id_start=1, count=100):\n",
    "  # Get 1st and 2nd embedding dims for the desired tokens.\n",
    "  x1 = embeddings[id_start:id_start+count, 0]\n",
    "  x2 = embeddings[id_start:id_start+count, 1]\n",
    "  \n",
    "  # Get the corresponding words from the reverse index (for labeling).\n",
    "  tokens = [reverse_index[i] for i in range(id_start, id_start+count)]\n",
    "  \n",
    "  # Construct the hover text to show the text, x1 value, and x2 value.\n",
    "  hover_text = [f'Text: {token}<br>x1: {x1_val:.2f}<br>x2: {x2_val:.2f}' for token, x1_val, x2_val in zip(tokens, x1, x2)]\n",
    "\n",
    "  # Plot with the plotly library.\n",
    "  data = plotly.Scatter(x=x1, y=x2, text=hover_text,\n",
    "                        mode='markers', textposition='bottom left',\n",
    "                        hoverinfo='text')\n",
    "  \n",
    "  fig = plotly.Figure(data=[data],\n",
    "                      layout=plotly.Layout(title=\"Word Embeddings\",\n",
    "                                           hovermode='closest',\n",
    "                                           width=800, height=800))\n",
    "  fig.show()\n",
    "\n",
    "# Very frequent tokens tend to be more syntactic than semantic, so let's plot\n",
    "# some rarer words.    \n",
    "plot_2d_embeddings(embeddings, id_start=500, count=500)"
   ]
  },
  {
   "cell_type": "code",
   "execution_count": 21,
   "metadata": {},
   "outputs": [],
   "source": [
    "# Create a dataframe that contains tokens and their corresponding embeddings\n",
    "def create_embedding_df(embeddings, id_start=1, count=100):\n",
    "    # Get 1st and 2nd embedding dims for the desired tokens.\n",
    "    x1 = embeddings[id_start:id_start+count, 0]\n",
    "    x2 = embeddings[id_start:id_start+count, 1]\n",
    "    \n",
    "    # Get the corresponding words from the reverse index (for labeling).\n",
    "    tokens = [reverse_index[i] for i in range(id_start, id_start+count)]\n",
    "    \n",
    "    # Construct the dataframe.\n",
    "    df = pd.DataFrame({'token': tokens, 'x1': x1, 'x2': x2})\n",
    "    \n",
    "    return df\n",
    "\n",
    "df_embeddings = create_embedding_df(embeddings, id_start=500, count=500)\n",
    "\n",
    "# Export to csv\n",
    "df_embeddings.to_csv('df_embeddings.csv', index=False)\n"
   ]
  },
  {
   "cell_type": "markdown",
   "metadata": {
    "id": "Z3Mm8MjRcZ20"
   },
   "source": [
    "---\n",
    "### Exercise 4: Interpreting Embeddings (20 points)\n",
    "Notice that the 2-D embeddings fall in a narrow diagonal band.\n",
    "\n",
    "1. Have the learned embeddings separated positive and negative words? What is the most negative word? Does this make sense?\n",
    "2. Give 2 examples of words that seem to have surprising embedding values and try to explain their positions. For example, what's going on with the tokens '7', '8', and '9'? What are two other surprising results?\n",
    "3. The embedding for 'crazy' is very close to (0,0). Explain what this means in terms of the model's output.\n",
    "4. Can you explain what you think the 2 learned embedding dimensions mean, if anything?"
   ]
  },
  {
   "cell_type": "markdown",
   "metadata": {
    "id": "x_qAAvvo2y3t"
   },
   "source": [
    "*Written answers:*\n",
    "\n",
    "1. The embeddings appear to have separated the positive and negative words. Words with higher x1 and lower x2 values (e.g., towards the top left quadrant of the plot) appear to be be negative words, whereas words with lower x1 and lower x2 values (e.g., towards the bottom right quadrant of the plot) appear to be positive words. The most negative word is 'avoid,' which makes sense within the context of drug reviews as it most likely represents a strong recommendation against using a drug.\n",
    "2. Interestingly, the embedding for 'Save' leans towards the negative side (x1: -0.93, x2: 0.95), despite not inherently sounding negative. Surprisingly, it is located in close proximity to other negative words like 'avoid' and 'crap'. Similarly, 'Chance' (x1: 0.64, x2: -0.66) is considered a positive word in the embedding and is clustered near positive words such as 'brilliant' and 'enjoyable'. At first glance, 'Chance' might appear as a neutral word, but its placement suggests a positive sentiment. These unexpected positions can be attributed to the frequent co-occurrence of 'Save' with other negative words and 'Chance' with positive words. Consequently, the embedding model learns to associate 'Save' with negative sentiment and 'Chance' with positive sentiment based on their consistent usage alongside other words of corresponding sentiment. The same would hold true for tokens '7', '8' and '9' - their position indicates that these tokens frequently co-occur with other words associated with positive sentiment.\n",
    "3. The embedding for 'crazy' is positioned near the origin (0,0) in the embedding space, indicating a neutral sentiment association. This implies that the sentiment associated with 'crazy' is neither strongly negative nor positive in the model's output. The neutral embedding suggests that the inclusion of 'crazy' in a review does not reliably predict the review's sentiment.\n",
    "4. The individual interpretation of each embedding dimension is difficult to determine conclusively, but we can make observations about their aggregate representation. The 2-D embeddings show a narrow diagonal band, suggesting that both dimensions capture sentiment polarity (positivity or negativity). Additionally, the proximity of words in terms of their embedding distances reflects similartiy between words. For example, \"actor\" and \"actress\" as well as \"kill\" and \"killed\" have similar values for both dimensions. In summary, while the exact meaning of each dimension remains unclear, it appears that they represent sentiment polarity and semantic similarities between words."
   ]
  },
  {
   "cell_type": "markdown",
   "metadata": {},
   "source": [
    "---"
   ]
  },
  {
   "cell_type": "markdown",
   "metadata": {
    "id": "IXCitmUvxfwb"
   },
   "source": [
    "## Scaling Up!\n",
    "Remember how we limited our input sequences to 20 tokens and 1000 vocabulary entries? Let's see how well we can do using more data and bigger models (more parameters)."
   ]
  },
  {
   "cell_type": "markdown",
   "metadata": {
    "id": "OKZDEGS7xzr6"
   },
   "source": [
    "### Exercise 5: Improve Results (20 points)\n",
    "Using pieces of code from above, set up and train a model that improves the validation accuracy to at least 80%. You should include the following elements:\n",
    "\n",
    "1. Truncate and pad input to the desired length.\n",
    "2. Limit vocabulary to the desired size.\n",
    "3. Set up a model using embeddings.\n",
    "4. Add an additional layer or layers (after the embeddings layer and before the output layer).\n",
    "5. Evaluate on the test data. Remember to apply the same pre-processing to the test data. You can use model.evaluate()."
   ]
  },
  {
   "cell_type": "markdown",
   "metadata": {},
   "source": [
    "#### EDA"
   ]
  },
  {
   "cell_type": "markdown",
   "metadata": {},
   "source": [
    "First, determine what length would capture the reviews"
   ]
  },
  {
   "cell_type": "code",
   "execution_count": 22,
   "metadata": {},
   "outputs": [
    {
     "data": {
      "text/plain": [
       "Text(0.5, 1.0, 'Cumulative density of review lengths')"
      ]
     },
     "execution_count": 22,
     "metadata": {},
     "output_type": "execute_result"
    },
    {
     "data": {
      "image/png": "[encoded data removed]",
      "text/plain": [
       "<Figure size 1600x800 with 2 Axes>"
      ]
     },
     "metadata": {},
     "output_type": "display_data"
    }
   ],
   "source": [
    "fig, ax = plt.subplots(nrows=1, ncols=2, figsize=(16,8))\n",
    "\n",
    "# On the first axis, plot a histogram of lengths of each row of X_train\n",
    "ax[0].hist([len(x) for x in X_train], bins=20)\n",
    "ax[0].set_xlabel('Length of review')\n",
    "ax[0].set_ylabel('Number of reviews')\n",
    "ax[0].set_title('Distribution of review lengths')\n",
    "\n",
    "# On the second axis, plot a cumulative density function of lengths of each row of X_train\n",
    "ax[1].hist([len(x) for x in X_train], bins=20, cumulative=True, density=True, histtype='step')\n",
    "ax[1].set_xlabel('Length of review')\n",
    "ax[1].set_ylabel('Cumulative density')\n",
    "ax[1].set_title('Cumulative density of review lengths')"
   ]
  },
  {
   "cell_type": "code",
   "execution_count": 23,
   "metadata": {},
   "outputs": [],
   "source": [
    "# Build embedding model\n",
    "def build_embeddings_model_2(X_train=X_train,\n",
    "                             average_over_positions=True,\n",
    "                             vocab_size=1000,\n",
    "                             sequence_length=20,\n",
    "                             embedding_dim=32,\n",
    "                             hidden_layer_units=16):\n",
    "    \"\"\"Build a tf.keras model using embeddings.\"\"\"\n",
    "\n",
    "    # Pad data and limit vocab\n",
    "    X_train_padded = pad_data(X_train, max_length=sequence_length)\n",
    "    X_train_reduced = limit_vocab(X_train_padded, max_token_id=vocab_size)\n",
    "\n",
    "    # Clear session and remove randomness.\n",
    "    tf.keras.backend.clear_session()\n",
    "    tf.random.set_seed(0)\n",
    "\n",
    "    model = tf.keras.Sequential()\n",
    "    model.add(tf.keras.layers.Embedding(\n",
    "        input_dim=vocab_size,\n",
    "        output_dim=embedding_dim,\n",
    "        input_length=sequence_length)\n",
    "    )\n",
    "\n",
    "    if average_over_positions:\n",
    "        # This layer averages over the first dimension of the input by default.\n",
    "        model.add(tf.keras.layers.GlobalAveragePooling1D())\n",
    "    else:\n",
    "        # Concatenate.\n",
    "        model.add(tf.keras.layers.Flatten())\n",
    "\n",
    "    # Add an additional hidden layer with 16 units and ReLU activation\n",
    "    model.add(tf.keras.layers.Dense(\n",
    "        units=hidden_layer_units,\n",
    "        activation='relu'\n",
    "    ))\n",
    "\n",
    "    # Output layer\n",
    "    model.add(tf.keras.layers.Dense(\n",
    "        units=1,\n",
    "        activation='sigmoid'\n",
    "    ))\n",
    "\n",
    "    model.compile(loss='binary_crossentropy',\n",
    "                  optimizer='adam',\n",
    "                  metrics=['accuracy'])\n",
    "\n",
    "    return model\n"
   ]
  },
  {
   "cell_type": "markdown",
   "metadata": {},
   "source": [
    "#### Run experiments to tune vocab_size and sequence_length hyperparameters"
   ]
  },
  {
   "cell_type": "code",
   "execution_count": 49,
   "metadata": {},
   "outputs": [],
   "source": [
    "# Setup code to run experiments\n",
    "def final_experiment(input_df, vocab_size, sequence_length):\n",
    "    print(f\"Running experiment with vocab size {vocab_size} and sequence length {sequence_length}\")\n",
    "\n",
    "    # Create a temporary dataframe to store the results of the experiment\n",
    "    temp_df = pd.DataFrame({'Vocab size': [vocab_size], 'Sequence length': [sequence_length]})\n",
    "\n",
    "    X_train_padded = pad_data(X_train, max_length=sequence_length)\n",
    "    X_train_reduced = limit_vocab(X_train_padded, max_token_id=vocab_size)\n",
    "\n",
    "    model = build_embeddings_model_2(X_train=X_train,\n",
    "                                        average_over_positions=True,\n",
    "                                        vocab_size=vocab_size,\n",
    "                                        sequence_length=sequence_length,\n",
    "                                        embedding_dim=32,\n",
    "                                        hidden_layer_units=16)\n",
    "\n",
    "    history = model.fit(x=X_train_reduced,\n",
    "                        y=Y_train,\n",
    "                        epochs=5,\n",
    "                        batch_size=64,\n",
    "                        validation_split=0.1,\n",
    "                        verbose=1)\n",
    "\n",
    "    history = pd.DataFrame(history.history)\n",
    "    plot_history(history)\n",
    "\n",
    "    # Add the training and validation accuracy to the temporary dataframe\n",
    "    temp_df[['Training accuracy', 'Validation accuracy']] = [history['accuracy'].iloc[-1],\n",
    "                                                                history['val_accuracy'].iloc[-1]]\n",
    "\n",
    "    # Concatenate the temporary dataframe with the main dataframe\n",
    "    df = pd.concat([input_df, temp_df], ignore_index=True)\n",
    "\n",
    "    return df"
   ]
  },
  {
   "cell_type": "code",
   "execution_count": 50,
   "metadata": {},
   "outputs": [],
   "source": [
    "# Create a dataframe to represent a table with the training and validation accuracies of each model \n",
    "df_final_experiment = pd.DataFrame(columns=['Vocab size', 'Sequence length', 'Training accuracy', 'Validation accuracy'])"
   ]
  },
  {
   "cell_type": "code",
   "execution_count": 51,
   "metadata": {},
   "outputs": [
    {
     "name": "stdout",
     "output_type": "stream",
     "text": [
      "Running experiment with vocab size 2000 and sequence length 50\n",
      "Epoch 1/5\n",
      "352/352 [==============================] - 17s 45ms/step - loss: 0.5828 - accuracy: 0.7086 - val_loss: 0.4622 - val_accuracy: 0.7852\n",
      "Epoch 2/5\n",
      "352/352 [==============================] - 8s 24ms/step - loss: 0.4172 - accuracy: 0.8109 - val_loss: 0.4320 - val_accuracy: 0.7976\n",
      "Epoch 3/5\n",
      "352/352 [==============================] - 8s 22ms/step - loss: 0.3918 - accuracy: 0.8239 - val_loss: 0.4243 - val_accuracy: 0.8048\n",
      "Epoch 4/5\n",
      "352/352 [==============================] - 7s 19ms/step - loss: 0.3817 - accuracy: 0.8293 - val_loss: 0.4264 - val_accuracy: 0.8036\n",
      "Epoch 5/5\n",
      "352/352 [==============================] - 6s 17ms/step - loss: 0.3782 - accuracy: 0.8324 - val_loss: 0.4299 - val_accuracy: 0.8020\n"
     ]
    },
    {
     "data": {
      "image/png": "[encoded data removed]",
      "text/plain": [
       "<Figure size 640x480 with 1 Axes>"
      ]
     },
     "metadata": {},
     "output_type": "display_data"
    }
   ],
   "source": [
    "# Run an experiment with vocab_size = 2000 and sequence_length = 50\n",
    "df_final_experiment = final_experiment(df_final_experiment, vocab_size=2000, sequence_length=50)"
   ]
  },
  {
   "cell_type": "code",
   "execution_count": 52,
   "metadata": {},
   "outputs": [
    {
     "name": "stdout",
     "output_type": "stream",
     "text": [
      "Running experiment with vocab size 4000 and sequence length 50\n",
      "Epoch 1/5\n",
      "352/352 [==============================] - 20s 52ms/step - loss: 0.5753 - accuracy: 0.7292 - val_loss: 0.4474 - val_accuracy: 0.7988\n",
      "Epoch 2/5\n",
      "352/352 [==============================] - 11s 32ms/step - loss: 0.3918 - accuracy: 0.8273 - val_loss: 0.4116 - val_accuracy: 0.8100\n",
      "Epoch 3/5\n",
      "352/352 [==============================] - 10s 28ms/step - loss: 0.3534 - accuracy: 0.8456 - val_loss: 0.4092 - val_accuracy: 0.8144\n",
      "Epoch 4/5\n",
      "352/352 [==============================] - 9s 25ms/step - loss: 0.3352 - accuracy: 0.8542 - val_loss: 0.4171 - val_accuracy: 0.8088\n",
      "Epoch 5/5\n",
      "352/352 [==============================] - 8s 24ms/step - loss: 0.3257 - accuracy: 0.8608 - val_loss: 0.4262 - val_accuracy: 0.8068\n"
     ]
    },
    {
     "data": {
      "image/png": "[encoded data removed]",
      "text/plain": [
       "<Figure size 640x480 with 1 Axes>"
      ]
     },
     "metadata": {},
     "output_type": "display_data"
    }
   ],
   "source": [
    "# Run an experiment with vocab_size = 4000 and sequence_length = 50\n",
    "df_final_experiment = final_experiment(df_final_experiment, vocab_size=4000, sequence_length=50)"
   ]
  },
  {
   "cell_type": "code",
   "execution_count": 53,
   "metadata": {},
   "outputs": [
    {
     "name": "stdout",
     "output_type": "stream",
     "text": [
      "Running experiment with vocab size 8000 and sequence length 50\n",
      "Epoch 1/5\n",
      "352/352 [==============================] - 28s 74ms/step - loss: 0.5779 - accuracy: 0.7331 - val_loss: 0.4421 - val_accuracy: 0.8036\n",
      "Epoch 2/5\n",
      "352/352 [==============================] - 14s 39ms/step - loss: 0.3747 - accuracy: 0.8366 - val_loss: 0.4000 - val_accuracy: 0.8148\n",
      "Epoch 3/5\n",
      "352/352 [==============================] - 13s 36ms/step - loss: 0.3193 - accuracy: 0.8640 - val_loss: 0.4002 - val_accuracy: 0.8188\n",
      "Epoch 4/5\n",
      "352/352 [==============================] - 11s 32ms/step - loss: 0.2879 - accuracy: 0.8796 - val_loss: 0.4160 - val_accuracy: 0.8180\n",
      "Epoch 5/5\n",
      "352/352 [==============================] - 10s 29ms/step - loss: 0.2670 - accuracy: 0.8935 - val_loss: 0.4393 - val_accuracy: 0.8120\n"
     ]
    },
    {
     "data": {
      "image/png": "[encoded data removed]",
      "text/plain": [
       "<Figure size 640x480 with 1 Axes>"
      ]
     },
     "metadata": {},
     "output_type": "display_data"
    }
   ],
   "source": [
    "# Run an experiment with vocab_size = 8000 and sequence_length = 50\n",
    "df_final_experiment = final_experiment(df_final_experiment, vocab_size=8000, sequence_length=50)"
   ]
  },
  {
   "cell_type": "markdown",
   "metadata": {},
   "source": [
    "From the above it seems like vocab size beyond 2000 leads to overfitting (large variance). Let's set it at 2000 for the time being and experiment with different sequence lengths."
   ]
  },
  {
   "cell_type": "code",
   "execution_count": 54,
   "metadata": {},
   "outputs": [
    {
     "name": "stdout",
     "output_type": "stream",
     "text": [
      "Running experiment with vocab size 2000 and sequence length 100\n",
      "Epoch 1/5\n",
      "352/352 [==============================] - 28s 74ms/step - loss: 0.5705 - accuracy: 0.7346 - val_loss: 0.4189 - val_accuracy: 0.8144\n",
      "Epoch 2/5\n",
      "352/352 [==============================] - 13s 36ms/step - loss: 0.3662 - accuracy: 0.8394 - val_loss: 0.3795 - val_accuracy: 0.8300\n",
      "Epoch 3/5\n",
      "352/352 [==============================] - 12s 33ms/step - loss: 0.3319 - accuracy: 0.8575 - val_loss: 0.3681 - val_accuracy: 0.8344\n",
      "Epoch 4/5\n",
      "352/352 [==============================] - 11s 30ms/step - loss: 0.3184 - accuracy: 0.8633 - val_loss: 0.3712 - val_accuracy: 0.8352\n",
      "Epoch 5/5\n",
      "352/352 [==============================] - 11s 32ms/step - loss: 0.3121 - accuracy: 0.8672 - val_loss: 0.3704 - val_accuracy: 0.8380\n"
     ]
    },
    {
     "data": {
      "image/png": "[encoded data removed]",
      "text/plain": [
       "<Figure size 640x480 with 1 Axes>"
      ]
     },
     "metadata": {},
     "output_type": "display_data"
    }
   ],
   "source": [
    "# Run an experiment with vocab_size = 2000 and sequence_length = 100\n",
    "df_final_experiment = final_experiment(df_final_experiment, vocab_size=2000, sequence_length=100)"
   ]
  },
  {
   "cell_type": "code",
   "execution_count": 55,
   "metadata": {},
   "outputs": [
    {
     "name": "stdout",
     "output_type": "stream",
     "text": [
      "Running experiment with vocab size 2000 and sequence length 200\n"
     ]
    },
    {
     "name": "stdout",
     "output_type": "stream",
     "text": [
      "Epoch 1/5\n",
      "352/352 [==============================] - 31s 82ms/step - loss: 0.5917 - accuracy: 0.7022 - val_loss: 0.4238 - val_accuracy: 0.8388\n",
      "Epoch 2/5\n",
      "352/352 [==============================] - 16s 47ms/step - loss: 0.3500 - accuracy: 0.8586 - val_loss: 0.3409 - val_accuracy: 0.8612\n",
      "Epoch 3/5\n",
      "352/352 [==============================] - 13s 36ms/step - loss: 0.2985 - accuracy: 0.8768 - val_loss: 0.3333 - val_accuracy: 0.8624\n",
      "Epoch 4/5\n",
      "352/352 [==============================] - 14s 40ms/step - loss: 0.2802 - accuracy: 0.8860 - val_loss: 0.3294 - val_accuracy: 0.8684\n",
      "Epoch 5/5\n",
      "352/352 [==============================] - 16s 44ms/step - loss: 0.2704 - accuracy: 0.8900 - val_loss: 0.3272 - val_accuracy: 0.8724\n"
     ]
    },
    {
     "data": {
      "image/png": "[encoded data removed]",
      "text/plain": [
       "<Figure size 640x480 with 1 Axes>"
      ]
     },
     "metadata": {},
     "output_type": "display_data"
    }
   ],
   "source": [
    "# Run an experiment with vocab_size = 2000 and sequence_length = 200\n",
    "df_final_experiment = final_experiment(df_final_experiment, vocab_size=2000, sequence_length=200)"
   ]
  },
  {
   "cell_type": "code",
   "execution_count": 56,
   "metadata": {},
   "outputs": [
    {
     "name": "stdout",
     "output_type": "stream",
     "text": [
      "Running experiment with vocab size 2000 and sequence length 300\n",
      "Epoch 1/5\n",
      "352/352 [==============================] - 46s 123ms/step - loss: 0.6228 - accuracy: 0.7032 - val_loss: 0.4740 - val_accuracy: 0.8276\n",
      "Epoch 2/5\n",
      "352/352 [==============================] - 44s 124ms/step - loss: 0.3791 - accuracy: 0.8519 - val_loss: 0.3471 - val_accuracy: 0.8604\n",
      "Epoch 3/5\n",
      "352/352 [==============================] - 29s 82ms/step - loss: 0.3086 - accuracy: 0.8747 - val_loss: 0.3313 - val_accuracy: 0.8672\n",
      "Epoch 4/5\n",
      "352/352 [==============================] - 30s 84ms/step - loss: 0.2842 - accuracy: 0.8856 - val_loss: 0.3202 - val_accuracy: 0.8720\n",
      "Epoch 5/5\n",
      "352/352 [==============================] - 27s 75ms/step - loss: 0.2703 - accuracy: 0.8914 - val_loss: 0.3131 - val_accuracy: 0.8760\n"
     ]
    },
    {
     "data": {
      "image/png": "[encoded data removed]",
      "text/plain": [
       "<Figure size 640x480 with 1 Axes>"
      ]
     },
     "metadata": {},
     "output_type": "display_data"
    }
   ],
   "source": [
    "# Run an experiment with vocab_size = 2000 and sequence_length = 300\n",
    "df_final_experiment = final_experiment(df_final_experiment, vocab_size=2000, sequence_length=300)"
   ]
  },
  {
   "cell_type": "code",
   "execution_count": 57,
   "metadata": {},
   "outputs": [
    {
     "data": {
      "text/html": [
       "<div>\n",
       "<style scoped>\n",
       "    .dataframe tbody tr th:only-of-type {\n",
       "        vertical-align: middle;\n",
       "    }\n",
       "\n",
       "    .dataframe tbody tr th {\n",
       "        vertical-align: top;\n",
       "    }\n",
       "\n",
       "    .dataframe thead th {\n",
       "        text-align: right;\n",
       "    }\n",
       "</style>\n",
       "<table border=\"1\" class=\"dataframe\">\n",
       "  <thead>\n",
       "    <tr style=\"text-align: right;\">\n",
       "      <th></th>\n",
       "      <th>Vocab size</th>\n",
       "      <th>Sequence length</th>\n",
       "      <th>Training accuracy</th>\n",
       "      <th>Validation accuracy</th>\n",
       "    </tr>\n",
       "  </thead>\n",
       "  <tbody>\n",
       "    <tr>\n",
       "      <th>0</th>\n",
       "      <td>2000</td>\n",
       "      <td>50</td>\n",
       "      <td>0.832444</td>\n",
       "      <td>0.8020</td>\n",
       "    </tr>\n",
       "    <tr>\n",
       "      <th>1</th>\n",
       "      <td>4000</td>\n",
       "      <td>50</td>\n",
       "      <td>0.860844</td>\n",
       "      <td>0.8068</td>\n",
       "    </tr>\n",
       "    <tr>\n",
       "      <th>2</th>\n",
       "      <td>8000</td>\n",
       "      <td>50</td>\n",
       "      <td>0.893467</td>\n",
       "      <td>0.8120</td>\n",
       "    </tr>\n",
       "    <tr>\n",
       "      <th>3</th>\n",
       "      <td>2000</td>\n",
       "      <td>100</td>\n",
       "      <td>0.867156</td>\n",
       "      <td>0.8380</td>\n",
       "    </tr>\n",
       "    <tr>\n",
       "      <th>4</th>\n",
       "      <td>2000</td>\n",
       "      <td>200</td>\n",
       "      <td>0.890044</td>\n",
       "      <td>0.8724</td>\n",
       "    </tr>\n",
       "    <tr>\n",
       "      <th>5</th>\n",
       "      <td>2000</td>\n",
       "      <td>300</td>\n",
       "      <td>0.891378</td>\n",
       "      <td>0.8760</td>\n",
       "    </tr>\n",
       "  </tbody>\n",
       "</table>\n",
       "</div>"
      ],
      "text/plain": [
       "  Vocab size Sequence length  Training accuracy  Validation accuracy\n",
       "0       2000              50           0.832444               0.8020\n",
       "1       4000              50           0.860844               0.8068\n",
       "2       8000              50           0.893467               0.8120\n",
       "3       2000             100           0.867156               0.8380\n",
       "4       2000             200           0.890044               0.8724\n",
       "5       2000             300           0.891378               0.8760"
      ]
     },
     "execution_count": 57,
     "metadata": {},
     "output_type": "execute_result"
    }
   ],
   "source": [
    "df_final_experiment"
   ]
  },
  {
   "cell_type": "markdown",
   "metadata": {},
   "source": [
    "#### Fit the test with the chosen hyperparameters and get final accuracy"
   ]
  },
  {
   "cell_type": "markdown",
   "metadata": {},
   "source": [
    "From the above experiments it seems like a vocab size of 2000 and sequence length of 300 leads to the best validation accuracy. We can use these parameters to fit the test data. 2 epochs also seems like a good point to stop training to avoid overfitting."
   ]
  },
  {
   "cell_type": "code",
   "execution_count": 59,
   "metadata": {},
   "outputs": [
    {
     "name": "stdout",
     "output_type": "stream",
     "text": [
      "Epoch 1/2\n",
      "391/391 [==============================] - 59s 143ms/step - loss: 0.5967 - accuracy: 0.7039\n",
      "Epoch 2/2\n",
      "391/391 [==============================] - 37s 95ms/step - loss: 0.3571 - accuracy: 0.8599\n",
      "782/782 [==============================] - 6s 7ms/step - loss: 0.3262 - accuracy: 0.8660\n",
      "Test accuracy: 0.8659600019454956\n"
     ]
    }
   ],
   "source": [
    "# Chosen parameters\n",
    "sequence_length = 300\n",
    "vocab_size = 2000\n",
    "\n",
    "# Preprocess the train data\n",
    "X_train_padded_final = pad_data(X_train, max_length=sequence_length)\n",
    "X_train_reduced_final = limit_vocab(X_train_padded, max_token_id=vocab_size)\n",
    "\n",
    "# Preprocess the test data\n",
    "X_test_padded_final = pad_data(X_test, max_length=sequence_length)\n",
    "X_test_reduced_final = limit_vocab(X_test_padded, max_token_id=vocab_size)\n",
    "\n",
    "# Build the final model with the chosen parameters\n",
    "final_model = build_embeddings_model_2(X_train=X_train_reduced_final,\n",
    "                                 average_over_positions=True,\n",
    "                                 vocab_size=vocab_size,\n",
    "                                 sequence_length=sequence_length,\n",
    "                                 embedding_dim=32,\n",
    "                                 hidden_layer_units=16)\n",
    "\n",
    "# Change the number of epochs to 2 (since going beyond 2 epochs will result in overfitting)\n",
    "final_model.fit(X_train_reduced_final, Y_train, epochs=2, batch_size=64, verbose=1)\n",
    "\n",
    "# Evaluate the model on the test data\n",
    "test_accuracy = final_model.evaluate(x=X_test_reduced_final, y=Y_test, verbose=1)\n",
    "\n",
    "# Print the test accuracy\n",
    "print(f\"Test accuracy: {test_accuracy[1]}\")"
   ]
  }
 ],
 "metadata": {
  "colab": {
   "authorship_tag": "ABX9TyMbG/uKJC3itEUb58OjZyV3",
   "name": "09 Embeddings for Text.ipynb",
   "provenance": []
  },
  "kernelspec": {
   "display_name": "Python 3",
   "language": "python",
   "name": "python3"
  },
  "language_info": {
   "codemirror_mode": {
    "name": "ipython",
    "version": 3
   },
   "file_extension": ".py",
   "mimetype": "text/x-python",
   "name": "python",
   "nbconvert_exporter": "python",
   "pygments_lexer": "ipython3",
   "version": "3.10.11"
  }
 },
 "nbformat": 4,
 "nbformat_minor": 4
}
