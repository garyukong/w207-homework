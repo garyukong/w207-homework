{
 "cells": [
  {
   "cell_type": "markdown",
   "metadata": {
    "id": "MKsRDH5ZUdfasdv"
   },
   "source": [
    "# Lab 9"
   ]
  },
  {
   "cell_type": "markdown",
   "metadata": {},
   "source": [
    "### <span style=\"color:chocolate\"> Submission requirements </span>\n",
    "\n",
    "Additional points may be deducted if these requirements are not met:\n",
    "    \n",
    "* Comment your code\n",
    "* Each graph should have a title, labels for each axis, and (if needed) a legend. Each graph should be understandable on its own\n",
    "* Be sure your submitted notebook includes the output of your run (Hint: go to Kernel -> Restart Kernel and Run All Cells...)\n",
    "* Try and minimize the use of the global namespace (meaning, keep things inside functions)\n",
    "* Upload your .ipynb file to Gradescope when done\n",
    "---"
   ]
  },
  {
   "cell_type": "markdown",
   "metadata": {
    "id": "43534tdfgs-v"
   },
   "source": [
    "In this lab, we'll train models for sentiment classification and experiment with learned embeddings for text features."
   ]
  },
  {
   "cell_type": "code",
   "execution_count": 1,
   "metadata": {
    "id": "7X58hOMTUH-w"
   },
   "outputs": [],
   "source": [
    "# Import the libraries we'll use below.\n",
    "import numpy as np\n",
    "from matplotlib import pyplot as plt\n",
    "import pandas as pd\n",
    "import seaborn as sns  # for nicer plots\n",
    "sns.set(style=\"darkgrid\")  # default style\n",
    "import plotly.graph_objs as plotly  # for interactive plots\n",
    "\n",
    "import tensorflow as tf\n",
    "from tensorflow.keras.datasets import imdb"
   ]
  },
  {
   "cell_type": "markdown",
   "metadata": {
    "id": "eqppUDpmdptk"
   },
   "source": [
    "## Data for Sentiment Classification\n",
    "\n",
    "In this lab, we'll train a *sentiment* classifier for movie reviews. That is, the input is the text of a movie review and the output is the probability the input was a positive review. The target labels are binary, 0 for negative and 1 for positive.\n",
    "\n",
    "Our data includes 50,000 movie reviews on IMDB. The data comes pre-segmented into train and test splits. The [data loading function](https://www.tensorflow.org/api_docs/python/tf/keras/datasets/imdb/load_data) below also splits each input text into tokens (words) and maps the words to integer values. Each input is a sequence of integers corresponding to the words."
   ]
  },
  {
   "cell_type": "code",
   "execution_count": 2,
   "metadata": {
    "colab": {
     "base_uri": "https://localhost:8080/"
    },
    "executionInfo": {
     "elapsed": 5870,
     "status": "ok",
     "timestamp": 1646684495083,
     "user": {
      "displayName": "Daniel Gillick",
      "photoUrl": "https://lh3.googleusercontent.com/a-/AOh14Gg9DrSMlwYnG9EolecuJqe8n9m7fpcje4_UbYrhQ10=s64",
      "userId": "01872965353911650729"
     },
     "user_tz": 600
    },
    "id": "s6M-asvhQWV_",
    "outputId": "1aca520b-e1b6-4006-ac44-78ff33ac6da9"
   },
   "outputs": [
    {
     "name": "stdout",
     "output_type": "stream",
     "text": [
      "X_train.shape: (25000,)\n",
      "Y_train.shape: (25000,)\n",
      "X_test.shape: (25000,)\n",
      "Y_test.shape: (25000,)\n",
      "First training example data: [1, 14, 22, 16, 43, 530, 973, 1622, 1385, 65, 458, 4468, 66, 3941, 4, 173, 36, 256, 5, 25, 100, 43, 838, 112, 50, 670, 22665, 9, 35, 480, 284, 5, 150, 4, 172, 112, 167, 21631, 336, 385, 39, 4, 172, 4536, 1111, 17, 546, 38, 13, 447, 4, 192, 50, 16, 6, 147, 2025, 19, 14, 22, 4, 1920, 4613, 469, 4, 22, 71, 87, 12, 16, 43, 530, 38, 76, 15, 13, 1247, 4, 22, 17, 515, 17, 12, 16, 626, 18, 19193, 5, 62, 386, 12, 8, 316, 8, 106, 5, 4, 2223, 5244, 16, 480, 66, 3785, 33, 4, 130, 12, 16, 38, 619, 5, 25, 124, 51, 36, 135, 48, 25, 1415, 33, 6, 22, 12, 215, 28, 77, 52, 5, 14, 407, 16, 82, 10311, 8, 4, 107, 117, 5952, 15, 256, 4, 31050, 7, 3766, 5, 723, 36, 71, 43, 530, 476, 26, 400, 317, 46, 7, 4, 12118, 1029, 13, 104, 88, 4, 381, 15, 297, 98, 32, 2071, 56, 26, 141, 6, 194, 7486, 18, 4, 226, 22, 21, 134, 476, 26, 480, 5, 144, 30, 5535, 18, 51, 36, 28, 224, 92, 25, 104, 4, 226, 65, 16, 38, 1334, 88, 12, 16, 283, 5, 16, 4472, 113, 103, 32, 15, 16, 5345, 19, 178, 32]\n",
      "First training example label: 1\n"
     ]
    }
   ],
   "source": [
    "(X_train, Y_train), (X_test, Y_test) = imdb.load_data(path=\"imdb.npz\",\n",
    "                                                      num_words=None,\n",
    "                                                      skip_top=0,\n",
    "                                                      maxlen=None,\n",
    "                                                      seed=113,\n",
    "                                                      start_char=1,\n",
    "                                                      oov_char=2,\n",
    "                                                      index_from=3)\n",
    "\n",
    "print(\"X_train.shape:\", X_train.shape)\n",
    "print(\"Y_train.shape:\", Y_train.shape)\n",
    "print(\"X_test.shape:\", X_test.shape)\n",
    "print(\"Y_test.shape:\", Y_test.shape)\n",
    "\n",
    "print('First training example data:', X_train[0])\n",
    "print('First training example label:', Y_train[0])"
   ]
  },
  {
   "cell_type": "markdown",
   "metadata": {
    "id": "MyIWiy-4gQK-"
   },
   "source": [
    "So our first training example is a positive review. But that sequence of integer IDs is hard to read. The data loader provides a dictionary mapping words to IDs. Let's create a reverse index.\n"
   ]
  },
  {
   "cell_type": "code",
   "execution_count": 3,
   "metadata": {
    "colab": {
     "base_uri": "https://localhost:8080/"
    },
    "executionInfo": {
     "elapsed": 801,
     "status": "ok",
     "timestamp": 1646684508506,
     "user": {
      "displayName": "Daniel Gillick",
      "photoUrl": "https://lh3.googleusercontent.com/a-/AOh14Gg9DrSMlwYnG9EolecuJqe8n9m7fpcje4_UbYrhQ10=s64",
      "userId": "01872965353911650729"
     },
     "user_tz": 600
    },
    "id": "HQ-qATkhUj7c",
    "outputId": "eea86a69-fe6a-4cdb-ac8c-9307a5118e47"
   },
   "outputs": [
    {
     "name": "stdout",
     "output_type": "stream",
     "text": [
      "Largest ID: 88587\n"
     ]
    }
   ],
   "source": [
    "# The imdb dataset comes with an index mapping words to integers.\n",
    "# In the index the words are ordered by frequency they occur.\n",
    "index = imdb.get_word_index()\n",
    "\n",
    "# Because we used index_from=3 (above), setting aside ids below 3 for special\n",
    "# symbols, we need to add 3 to the index values.\n",
    "index = dict([(key, value+3) for (key, value) in index.items()])\n",
    "\n",
    "# Create a reverse index so we can lookup tokens assigned to each id.\n",
    "reverse_index = dict([(value, key) for (key, value) in index.items()])\n",
    "reverse_index[1] = '<START>'  # start of input\n",
    "reverse_index[2] = '#'        # out-of-vocabulary (OOV)\n",
    "reverse_index[3] = '<UNUSED>'\n",
    "\n",
    "max_id = max(reverse_index.keys())\n",
    "print('Largest ID:', max_id)"
   ]
  },
  {
   "cell_type": "markdown",
   "metadata": {
    "id": "h76-b07ehWNQ"
   },
   "source": [
    "Note that our index (and reverse index) have over 88,000 tokens. That's quite a large vocabulary! Let's also write a decoding function for our data."
   ]
  },
  {
   "cell_type": "code",
   "execution_count": 4,
   "metadata": {
    "colab": {
     "base_uri": "https://localhost:8080/"
    },
    "executionInfo": {
     "elapsed": 358,
     "status": "ok",
     "timestamp": 1646684531998,
     "user": {
      "displayName": "Daniel Gillick",
      "photoUrl": "https://lh3.googleusercontent.com/a-/AOh14Gg9DrSMlwYnG9EolecuJqe8n9m7fpcje4_UbYrhQ10=s64",
      "userId": "01872965353911650729"
     },
     "user_tz": 600
    },
    "id": "UjobmouHS5Dm",
    "outputId": "29975a48-7fda-4600-bd0c-693c35dd8a54"
   },
   "outputs": [
    {
     "name": "stdout",
     "output_type": "stream",
     "text": [
      "[1, 14, 22, 16, 43, 530, 973, 1622, 1385, 65, 458, 4468, 66, 3941, 4, 173, 36, 256, 5, 25, 100, 43, 838, 112, 50, 670, 22665, 9, 35, 480, 284, 5, 150, 4, 172, 112, 167, 21631, 336, 385, 39, 4, 172, 4536, 1111, 17, 546, 38, 13, 447, 4, 192, 50, 16, 6, 147, 2025, 19, 14, 22, 4, 1920, 4613, 469, 4, 22, 71, 87, 12, 16, 43, 530, 38, 76, 15, 13, 1247, 4, 22, 17, 515, 17, 12, 16, 626, 18, 19193, 5, 62, 386, 12, 8, 316, 8, 106, 5, 4, 2223, 5244, 16, 480, 66, 3785, 33, 4, 130, 12, 16, 38, 619, 5, 25, 124, 51, 36, 135, 48, 25, 1415, 33, 6, 22, 12, 215, 28, 77, 52, 5, 14, 407, 16, 82, 10311, 8, 4, 107, 117, 5952, 15, 256, 4, 31050, 7, 3766, 5, 723, 36, 71, 43, 530, 476, 26, 400, 317, 46, 7, 4, 12118, 1029, 13, 104, 88, 4, 381, 15, 297, 98, 32, 2071, 56, 26, 141, 6, 194, 7486, 18, 4, 226, 22, 21, 134, 476, 26, 480, 5, 144, 30, 5535, 18, 51, 36, 28, 224, 92, 25, 104, 4, 226, 65, 16, 38, 1334, 88, 12, 16, 283, 5, 16, 4472, 113, 103, 32, 15, 16, 5345, 19, 178, 32]\n",
      "<START> this film was just brilliant casting location scenery story direction everyone's really suited the part they played and you could just imagine being there robert redford's is an amazing actor and now the same being director norman's father came from the same scottish island as myself so i loved the fact there was a real connection with this film the witty remarks throughout the film were great it was just brilliant so much that i bought the film as soon as it was released for retail and would recommend it to everyone to watch and the fly fishing was amazing really cried at the end it was so sad and you know what they say if you cry at a film it must have been good and this definitely was also congratulations to the two little boy's that played the part's of norman and paul they were just brilliant children are often left out of the praising list i think because the stars that play them all grown up are such a big profile for the whole film but these children are amazing and should be praised for what they have done don't you think the whole story was so lovely because it was true and was someone's life after all that was shared with us all\n"
     ]
    }
   ],
   "source": [
    "def decode(token_ids):\n",
    "  \"\"\"Return a string with the decoded text given a list of token ids.\"\"\"\n",
    "  # Try looking up each id in the index, but return '#' (for OOV) if not found.\n",
    "  tokens = [reverse_index.get(i, \"#\") for i in token_ids]\n",
    "\n",
    "  # Connect the string tokens with a space.\n",
    "  return ' '.join(tokens)\n",
    "\n",
    "# Show the ids corresponding tokens in the first example.\n",
    "print(X_train[0])\n",
    "print(decode(X_train[0]))"
   ]
  },
  {
   "cell_type": "markdown",
   "metadata": {
    "id": "g47w5CackGBA"
   },
   "source": [
    "### Text Lengths\n",
    "As usual, let's start with some data analysis. How long are the reviews? Is there a difference in length between positive and negative reviews? A histogram will help answer these questions."
   ]
  },
  {
   "cell_type": "code",
   "execution_count": 5,
   "metadata": {
    "colab": {
     "base_uri": "https://localhost:8080/",
     "height": 305
    },
    "executionInfo": {
     "elapsed": 762,
     "status": "ok",
     "timestamp": 1646684547021,
     "user": {
      "displayName": "Daniel Gillick",
      "photoUrl": "https://lh3.googleusercontent.com/a-/AOh14Gg9DrSMlwYnG9EolecuJqe8n9m7fpcje4_UbYrhQ10=s64",
      "userId": "01872965353911650729"
     },
     "user_tz": 600
    },
    "id": "kEOgzo8Gk3r7",
    "outputId": "e7446ffd-10c5-4c64-a5bc-7cab81a1d73f"
   },
   "outputs": [
    {
     "data": {
      "image/png": "[encoded data removed]",
      "text/plain": [
       "<Figure size 640x480 with 1 Axes>"
      ]
     },
     "metadata": {},
     "output_type": "display_data"
    },
    {
     "name": "stdout",
     "output_type": "stream",
     "text": [
      "Longest positive review: 2494\n",
      "Longest negative review: 1571\n"
     ]
    }
   ],
   "source": [
    "# Create a list of lengths for training examples with a positive label.\n",
    "text_lengths_pos = [len(x) for (i, x) in enumerate(X_train) if Y_train[i]]\n",
    "\n",
    "# And a list of lengths for training examples with a negative label.\n",
    "text_lengths_neg = [len(x) for (i, x) in enumerate(X_train) if not Y_train[i]]\n",
    "\n",
    "# The histogram function can take a list of inputs and corresponding labels.\n",
    "plt.hist([text_lengths_pos, text_lengths_neg], bins=20, range=(0, 1000),\n",
    "         label=['positive', 'negative'])\n",
    "plt.legend()\n",
    "plt.show()\n",
    "\n",
    "# Also check the longest reviews.\n",
    "print('Longest positive review:', max(text_lengths_pos))\n",
    "print('Longest negative review:', max(text_lengths_neg))"
   ]
  },
  {
   "cell_type": "markdown",
   "metadata": {
    "id": "c3ZE9gpkml3a"
   },
   "source": [
    "---\n",
    "### Exercise 1: Token Counts (20 points)\n",
    "For each of the given tokens, construct a table with the number of positive training examples that include that token and the number of negative training examples that include that token. For reference, here are the counts for the first two tokens:\n",
    "\n",
    "|Token|Pos Count|Neg Count|\n",
    "|-|-|-|\n",
    "|good|4767|4849|\n",
    "|bad|1491|4396|"
   ]
  },
  {
   "cell_type": "code",
   "execution_count": 6,
   "metadata": {
    "id": "8YOYo6d01aWI"
   },
   "outputs": [],
   "source": [
    "tokens = ['good', 'bad', 'amazing', 'boring', 'laugh', 'cry']\n",
    "\n",
    "# Create a dictionary mapping each token to its id.\n",
    "token_ids = dict([(token, index[token]) for token in tokens])"
   ]
  },
  {
   "cell_type": "code",
   "execution_count": 7,
   "metadata": {},
   "outputs": [
    {
     "data": {
      "text/html": [
       "<div>\n",
       "<style scoped>\n",
       "    .dataframe tbody tr th:only-of-type {\n",
       "        vertical-align: middle;\n",
       "    }\n",
       "\n",
       "    .dataframe tbody tr th {\n",
       "        vertical-align: top;\n",
       "    }\n",
       "\n",
       "    .dataframe thead tr th {\n",
       "        text-align: left;\n",
       "    }\n",
       "</style>\n",
       "<table border=\"1\" class=\"dataframe\">\n",
       "  <thead>\n",
       "    <tr>\n",
       "      <th></th>\n",
       "      <th>Pos count</th>\n",
       "      <th>Neg count</th>\n",
       "    </tr>\n",
       "  </thead>\n",
       "  <tbody>\n",
       "    <tr>\n",
       "      <th>good</th>\n",
       "      <td>4767</td>\n",
       "      <td>4849</td>\n",
       "    </tr>\n",
       "    <tr>\n",
       "      <th>bad</th>\n",
       "      <td>1491</td>\n",
       "      <td>4396</td>\n",
       "    </tr>\n",
       "    <tr>\n",
       "      <th>amazing</th>\n",
       "      <td>868</td>\n",
       "      <td>240</td>\n",
       "    </tr>\n",
       "    <tr>\n",
       "      <th>boring</th>\n",
       "      <td>301</td>\n",
       "      <td>1205</td>\n",
       "    </tr>\n",
       "    <tr>\n",
       "      <th>laugh</th>\n",
       "      <td>525</td>\n",
       "      <td>685</td>\n",
       "    </tr>\n",
       "    <tr>\n",
       "      <th>cry</th>\n",
       "      <td>231</td>\n",
       "      <td>114</td>\n",
       "    </tr>\n",
       "  </tbody>\n",
       "</table>\n",
       "</div>"
      ],
      "text/plain": [
       "        Pos count Neg count\n",
       "good         4767      4849\n",
       "bad          1491      4396\n",
       "amazing       868       240\n",
       "boring        301      1205\n",
       "laugh         525       685\n",
       "cry           231       114"
      ]
     },
     "execution_count": 7,
     "metadata": {},
     "output_type": "execute_result"
    }
   ],
   "source": [
    "def check_tokens_in_review(X_train, Y_train, tokens, token_ids):\n",
    "    \"\"\"\n",
    "    Returns a dataframe with a column for each token and a row for each review.\n",
    "    The columns for each token is a 1 if the token is present in the review and 0 otherwise.\n",
    "\n",
    "    Params:\n",
    "        X_train: A list of reviews.\n",
    "        Y_train: A list of labels for each review.\n",
    "        token_ids: A dictionary mapping each token (string format) to its id.\n",
    "\n",
    "    Returns:\n",
    "        A dataframe with a column for each token and a row for each review.\n",
    "    \"\"\"\n",
    "    # Create a new dataframe that contains X_train and Y_train\n",
    "    df = pd.DataFrame(X_train, columns=['review']) ## Convert X_train to a dataframe\n",
    "    df['label'] = Y_train ## Join Y_train to the dataframe\n",
    "\n",
    "    # Create columns for each token and set the value to 1 if the token is present in the review.\n",
    "    for token in tokens:\n",
    "        df[token] = df['review'].apply(lambda x: 1 if token_ids[token] in x else 0)\n",
    "\n",
    "    # Delete the review column\n",
    "    del df['review']\n",
    "\n",
    "    # Remap the labels to strings\n",
    "    df['label'] = df['label'].map({0: 'Negative', 1: 'Positive'})\n",
    "\n",
    "    return df\n",
    "\n",
    "def count_tokens(df):\n",
    "    \"\"\"\n",
    "    Counts the number of reviews that contain each token for each label (positive and negative)\n",
    "    \n",
    "    Params:\n",
    "        df: A dataframe with a column for each token and a row for each review.\n",
    "\n",
    "    Returns:\n",
    "        A dataframe with a column for positive counts, a column for negative counts, and a row for each token\n",
    "    \"\"\"\n",
    "    # Create an empty dataframe to store the results\n",
    "    df_token_counts = pd.DataFrame()\n",
    "\n",
    "    # Loop through tokens\n",
    "    for token in tokens:\n",
    "        # Add a column with the token name and the number of reviews that contain the token\n",
    "        df_token_counts[token] = df[df[token] == 1]['label'].value_counts()\n",
    "\n",
    "    # Pivot the dataframe so that the index is the label and the columns are the tokens\n",
    "    df_token_counts = df_token_counts.transpose()\n",
    "\n",
    "    # Reorder the columns\n",
    "    df_token_counts = df_token_counts[['Positive', 'Negative']]\n",
    "\n",
    "    # Rename the columns\n",
    "    df_token_counts.columns = [['Pos count', 'Neg count']]\n",
    "\n",
    "    return df_token_counts\n",
    "\n",
    "df_token_counts = count_tokens(check_tokens_in_review(X_train, Y_train, tokens, token_ids))\n",
    "df_token_counts"
   ]
  },
  {
   "cell_type": "markdown",
   "metadata": {},
   "source": [
    "---"
   ]
  },
  {
   "cell_type": "markdown",
   "metadata": {
    "id": "hhzt-LnQ1m8w"
   },
   "source": [
    "## Feature Representation\n",
    "Consider the difference between the pixel features we used for image classification and the text features we are now dealing with.\n",
    "\n",
    "An image had 784 pixel positions. At each position, there is a single value in [0,1] (after normalization).\n",
    "\n",
    "In contrast, a review has a variable number of ordered tokens (up to 2494 in the training examples). Each token occurs in a particular position. We can think of the token positions much like the 784 pixel positions, except that some of the trailing positions are empty, since review lengths vary.  At each token position, there is a single token, one of the 88587 entries in the vocabulary. So we can think of a review as a (2500, 90000) matrix: At each of ~2500 token positions, we have 1 of ~90000 token ids.\n",
    "\n",
    "This representation would have 2500 * 90000 = 225 million features -- quite a lot more complexity than the images, though as you'll see below, we will make some simplifying assumptions, reducing both the number of token positions and the number of vocabulary items."
   ]
  },
  {
   "cell_type": "markdown",
   "metadata": {
    "id": "Jm_F5JmWyfko"
   },
   "source": [
    "### Padding and Reduced Length\n",
    "As is clear from the length histogram, the current representation of the review text is a variable-length array. Since fixed-length arrays are easier to work with in Tensorflow, let's add special padding tokens at the end of each review until they are all the same length.\n",
    "\n",
    "We'll also use this operation to limit the number of token positions by truncating all reviews to a specified length. In the code below, as an example, we pad all training inputs to length 300."
   ]
  },
  {
   "cell_type": "code",
   "execution_count": 8,
   "metadata": {
    "colab": {
     "base_uri": "https://localhost:8080/"
    },
    "executionInfo": {
     "elapsed": 766,
     "status": "ok",
     "timestamp": 1646684609342,
     "user": {
      "displayName": "Daniel Gillick",
      "photoUrl": "https://lh3.googleusercontent.com/a-/AOh14Gg9DrSMlwYnG9EolecuJqe8n9m7fpcje4_UbYrhQ10=s64",
      "userId": "01872965353911650729"
     },
     "user_tz": 600
    },
    "id": "a4ou8bSUCWOx",
    "outputId": "be4bc9e1-47aa-4f82-e23b-569f8d6128a4"
   },
   "outputs": [
    {
     "name": "stdout",
     "output_type": "stream",
     "text": [
      "Length of X_train[0]: 218\n",
      "Length of X_train_padded[0]: 300\n",
      "[    1    14    22    16    43   530   973  1622  1385    65   458  4468\n",
      "    66  3941     4   173    36   256     5    25   100    43   838   112\n",
      "    50   670 22665     9    35   480   284     5   150     4   172   112\n",
      "   167 21631   336   385    39     4   172  4536  1111    17   546    38\n",
      "    13   447     4   192    50    16     6   147  2025    19    14    22\n",
      "     4  1920  4613   469     4    22    71    87    12    16    43   530\n",
      "    38    76    15    13  1247     4    22    17   515    17    12    16\n",
      "   626    18 19193     5    62   386    12     8   316     8   106     5\n",
      "     4  2223  5244    16   480    66  3785    33     4   130    12    16\n",
      "    38   619     5    25   124    51    36   135    48    25  1415    33\n",
      "     6    22    12   215    28    77    52     5    14   407    16    82\n",
      " 10311     8     4   107   117  5952    15   256     4 31050     7  3766\n",
      "     5   723    36    71    43   530   476    26   400   317    46     7\n",
      "     4 12118  1029    13   104    88     4   381    15   297    98    32\n",
      "  2071    56    26   141     6   194  7486    18     4   226    22    21\n",
      "   134   476    26   480     5   144    30  5535    18    51    36    28\n",
      "   224    92    25   104     4   226    65    16    38  1334    88    12\n",
      "    16   283     5    16  4472   113   103    32    15    16  5345    19\n",
      "   178    32     0     0     0     0     0     0     0     0     0     0\n",
      "     0     0     0     0     0     0     0     0     0     0     0     0\n",
      "     0     0     0     0     0     0     0     0     0     0     0     0\n",
      "     0     0     0     0     0     0     0     0     0     0     0     0\n",
      "     0     0     0     0     0     0     0     0     0     0     0     0\n",
      "     0     0     0     0     0     0     0     0     0     0     0     0\n",
      "     0     0     0     0     0     0     0     0     0     0     0     0]\n"
     ]
    }
   ],
   "source": [
    "def pad_data(sequences, max_length):\n",
    "  # Keras has a convenient utility for padding a sequence.\n",
    "  # Also make sure we get a numpy array rather than an array of lists.\n",
    "  return np.array(list(\n",
    "      tf.keras.preprocessing.sequence.pad_sequences(\n",
    "          sequences, maxlen=max_length, padding='post', value=0)))\n",
    "\n",
    "# Pad and truncate to 300 tokens.\n",
    "X_train_padded = pad_data(X_train, max_length=300)\n",
    "\n",
    "# Check the padded output.\n",
    "print('Length of X_train[0]:', len(X_train[0]))\n",
    "print('Length of X_train_padded[0]:', len(X_train_padded[0]))\n",
    "print(X_train_padded[0])"
   ]
  },
  {
   "cell_type": "markdown",
   "metadata": {
    "id": "lFEmcwBjL4e_"
   },
   "source": [
    "### Reduced Vocabulary\n",
    "We also want to be able to limit the vocabulary size. Since our padding function produces fixed-length sequences in a numpy matrix, we can use clever numpy indexing to efficiently replace all token ids larger than some value with the designated out-of-vocabulary (OOV) id.\n",
    "\n",
    "In the code below, as an example, we'll keep just token ids less than 1000, replacing all others with OOV."
   ]
  },
  {
   "cell_type": "code",
   "execution_count": 9,
   "metadata": {
    "colab": {
     "base_uri": "https://localhost:8080/"
    },
    "executionInfo": {
     "elapsed": 347,
     "status": "ok",
     "timestamp": 1646684634116,
     "user": {
      "displayName": "Daniel Gillick",
      "photoUrl": "https://lh3.googleusercontent.com/a-/AOh14Gg9DrSMlwYnG9EolecuJqe8n9m7fpcje4_UbYrhQ10=s64",
      "userId": "01872965353911650729"
     },
     "user_tz": 600
    },
    "id": "21qpyEgGNQeB",
    "outputId": "148ce890-4376-4c5a-f96a-9fb50cbe9538"
   },
   "outputs": [
    {
     "name": "stdout",
     "output_type": "stream",
     "text": [
      "[  1  14  22  16  43 530 973   2   2  65 458   2  66   2   4 173  36 256\n",
      "   5  25 100  43 838 112  50 670   2   9  35 480 284   5 150   4 172 112\n",
      " 167   2 336 385  39   4 172   2   2  17 546  38  13 447   4 192  50  16\n",
      "   6 147   2  19  14  22   4   2   2 469   4  22  71  87  12  16  43 530\n",
      "  38  76  15  13   2   4  22  17 515  17  12  16 626  18   2   5  62 386\n",
      "  12   8 316   8 106   5   4   2   2  16 480  66   2  33   4 130  12  16\n",
      "  38 619   5  25 124  51  36 135  48  25   2  33   6  22  12 215  28  77\n",
      "  52   5  14 407  16  82   2   8   4 107 117   2  15 256   4   2   7   2\n",
      "   5 723  36  71  43 530 476  26 400 317  46   7   4   2   2  13 104  88\n",
      "   4 381  15 297  98  32   2  56  26 141   6 194   2  18   4 226  22  21\n",
      " 134 476  26 480   5 144  30   2  18  51  36  28 224  92  25 104   4 226\n",
      "  65  16  38   2  88  12  16 283   5  16   2 113 103  32  15  16   2  19\n",
      " 178  32   0   0   0   0   0   0   0   0   0   0   0   0   0   0   0   0\n",
      "   0   0   0   0   0   0   0   0   0   0   0   0   0   0   0   0   0   0\n",
      "   0   0   0   0   0   0   0   0   0   0   0   0   0   0   0   0   0   0\n",
      "   0   0   0   0   0   0   0   0   0   0   0   0   0   0   0   0   0   0\n",
      "   0   0   0   0   0   0   0   0   0   0   0   0]\n",
      "<START> this film was just brilliant casting # # story direction # really # the part they played and you could just imagine being there robert # is an amazing actor and now the same being director # father came from the same # # as myself so i loved the fact there was a real # with this film the # # throughout the film were great it was just brilliant so much that i # the film as soon as it was released for # and would recommend it to everyone to watch and the # # was amazing really # at the end it was so sad and you know what they say if you # at a film it must have been good and this definitely was also # to the two little # that played the # of # and paul they were just brilliant children are often left out of the # # i think because the stars that play them all # up are such a big # for the whole film but these children are amazing and should be # for what they have done don't you think the whole story was so # because it was true and was # life after all that was # with us all # # # # # # # # # # # # # # # # # # # # # # # # # # # # # # # # # # # # # # # # # # # # # # # # # # # # # # # # # # # # # # # # # # # # # # # # # # # # # # # # # #\n"
     ]
    }
   ],
   "source": [
    "def limit_vocab(sequences, max_token_id, oov_id=2):\n",
    "  \"\"\"Replace token ids greater than or equal to max_token_id with the oov_id.\"\"\"\n",
    "  reduced_sequences = np.copy(sequences)\n",
    "  reduced_sequences[reduced_sequences >= max_token_id] = oov_id\n",
    "  return reduced_sequences\n",
    "\n",
    "# Reduce vocabulary to 1000 tokens.\n",
    "X_train_reduced = limit_vocab(X_train_padded, max_token_id=1000)\n",
    "print(X_train_reduced[0])\n",
    "\n",
    "# Decode to see what this looks like in tokens. Note the '#' for OOVs.\n",
    "print(decode(X_train_reduced[0]))"
   ]
  },
  {
   "cell_type": "markdown",
   "metadata": {
    "id": "d24mOPC6ybC4"
   },
   "source": [
    "### One-hot Encoding\n",
    "Our current feature representations are **sparse**. That is, we only keep track of the token ids that are present in the input. A **one-hot** encoding replaces a value like 22 (corresponding to 'film') with an array with a single 1 at position 22 and zeros everywhere else. This will be very memory-inefficient, but we'll do it anyway for clarity.\n",
    "\n",
    "As discussed above, let's dramatically reduce both the number of token positions (review length) and the number of token ids (vocabulary). We'll clip each review after 20 tokens (so 2500 -> 20) and keep only the most common 1000 tokens (so 90000 -> 1000)."
   ]
  },
  {
   "cell_type": "code",
   "execution_count": 10,
   "metadata": {
    "colab": {
     "base_uri": "https://localhost:8080/"
    },
    "executionInfo": {
     "elapsed": 1777,
     "status": "ok",
     "timestamp": 1646684668163,
     "user": {
      "displayName": "Daniel Gillick",
      "photoUrl": "https://lh3.googleusercontent.com/a-/AOh14Gg9DrSMlwYnG9EolecuJqe8n9m7fpcje4_UbYrhQ10=s64",
      "userId": "01872965353911650729"
     },
     "user_tz": 600
    },
    "id": "EXzkqVL3Jufj",
    "outputId": "69a06ea3-61e2-4d2b-ed57-69c51ee2c5f4"
   },
   "outputs": [
    {
     "name": "stdout",
     "output_type": "stream",
     "text": [
      "X_train_reduced shape: (25000, 20)\n",
      "X_train_one_hot shape: (25000, 20, 1000)\n"
     ]
    }
   ],
   "source": [
    "# Keras has a util to create one-hot encodings.\n",
    "X_train_padded = pad_data(X_train, max_length=20)\n",
    "X_train_reduced = limit_vocab(X_train_padded, max_token_id=1000)\n",
    "print('X_train_reduced shape:', X_train_reduced.shape)\n",
    "X_train_one_hot = tf.keras.utils.to_categorical(X_train_reduced)\n",
    "print('X_train_one_hot shape:', X_train_one_hot.shape)"
   ]
  },
  {
   "cell_type": "markdown",
   "metadata": {
    "id": "B5RvIN4w66Ej"
   },
   "source": [
    "Note the shape of the one-hot encoded features. For each of our 25000 training examples, we have a 20 x 1000 matrix. That is, for each of 20 token positions, we have a vector of 1000 elements containing a single 1 and 999 zeros.\n",
    "\n",
    "We can think of these 1000-dimensional one-hot arrays as **embeddings**. Each token in the input has a 1000-dimensional representation. But because of the one-hot setup, the distance between each pair of tokens is the same ([1,0,0,...], [0,1,0,...], etc.). By contrast, learned embeddings result in meaningful distances between pairs of tokens. We'll get to that soon."
   ]
  },
  {
   "cell_type": "markdown",
   "metadata": {
    "id": "296Cnt647b5c"
   },
   "source": [
    "## Logistic Regression with One-Hot Encodings\n",
    "Let's start with something familiar -- logistic regression. Since our feature representation is in 2 dimensions (20 x 1000), we need to flatten it to pass it to Keras (remember we did this with the pixel data too). Let's try two strategies for flattening.\n",
    "\n",
    "1. Flatten by *concatenating* (as we did with pixels), turning (20 x 1000) data into (20000,) data. The result is a separate feature for each token at each position.\n",
    "2. Flatten by *averaging* over token positions, turning (20 x 1000) data into (1000,) data. The result is an array with average token counts, ignoring position.\n",
    "\n",
    "NOTE: Our prior assignments have used the standard Stochastic Gradient Descent (SGD) optimizer to compute the gradient from an estimate of the loss (based on the current mini-batch). There are many alternative optimizers. Here we'll use the **Adam** optimizer, which sometimes gives better results. One key characteristic of Adam is that it effectively uses a different learning rate for each parameter rather than a fixed learning rate as in SGD."
   ]
  },
  {
   "cell_type": "code",
   "execution_count": 11,
   "metadata": {
    "id": "6m6eebM-0dUW"
   },
   "outputs": [],
   "source": [
    "def build_onehot_model(average_over_positions=False):\n",
    "  \"\"\"Build a tf.keras model for one-hot data.\"\"\"\n",
    "  # Clear session and remove randomness.\n",
    "  tf.keras.backend.clear_session()\n",
    "  tf.random.set_seed(0)\n",
    "\n",
    "  model = tf.keras.Sequential()\n",
    "  if average_over_positions:\n",
    "    # This layer averages over the first dimension of the input by default.\n",
    "    model.add(tf.keras.layers.GlobalAveragePooling1D())\n",
    "  else:\n",
    "    # Concatenate.\n",
    "    model.add(tf.keras.layers.Flatten())\n",
    "  model.add(tf.keras.layers.Dense(\n",
    "      units=1,                     # output dim (for binary classification)\n",
    "      activation=\"sigmoid\"         # sigmoid activation for classification\n",
    "  ))\n",
    "\n",
    "  model.compile(loss='binary_crossentropy',   # this is a classification task\n",
    "                optimizer='adam',             # fancy optimizer\n",
    "                metrics=['accuracy'])\n",
    "\n",
    "  return model"
   ]
  },
  {
   "cell_type": "markdown",
   "metadata": {
    "id": "NY3W_1-OSZ2X"
   },
   "source": [
    "Now let's try fitting the model to our training data and check performance metrics on the validation (held-out) data. But first, here's a function for plotting the learning curves given the training history object we get from Keras."
   ]
  },
  {
   "cell_type": "code",
   "execution_count": 12,
   "metadata": {
    "id": "cOVmajSuMjN6"
   },
   "outputs": [],
   "source": [
    "def plot_history(history):\n",
    "  plt.ylabel('Loss')\n",
    "  plt.xlabel('Epoch')\n",
    "  plt.xticks(range(0, len(history['loss'] + 1)))\n",
    "  plt.plot(history['loss'], label=\"training\", marker='o')\n",
    "  plt.plot(history['val_loss'], label=\"validation\", marker='o')\n",
    "  plt.legend()\n",
    "  plt.show()"
   ]
  },
  {
   "cell_type": "code",
   "execution_count": 13,
   "metadata": {
    "colab": {
     "base_uri": "https://localhost:8080/",
     "height": 478
    },
    "executionInfo": {
     "elapsed": 22140,
     "status": "ok",
     "timestamp": 1646684718388,
     "user": {
      "displayName": "Daniel Gillick",
      "photoUrl": "https://lh3.googleusercontent.com/a-/AOh14Gg9DrSMlwYnG9EolecuJqe8n9m7fpcje4_UbYrhQ10=s64",
      "userId": "01872965353911650729"
     },
     "user_tz": 600
    },
    "id": "MyE4PgX70_op",
    "outputId": "3de05dfa-f372-4b77-ba43-f212c2f47c1e"
   },
   "outputs": [
    {
     "name": "stdout",
     "output_type": "stream",
     "text": [
      "Epoch 1/5\n"
     ]
    },
    {
     "name": "stderr",
     "output_type": "stream",
     "text": [
      "2023-07-13 11:34:24.664370: W tensorflow/tsl/platform/profile_utils/cpu_utils.cc:128] Failed to get CPU frequency: 0 Hz\n"
     ]
    },
    {
     "name": "stdout",
     "output_type": "stream",
     "text": [
      "352/352 [==============================] - 3s 8ms/step - loss: 0.6789 - accuracy: 0.6120 - val_loss: 0.6665 - val_accuracy: 0.6444\n",
      "Epoch 2/5\n",
      "352/352 [==============================] - 2s 7ms/step - loss: 0.6336 - accuracy: 0.7430 - val_loss: 0.6459 - val_accuracy: 0.6660\n",
      "Epoch 3/5\n",
      "352/352 [==============================] - 3s 7ms/step - loss: 0.5969 - accuracy: 0.7755 - val_loss: 0.6297 - val_accuracy: 0.6776\n",
      "Epoch 4/5\n",
      "352/352 [==============================] - 3s 7ms/step - loss: 0.5668 - accuracy: 0.7969 - val_loss: 0.6185 - val_accuracy: 0.6792\n",
      "Epoch 5/5\n",
      "352/352 [==============================] - 3s 8ms/step - loss: 0.5412 - accuracy: 0.8085 - val_loss: 0.6093 - val_accuracy: 0.6804\n"
     ]
    },
    {
     "data": {
      "image/png": "[encoded data removed]",
      "text/plain": [
       "<Figure size 640x480 with 1 Axes>"
      ]
     },
     "metadata": {},
     "output_type": "display_data"
    }
   ],
   "source": [
    "model = build_onehot_model()\n",
    "\n",
    "# Fit the model.\n",
    "history = model.fit(\n",
    "  x = X_train_one_hot,  # one-hot training data\n",
    "  y = Y_train,          # corresponding binary labels\n",
    "  epochs=5,             # number of passes through the training data\n",
    "  batch_size=64,        # mini-batch size\n",
    "  validation_split=0.1, # use a fraction of the examples for validation\n",
    "  verbose=1             # display some progress output during training\n",
    "  )\n",
    "\n",
    "# Convert the return value into a DataFrame so we can see the train loss \n",
    "# and binary accuracy after every epoch.\n",
    "history = pd.DataFrame(history.history)\n",
    "plot_history(history)"
   ]
  },
  {
   "cell_type": "markdown",
   "metadata": {
    "id": "QuCh9aQPv7F_"
   },
   "source": [
    "---\n",
    "### Exercise 2: Comparing logistic regrerssion models (20 points)\n",
    "Train the one-hot model using both the concatenating and the averaging strategies and compare the results. Let's call these *LR-C* (Logistic Regression Concatenating) and *LR-A* (Logistic Regression Averaging). Then answer the following questions:\n",
    "\n",
    "1. What are the final training and validation accuracies for LR-C and LR-A?\n",
    "2. How many parameters are there in each model?\n",
    "3. Would you say that either model is overfitting? Why or why not?\n",
    "4. Briefly describe how LR-C differs from LR-A. How do you explain the relationship between their respective validation accuracy results? "
   ]
  },
  {
   "cell_type": "code",
   "execution_count": 14,
   "metadata": {},
   "outputs": [
    {
     "name": "stdout",
     "output_type": "stream",
     "text": [
      "LR-C model\n",
      "Epoch 1/5\n",
      "352/352 [==============================] - 3s 9ms/step - loss: 0.6790 - accuracy: 0.6101 - val_loss: 0.6656 - val_accuracy: 0.6580\n",
      "Epoch 2/5\n",
      "352/352 [==============================] - 3s 8ms/step - loss: 0.6337 - accuracy: 0.7439 - val_loss: 0.6451 - val_accuracy: 0.6744\n",
      "Epoch 3/5\n",
      "352/352 [==============================] - 3s 8ms/step - loss: 0.5970 - accuracy: 0.7774 - val_loss: 0.6290 - val_accuracy: 0.6820\n",
      "Epoch 4/5\n",
      "352/352 [==============================] - 3s 8ms/step - loss: 0.5668 - accuracy: 0.7968 - val_loss: 0.6179 - val_accuracy: 0.6796\n",
      "Epoch 5/5\n",
      "352/352 [==============================] - 3s 8ms/step - loss: 0.5412 - accuracy: 0.8103 - val_loss: 0.6087 - val_accuracy: 0.6824\n",
      "Model: \"sequential\"\n",
      "_________________________________________________________________\n",
      " Layer (type)                Output Shape              Param #   \n",
      "=================================================================\n",
      " flatten (Flatten)           (None, 20000)             0         \n",
      "                                                                 \n",
      " dense (Dense)               (None, 1)                 20001     \n",
      "                                                                 \n",
      "=================================================================\n",
      "Total params: 20,001\n",
      "Trainable params: 20,001\n",
      "Non-trainable params: 0\n",
      "_________________________________________________________________\n",
      "None\n"
     ]
    },
    {
     "data": {
      "image/png": "[encoded data removed]",
      "text/plain": [
       "<Figure size 640x480 with 1 Axes>"
      ]
     },
     "metadata": {},
     "output_type": "display_data"
    },
    {
     "name": "stdout",
     "output_type": "stream",
     "text": [
      "Final training accuracy: 0.8103111386299133\n",
      "Final validation accuracy: 0.6823999881744385\n",
      "\n",
      "LR-A model\n",
      "Epoch 1/5\n",
      "352/352 [==============================] - 3s 9ms/step - loss: 0.6905 - accuracy: 0.5976 - val_loss: 0.6883 - val_accuracy: 0.6308\n",
      "Epoch 2/5\n",
      "352/352 [==============================] - 3s 8ms/step - loss: 0.6854 - accuracy: 0.6648 - val_loss: 0.6837 - val_accuracy: 0.6604\n",
      "Epoch 3/5\n",
      "352/352 [==============================] - 3s 8ms/step - loss: 0.6805 - accuracy: 0.6707 - val_loss: 0.6790 - val_accuracy: 0.6796\n",
      "Epoch 4/5\n",
      "352/352 [==============================] - 3s 8ms/step - loss: 0.6758 - accuracy: 0.6905 - val_loss: 0.6748 - val_accuracy: 0.6824\n",
      "Epoch 5/5\n",
      "352/352 [==============================] - 3s 8ms/step - loss: 0.6713 - accuracy: 0.6945 - val_loss: 0.6708 - val_accuracy: 0.6832\n",
      "Model: \"sequential\"\n",
      "_________________________________________________________________\n",
      " Layer (type)                Output Shape              Param #   \n",
      "=================================================================\n",
      " global_average_pooling1d (G  (None, 1000)             0         \n",
      " lobalAveragePooling1D)                                          \n",
      "                                                                 \n",
      " dense (Dense)               (None, 1)                 1001      \n",
      "                                                                 \n",
      "=================================================================\n",
      "Total params: 1,001\n",
      "Trainable params: 1,001\n",
      "Non-trainable params: 0\n",
      "_________________________________________________________________\n",
      "None\n"
     ]
    },
    {
     "data": {
      "image/png": "[encoded data removed]",
      "text/plain": [
       "<Figure size 640x480 with 1 Axes>"
      ]
     },
     "metadata": {},
     "output_type": "display_data"
    },
    {
     "name": "stdout",
     "output_type": "stream",
     "text": [
      "Final training accuracy: 0.6945333480834961\n",
      "Final validation accuracy: 0.6832000017166138\n",
      "\n"
     ]
    }
   ],
   "source": [
    "def log_regression_experiments(average_over_positions):\n",
    "    \"\"\"Run logistic regression experiments based on whether average_over_positions is True or False.\"\"\"\n",
    "    print(\"LR-A model\") if average_over_positions else print (\"LR-C model\")\n",
    "\n",
    "    model = build_onehot_model(average_over_positions=average_over_positions)\n",
    "\n",
    "    # Fit the model.\n",
    "    history = model.fit(\n",
    "    x = X_train_one_hot,  # one-hot training data\n",
    "    y = Y_train,          # corresponding binary labels\n",
    "    epochs=5,             # number of passes through the training data\n",
    "    batch_size=64,        # mini-batch size\n",
    "    validation_split=0.1, # use a fraction of the examples for validation\n",
    "    verbose=1             # display some progress output during training\n",
    "    )\n",
    "\n",
    "    # Convert the return value into a DataFrame so we can see the train loss \n",
    "    # and binary accuracy after every epoch.\n",
    "    history = pd.DataFrame(history.history)\n",
    "    \n",
    "    # Print model summary to list the number of parameters\n",
    "    print(model.summary())   \n",
    "\n",
    "    # Plot the training and validation loss\n",
    "    plot_history(history)\n",
    "    \n",
    "    # Print the final training and validation accuracy\n",
    "    print(\"Final training accuracy:\", history['accuracy'].iloc[-1])\n",
    "    print(\"Final validation accuracy:\", history['val_accuracy'].iloc[-1])\n",
    "    print()\n",
    "\n",
    "log_regression_experiments(average_over_positions=False)\n",
    "log_regression_experiments(average_over_positions=True)\n"
   ]
  },
  {
   "cell_type": "markdown",
   "metadata": {
    "id": "CEAN5BejHc__"
   },
   "source": [
    "*Written answers:*\n",
    "\n",
    "1. The final training and validation accuracies are 0.810 and 0.681, respectively for the LR-C model. The final training and validation accuracies are 0.700 and 0.695, respectively for the LR-A model.\n",
    "2. The LR-C model has 20,001 parameters (20,000 weights for each row of the input vector + 1 bias term) while the LR-A model has 1,001 parameters (1,000 weights for each row of the input vector + 1 bias term)\n",
    "3. The LR-C model appears to be overfitting due to a larger gap between training and validation accuracies. The LR-C model has a difference of 0.129 between the training accuracy (0.810) and validation accuracy (0.681). This suggests that the LR-C model is performing much better on the training data compared to the validation data, suggesting that it maybe memorizing the training data and is not generalizing well. In contrast, the LR-A model has a much smaller gap (0.005) between training accuracy (0.700) and validation accuracy (0.695), which suggests that it is less prone to overfitting and is more generalizeable for unseen data.\n",
    "4. Since LR-C uses a concatenation strategy, the LR-C model maintains the full complexity of the original one-hot encodings, which itself includes noise and redundancy, potentially contributing to it overfitting the training data. In contrast, the LR-A model uses an averaging strategy which \"smoothes\" out the noise, and simplifies the feature representation, promoting better generalization and performance. This is why the LR-A outperforms the LR-C both in terms of absolute validation accuracy and the variance (difference between training and validation accuracy)\n"
   ]
  },
  {
   "cell_type": "markdown",
   "metadata": {},
   "source": [
    "---"
   ]
  },
  {
   "cell_type": "markdown",
   "metadata": {
    "id": "sJIBRqK7lsjG"
   },
   "source": [
    "## Logistic Regression with Embeddings\n",
    "Next, let's train model that replaces one-hot representations of each token with learned embeddings.\n",
    "\n",
    "The code below uses a Keras Embedding layer, which expects to receive a sparse (rather than one-hot) representation. That is, it expects a (padded) sequence of token ids; for each id, it looks up the corresponding embedding vector."
   ]
  },
  {
   "cell_type": "code",
   "execution_count": 15,
   "metadata": {
    "id": "ho6uOeCaBs2e"
   },
   "outputs": [],
   "source": [
    "def build_embeddings_model(average_over_positions=False,\n",
    "                           vocab_size=1000,\n",
    "                           sequence_length=20,\n",
    "                           embedding_dim=2):\n",
    "  \"\"\"Build a tf.keras model using embeddings.\"\"\"\n",
    "  # Clear session and remove randomness.\n",
    "  tf.keras.backend.clear_session()\n",
    "  tf.random.set_seed(0)\n",
    "\n",
    "  model = tf.keras.Sequential()\n",
    "  model.add(tf.keras.layers.Embedding(\n",
    "      input_dim=vocab_size,\n",
    "      output_dim=embedding_dim,\n",
    "      input_length=sequence_length)\n",
    "  )\n",
    "\n",
    "  if average_over_positions:\n",
    "    # This layer averages over the first dimension of the input by default.\n",
    "    model.add(tf.keras.layers.GlobalAveragePooling1D())\n",
    "  else:\n",
    "    # Concatenate.\n",
    "    model.add(tf.keras.layers.Flatten())\n",
    "  model.add(tf.keras.layers.Dense(\n",
    "      units=1,                     # output dim (for binary classification)\n",
    "      activation='sigmoid'         # apply the sigmoid function!\n",
    "  ))\n",
    "\n",
    "  model.compile(loss='binary_crossentropy', \n",
    "                optimizer='adam',\n",
    "                metrics=['accuracy'])\n",
    "\n",
    "  return model"
   ]
  },
  {
   "cell_type": "markdown",
   "metadata": {
    "id": "eyhoEjAiFSNB"
   },
   "source": [
    "Try training the model as before. We'll use the averaging strategy rather than the concatenating strategy for dealing with the token sequence. That is, we'll look up embedding vectors for each token. Then we'll average them to produce a single vector. Then we'll traing a logistic regression with that vector as input to predict the binary label."
   ]
  },
  {
   "cell_type": "code",
   "execution_count": 16,
   "metadata": {
    "colab": {
     "base_uri": "https://localhost:8080/",
     "height": 478
    },
    "executionInfo": {
     "elapsed": 5490,
     "status": "ok",
     "timestamp": 1646684762935,
     "user": {
      "displayName": "Daniel Gillick",
      "photoUrl": "https://lh3.googleusercontent.com/a-/AOh14Gg9DrSMlwYnG9EolecuJqe8n9m7fpcje4_UbYrhQ10=s64",
      "userId": "01872965353911650729"
     },
     "user_tz": 600
    },
    "id": "uYUE5UwkxoU8",
    "outputId": "20a4c237-8c49-4b24-9ea1-e0f325cb9908"
   },
   "outputs": [
    {
     "name": "stdout",
     "output_type": "stream",
     "text": [
      "Epoch 1/5\n",
      "352/352 [==============================] - 4s 11ms/step - loss: 0.6864 - accuracy: 0.6317 - val_loss: 0.6784 - val_accuracy: 0.6620\n",
      "Epoch 2/5\n",
      "352/352 [==============================] - 3s 9ms/step - loss: 0.6653 - accuracy: 0.6900 - val_loss: 0.6551 - val_accuracy: 0.6864\n",
      "Epoch 3/5\n",
      "352/352 [==============================] - 3s 10ms/step - loss: 0.6382 - accuracy: 0.7031 - val_loss: 0.6294 - val_accuracy: 0.6952\n",
      "Epoch 4/5\n",
      "352/352 [==============================] - 4s 10ms/step - loss: 0.6115 - accuracy: 0.7147 - val_loss: 0.6074 - val_accuracy: 0.7072\n",
      "Epoch 5/5\n",
      "352/352 [==============================] - 4s 10ms/step - loss: 0.5882 - accuracy: 0.7210 - val_loss: 0.5895 - val_accuracy: 0.7128\n"
     ]
    },
    {
     "data": {
      "image/png": "[encoded data removed]",
      "text/plain": [
       "<Figure size 640x480 with 1 Axes>"
      ]
     },
     "metadata": {},
     "output_type": "display_data"
    }
   ],
   "source": [
    "model = build_embeddings_model(average_over_positions=True,\n",
    "                               vocab_size=1000,\n",
    "                               sequence_length=20,\n",
    "                               embedding_dim=2)\n",
    "history = model.fit(\n",
    "  x = X_train_reduced,  # our sparse padded training data\n",
    "  y = Y_train,          # corresponding binary labels\n",
    "  epochs=5,             # number of passes through the training data\n",
    "  batch_size=64,        # mini-batch size\n",
    "  validation_split=0.1, # use a fraction of the examples for validation\n",
    "  verbose=1             # display some progress output during training\n",
    "  )\n",
    "\n",
    "history = pd.DataFrame(history.history)\n",
    "plot_history(history)"
   ]
  },
  {
   "cell_type": "markdown",
   "metadata": {
    "id": "V3k__61hFnag"
   },
   "source": [
    "---\n",
    "### Exercise 3: Experiments with embeddings (20 points)\n",
    "Train 6 models with embedding sizes in [2,4,8,16,32,64], keeping other settings fixed. Use the averaging strategy rather than the concatenating strategy.\n",
    "\n",
    "1. Construct a table with the training and validation accuracies of each model (after 5 training epochs).\n",
    "2. Compute the number of parameters in each model.\n",
    "3. Do learned embeddings appear to provide improved performance over the one-hot encoding? Why?"
   ]
  },
  {
   "cell_type": "code",
   "execution_count": 17,
   "metadata": {},
   "outputs": [
    {
     "data": {
      "text/html": [
       "<div>\n",
       "<style scoped>\n",
       "    .dataframe tbody tr th:only-of-type {\n",
       "        vertical-align: middle;\n",
       "    }\n",
       "\n",
       "    .dataframe tbody tr th {\n",
       "        vertical-align: top;\n",
       "    }\n",
       "\n",
       "    .dataframe thead th {\n",
       "        text-align: right;\n",
       "    }\n",
       "</style>\n",
       "<table border=\"1\" class=\"dataframe\">\n",
       "  <thead>\n",
       "    <tr style=\"text-align: right;\">\n",
       "      <th></th>\n",
       "      <th>Embedding size</th>\n",
       "      <th>Training accuracy</th>\n",
       "      <th>Validation accuracy</th>\n",
       "      <th>Number of parameters</th>\n",
       "    </tr>\n",
       "  </thead>\n",
       "  <tbody>\n",
       "    <tr>\n",
       "      <th>0</th>\n",
       "      <td>2</td>\n",
       "      <td>0.719689</td>\n",
       "      <td>0.7124</td>\n",
       "      <td>2003</td>\n",
       "    </tr>\n",
       "    <tr>\n",
       "      <th>1</th>\n",
       "      <td>4</td>\n",
       "      <td>0.730311</td>\n",
       "      <td>0.7148</td>\n",
       "      <td>4005</td>\n",
       "    </tr>\n",
       "    <tr>\n",
       "      <th>2</th>\n",
       "      <td>8</td>\n",
       "      <td>0.742089</td>\n",
       "      <td>0.7204</td>\n",
       "      <td>8009</td>\n",
       "    </tr>\n",
       "    <tr>\n",
       "      <th>3</th>\n",
       "      <td>16</td>\n",
       "      <td>0.748267</td>\n",
       "      <td>0.7264</td>\n",
       "      <td>16017</td>\n",
       "    </tr>\n",
       "    <tr>\n",
       "      <th>4</th>\n",
       "      <td>32</td>\n",
       "      <td>0.751822</td>\n",
       "      <td>0.732</td>\n",
       "      <td>32033</td>\n",
       "    </tr>\n",
       "    <tr>\n",
       "      <th>5</th>\n",
       "      <td>64</td>\n",
       "      <td>0.754978</td>\n",
       "      <td>0.7284</td>\n",
       "      <td>64065</td>\n",
       "    </tr>\n",
       "  </tbody>\n",
       "</table>\n",
       "</div>"
      ],
      "text/plain": [
       "   Embedding size Training accuracy Validation accuracy Number of parameters\n",
       "0               2          0.719689              0.7124                 2003\n",
       "1               4          0.730311              0.7148                 4005\n",
       "2               8          0.742089              0.7204                 8009\n",
       "3              16          0.748267              0.7264                16017\n",
       "4              32          0.751822               0.732                32033\n",
       "5              64          0.754978              0.7284                64065"
      ]
     },
     "execution_count": 17,
     "metadata": {},
     "output_type": "execute_result"
    }
   ],
   "source": [
    "def embedding_experiment(embedding_sizes):\n",
    "    \"\"\"Run an experiment to compare accuracies and number of parameters for different embedding sizes.\"\"\"\n",
    "    \n",
    "    # Create a new dataframe to represent a table with the training and validation accuracies of each model (6 different models with embedding sizes in [2,4,8,16,32,64])\n",
    "    df = pd.DataFrame(columns=['Embedding size', 'Training accuracy', 'Validation accuracy', 'Number of parameters'])\n",
    "    df['Embedding size'] = embedding_sizes\n",
    "\n",
    "    # Loop through each embedding size\n",
    "    for size in embedding_sizes:\n",
    "        model = build_embeddings_model(average_over_positions=True,\n",
    "                                vocab_size=1000,\n",
    "                                sequence_length=20,\n",
    "                                embedding_dim=size)\n",
    "        history = model.fit(\n",
    "        x = X_train_reduced,  # our sparse padded training data\n",
    "        y = Y_train,          # corresponding binary labels\n",
    "        epochs=5,             # number of passes through the training data\n",
    "        batch_size=64,        # mini-batch size\n",
    "        validation_split=0.1, # use a fraction of the examples for validation\n",
    "        verbose=0             # display no progress output during training\n",
    "        )\n",
    "\n",
    "        history = pd.DataFrame(history.history)\n",
    "        \n",
    "        # Add the training and validation accuracy to the dataframe\n",
    "        df.loc[df['Embedding size'] == size, 'Training accuracy'] = history['accuracy'].iloc[-1]\n",
    "        df.loc[df['Embedding size'] == size, 'Validation accuracy'] = history['val_accuracy'].iloc[-1]\n",
    "\n",
    "        # Get the number of parameters\n",
    "        num_params = model.count_params()\n",
    "        df.loc[df['Embedding size'] == size, 'Number of parameters'] = num_params\n",
    "\n",
    "    return df\n",
    "\n",
    "df_embedding_experiment_summary = embedding_experiment(embedding_sizes=[2,4,8,16,32,64])\n",
    "df_embedding_experiment_summary"
   ]
  },
  {
   "cell_type": "markdown",
   "metadata": {
    "id": "O7t46ZdX2ofd"
   },
   "source": [
    "*Written answers:*\n",
    "\n",
    "1. The table with the training and validation accuracies for each experiment are as shown above\n",
    "2. The number of parameters for each model is listed in the table above\n",
    "3. Learned embeddings provide improvements in performance over the one-hot encodings. This is shown in the table above, where the training and validation accuracies of the models training using embeddings outperform the equivalent LR-A model trained with one-hot encodings. This is because embeddings are derived from the contextual usage of words, capturing relationships, similarities and differencies between words. By considering how frequently words appear alongside other words in the vocabulary, embeddings encode sematic information, which allows the model to make more informed predictions. In contrast, one-hot encodings do not capture the relationships between different words as the encoding simply captures whether or not a certain word is present, without considering the context of how a word is used. This explains the gap in performance between models trained using embeddings vs. the model trained using one-hot encodings."
   ]
  },
  {
   "cell_type": "markdown",
   "metadata": {},
   "source": [
    "---"
   ]
  },
  {
   "cell_type": "markdown",
   "metadata": {
    "id": "i2dWOuxqKHA6"
   },
   "source": [
    "## Inspecting Learned Embeddings\n",
    "Let's retrieve the learned embedding parameters from the trained model and plot the token embeddings.\n",
    "\n",
    "The model layers in a Keras Sequential model are stored as a list and the embeddings are the first layer. We can use the get_weights() function to get a numpy array with the parameters."
   ]
  },
  {
   "cell_type": "code",
   "execution_count": 18,
   "metadata": {
    "colab": {
     "base_uri": "https://localhost:8080/",
     "height": 86
    },
    "executionInfo": {
     "elapsed": 355,
     "status": "ok",
     "timestamp": 1646684774106,
     "user": {
      "displayName": "Daniel Gillick",
      "photoUrl": "https://lh3.googleusercontent.com/a-/AOh14Gg9DrSMlwYnG9EolecuJqe8n9m7fpcje4_UbYrhQ10=s64",
      "userId": "01872965353911650729"
     },
     "user_tz": 600
    },
    "id": "bfsbGSwkaFjo",
    "outputId": "d9d74723-012f-464f-a9f3-8a41d8178868"
   },
   "outputs": [
    {
     "data": {
      "text/plain": [
       "[<keras.layers.core.embedding.Embedding at 0x293e3f130>,\n",
       " <keras.layers.pooling.global_average_pooling1d.GlobalAveragePooling1D at 0x28638d3f0>,\n",
       " <keras.layers.core.dense.Dense at 0x294dc3520>]"
      ]
     },
     "metadata": {},
     "output_type": "display_data"
    },
    {
     "data": {
      "text/plain": [
       "(1000, 2)"
      ]
     },
     "metadata": {},
     "output_type": "display_data"
    }
   ],
   "source": [
    "# Display the model layers.\n",
    "display(model.layers)\n",
    "\n",
    "# Retrieve the embeddings layer, which itself is wrapped in a list.\n",
    "embeddings = model.layers[0].get_weights()[0]\n",
    "display(embeddings.shape)"
   ]
  },
  {
   "cell_type": "markdown",
   "metadata": {
    "id": "apPWscNwcXTE"
   },
   "source": [
    "Now we'll use a fancy plotting tool called *plotly* to show the embeddings with hovertext so you can move your mouse over the points to see the corresponding tokens."
   ]
  },
  {
   "cell_type": "code",
   "execution_count": 25,
   "metadata": {},
   "outputs": [
    {
     "data": {
      "text/plain": [
       "array([[-0.09373532,  0.17650892],\n",
       "       [-0.08485406,  0.11714701],\n",
       "       [ 0.00687701,  0.04877064],\n",
       "       ...,\n",
       "       [ 0.19888742, -0.12784699],\n",
       "       [ 0.14684631, -0.09812486],\n",
       "       [ 0.32011366, -0.33549276]], dtype=float32)"
      ]
     },
     "execution_count": 25,
     "metadata": {},
     "output_type": "execute_result"
    }
   ],
   "source": [
    "embeddings"
   ]
  },
  {
   "cell_type": "code",
   "execution_count": 29,
   "metadata": {
    "colab": {
     "base_uri": "https://localhost:8080/",
     "height": 542
    },
    "executionInfo": {
     "elapsed": 453,
     "status": "ok",
     "timestamp": 1646684778338,
     "user": {
      "displayName": "Daniel Gillick",
      "photoUrl": "https://lh3.googleusercontent.com/a-/AOh14Gg9DrSMlwYnG9EolecuJqe8n9m7fpcje4_UbYrhQ10=s64",
      "userId": "01872965353911650729"
     },
     "user_tz": 600
    },
    "id": "5RZMTrA0KttL",
    "outputId": "f5ec9b65-84bb-4c28-c673-cf86a87112df"
   },
   "outputs": [
    {
     "data": {
      "application/vnd.plotly.v1+json": {
       "config": {
        "plotlyServerURL": "https://plot.ly"
       },
       "data": [
        {
         "hoverinfo": "text",
         "mode": "markers",
         "text": [
          "Text: game<br>x1: 0.19<br>x2: -0.18",
          "Text: past<br>x1: 0.12<br>x2: -0.13",
          "Text: able<br>x1: -0.01<br>x2: 0.01",
          "Text: b<br>x1: 0.00<br>x2: 0.05",
          "Text: days<br>x1: 0.21<br>x2: -0.27",
          "Text: turns<br>x1: -0.07<br>x2: 0.01",
          "Text: child<br>x1: 0.13<br>x2: -0.11",
          "Text: they're<br>x1: -0.12<br>x2: 0.17",
          "Text: hand<br>x1: -0.24<br>x2: 0.31",
          "Text: flick<br>x1: -0.21<br>x2: 0.19",
          "Text: enjoyed<br>x1: 0.55<br>x2: -0.55",
          "Text: act<br>x1: -0.15<br>x2: 0.19",
          "Text: genre<br>x1: 0.29<br>x2: -0.32",
          "Text: town<br>x1: -0.02<br>x2: 0.03",
          "Text: favorite<br>x1: 0.67<br>x2: -0.72",
          "Text: soon<br>x1: 0.25<br>x2: -0.28",
          "Text: kill<br>x1: -0.33<br>x2: 0.29",
          "Text: starts<br>x1: -0.10<br>x2: 0.08",
          "Text: sometimes<br>x1: 0.29<br>x2: -0.28",
          "Text: car<br>x1: -0.26<br>x2: 0.24",
          "Text: gave<br>x1: 0.06<br>x2: 0.02",
          "Text: run<br>x1: -0.32<br>x2: 0.27",
          "Text: late<br>x1: 0.10<br>x2: -0.08",
          "Text: eyes<br>x1: 0.12<br>x2: -0.09",
          "Text: actress<br>x1: 0.02<br>x2: -0.10",
          "Text: etc<br>x1: -0.25<br>x2: 0.19",
          "Text: directed<br>x1: -0.09<br>x2: 0.06",
          "Text: horrible<br>x1: -0.73<br>x2: 0.76",
          "Text: won't<br>x1: 0.13<br>x2: -0.18",
          "Text: viewer<br>x1: -0.03<br>x2: -0.04",
          "Text: brilliant<br>x1: 0.69<br>x2: -0.65",
          "Text: parts<br>x1: 0.16<br>x2: -0.18",
          "Text: self<br>x1: -0.31<br>x2: 0.26",
          "Text: themselves<br>x1: -0.04<br>x2: 0.05",
          "Text: hour<br>x1: -0.18<br>x2: 0.25",
          "Text: expect<br>x1: -0.17<br>x2: 0.15",
          "Text: thinking<br>x1: -0.11<br>x2: 0.17",
          "Text: stories<br>x1: 0.28<br>x2: -0.31",
          "Text: stuff<br>x1: 0.11<br>x2: -0.09",
          "Text: girls<br>x1: 0.02<br>x2: -0.00",
          "Text: obviously<br>x1: -0.21<br>x2: 0.25",
          "Text: blood<br>x1: 0.11<br>x2: -0.12",
          "Text: decent<br>x1: -0.48<br>x2: 0.46",
          "Text: city<br>x1: 0.12<br>x2: -0.10",
          "Text: voice<br>x1: 0.18<br>x2: -0.19",
          "Text: highly<br>x1: 1.20<br>x2: -1.28",
          "Text: myself<br>x1: 0.03<br>x2: -0.03",
          "Text: feeling<br>x1: 0.14<br>x2: -0.15",
          "Text: fight<br>x1: -0.02<br>x2: 0.02",
          "Text: except<br>x1: -0.40<br>x2: 0.39",
          "Text: slow<br>x1: -0.08<br>x2: 0.04",
          "Text: matter<br>x1: 0.11<br>x2: -0.18",
          "Text: type<br>x1: 0.02<br>x2: -0.05",
          "Text: anyway<br>x1: -0.07<br>x2: 0.07",
          "Text: kid<br>x1: -0.23<br>x2: 0.20",
          "Text: roles<br>x1: 0.12<br>x2: -0.12",
          "Text: killed<br>x1: -0.27<br>x2: 0.30",
          "Text: heard<br>x1: 0.15<br>x2: -0.16",
          "Text: god<br>x1: -0.33<br>x2: 0.31",
          "Text: age<br>x1: 0.23<br>x2: -0.19",
          "Text: says<br>x1: -0.07<br>x2: 0.08",
          "Text: moment<br>x1: -0.00<br>x2: 0.01",
          "Text: took<br>x1: -0.13<br>x2: 0.15",
          "Text: leave<br>x1: -0.11<br>x2: 0.17",
          "Text: writer<br>x1: -0.20<br>x2: 0.22",
          "Text: strong<br>x1: 0.30<br>x2: -0.27",
          "Text: cannot<br>x1: -0.02<br>x2: -0.05",
          "Text: violence<br>x1: -0.05<br>x2: 0.07",
          "Text: police<br>x1: 0.12<br>x2: -0.06",
          "Text: hit<br>x1: 0.46<br>x2: -0.49",
          "Text: stop<br>x1: -0.20<br>x2: 0.18",
          "Text: happens<br>x1: -0.34<br>x2: 0.41",
          "Text: particularly<br>x1: -0.06<br>x2: 0.06",
          "Text: known<br>x1: 0.11<br>x2: -0.11",
          "Text: involved<br>x1: -0.19<br>x2: 0.20",
          "Text: happened<br>x1: -0.07<br>x2: 0.04",
          "Text: extremely<br>x1: -0.05<br>x2: 0.03",
          "Text: daughter<br>x1: 0.02<br>x2: -0.04",
          "Text: obvious<br>x1: -0.32<br>x2: 0.41",
          "Text: told<br>x1: 0.02<br>x2: -0.00",
          "Text: chance<br>x1: 0.64<br>x2: -0.66",
          "Text: living<br>x1: -0.04<br>x2: 0.07",
          "Text: coming<br>x1: 0.13<br>x2: -0.16",
          "Text: lack<br>x1: -0.49<br>x2: 0.55",
          "Text: alone<br>x1: 0.04<br>x2: 0.04",
          "Text: experience<br>x1: 0.32<br>x2: -0.36",
          "Text: wouldn't<br>x1: -0.66<br>x2: 0.71",
          "Text: including<br>x1: 0.38<br>x2: -0.35",
          "Text: murder<br>x1: -0.01<br>x2: -0.07",
          "Text: attempt<br>x1: -0.53<br>x2: 0.57",
          "Text: s<br>x1: -0.11<br>x2: 0.10",
          "Text: please<br>x1: -0.24<br>x2: 0.23",
          "Text: james<br>x1: 0.20<br>x2: -0.27",
          "Text: happen<br>x1: 0.07<br>x2: -0.06",
          "Text: wonder<br>x1: -0.14<br>x2: 0.20",
          "Text: crap<br>x1: -0.82<br>x2: 0.94",
          "Text: ago<br>x1: 0.12<br>x2: -0.12",
          "Text: brother<br>x1: 0.01<br>x2: -0.01",
          "Text: film's<br>x1: -0.17<br>x2: 0.13",
          "Text: gore<br>x1: -0.49<br>x2: 0.50",
          "Text: none<br>x1: -0.35<br>x2: 0.42",
          "Text: complete<br>x1: -0.26<br>x2: 0.30",
          "Text: interest<br>x1: -0.12<br>x2: 0.16",
          "Text: score<br>x1: 0.15<br>x2: -0.16",
          "Text: group<br>x1: 0.03<br>x2: -0.00",
          "Text: cut<br>x1: 0.06<br>x2: -0.07",
          "Text: simple<br>x1: 0.17<br>x2: -0.24",
          "Text: save<br>x1: -0.93<br>x2: 0.95",
          "Text: ok<br>x1: -0.29<br>x2: 0.28",
          "Text: hell<br>x1: -0.19<br>x2: 0.25",
          "Text: looked<br>x1: -0.35<br>x2: 0.41",
          "Text: career<br>x1: -0.26<br>x2: 0.28",
          "Text: number<br>x1: 0.14<br>x2: -0.22",
          "Text: song<br>x1: -0.05<br>x2: -0.02",
          "Text: possible<br>x1: 0.01<br>x2: 0.00",
          "Text: seriously<br>x1: -0.27<br>x2: 0.31",
          "Text: annoying<br>x1: -0.38<br>x2: 0.46",
          "Text: shown<br>x1: 0.04<br>x2: -0.06",
          "Text: exactly<br>x1: 0.12<br>x2: -0.16",
          "Text: sad<br>x1: -0.28<br>x2: 0.31",
          "Text: running<br>x1: -0.13<br>x2: 0.11",
          "Text: musical<br>x1: 0.19<br>x2: -0.16",
          "Text: serious<br>x1: -0.01<br>x2: 0.03",
          "Text: taken<br>x1: -0.09<br>x2: 0.06",
          "Text: yourself<br>x1: -0.44<br>x2: 0.44",
          "Text: whose<br>x1: 0.01<br>x2: 0.01",
          "Text: released<br>x1: 0.17<br>x2: -0.16",
          "Text: cinematography<br>x1: 0.11<br>x2: -0.07",
          "Text: david<br>x1: -0.01<br>x2: 0.03",
          "Text: scary<br>x1: -0.20<br>x2: 0.29",
          "Text: ends<br>x1: 0.11<br>x2: -0.11",
          "Text: english<br>x1: 0.33<br>x2: -0.40",
          "Text: hero<br>x1: 0.15<br>x2: -0.14",
          "Text: usually<br>x1: -0.02<br>x2: 0.04",
          "Text: hours<br>x1: -0.35<br>x2: 0.31",
          "Text: reality<br>x1: 0.27<br>x2: -0.22",
          "Text: opening<br>x1: 0.10<br>x2: -0.05",
          "Text: i'll<br>x1: -0.07<br>x2: 0.15",
          "Text: across<br>x1: 0.02<br>x2: -0.07",
          "Text: today<br>x1: 0.76<br>x2: -0.75",
          "Text: jokes<br>x1: -0.19<br>x2: 0.20",
          "Text: light<br>x1: 0.33<br>x2: -0.33",
          "Text: hilarious<br>x1: 0.18<br>x2: -0.20",
          "Text: somewhat<br>x1: 0.01<br>x2: -0.02",
          "Text: usual<br>x1: 0.07<br>x2: -0.07",
          "Text: started<br>x1: -0.20<br>x2: 0.23",
          "Text: cool<br>x1: 0.25<br>x2: -0.23",
          "Text: ridiculous<br>x1: -0.43<br>x2: 0.52",
          "Text: body<br>x1: -0.09<br>x2: 0.07",
          "Text: relationship<br>x1: 0.17<br>x2: -0.19",
          "Text: view<br>x1: 0.10<br>x2: -0.16",
          "Text: level<br>x1: -0.16<br>x2: 0.16",
          "Text: opinion<br>x1: -0.16<br>x2: 0.10",
          "Text: change<br>x1: 0.24<br>x2: -0.24",
          "Text: happy<br>x1: 0.35<br>x2: -0.37",
          "Text: middle<br>x1: -0.02<br>x2: 0.04",
          "Text: taking<br>x1: -0.07<br>x2: 0.05",
          "Text: wish<br>x1: 0.16<br>x2: -0.18",
          "Text: husband<br>x1: -0.06<br>x2: 0.06",
          "Text: finds<br>x1: 0.15<br>x2: -0.16",
          "Text: saying<br>x1: -0.31<br>x2: 0.32",
          "Text: order<br>x1: 0.08<br>x2: -0.05",
          "Text: talking<br>x1: 0.17<br>x2: -0.14",
          "Text: ones<br>x1: 0.06<br>x2: -0.09",
          "Text: documentary<br>x1: 0.16<br>x2: -0.13",
          "Text: shots<br>x1: -0.22<br>x2: 0.20",
          "Text: huge<br>x1: -0.29<br>x2: 0.27",
          "Text: novel<br>x1: -0.01<br>x2: -0.07",
          "Text: female<br>x1: -0.08<br>x2: 0.08",
          "Text: mostly<br>x1: -0.13<br>x2: 0.10",
          "Text: robert<br>x1: 0.09<br>x2: -0.05",
          "Text: power<br>x1: -0.06<br>x2: 0.12",
          "Text: episodes<br>x1: 0.34<br>x2: -0.35",
          "Text: room<br>x1: -0.10<br>x2: 0.10",
          "Text: important<br>x1: 0.17<br>x2: -0.26",
          "Text: rating<br>x1: -0.26<br>x2: 0.26",
          "Text: talent<br>x1: -0.26<br>x2: 0.25",
          "Text: five<br>x1: -0.13<br>x2: 0.15",
          "Text: major<br>x1: -0.17<br>x2: 0.21",
          "Text: turned<br>x1: -0.32<br>x2: 0.31",
          "Text: strange<br>x1: -0.03<br>x2: 0.01",
          "Text: word<br>x1: -0.17<br>x2: 0.24",
          "Text: modern<br>x1: 0.21<br>x2: -0.21",
          "Text: call<br>x1: -0.21<br>x2: 0.18",
          "Text: apparently<br>x1: -0.11<br>x2: 0.10",
          "Text: disappointed<br>x1: -0.10<br>x2: 0.12",
          "Text: single<br>x1: -0.06<br>x2: 0.10",
          "Text: events<br>x1: -0.03<br>x2: 0.03",
          "Text: due<br>x1: -0.10<br>x2: 0.12",
          "Text: four<br>x1: -0.02<br>x2: 0.01",
          "Text: songs<br>x1: -0.07<br>x2: -0.01",
          "Text: basically<br>x1: -0.08<br>x2: 0.18",
          "Text: attention<br>x1: 0.21<br>x2: -0.27",
          "Text: 7<br>x1: 1.14<br>x2: -1.19",
          "Text: knows<br>x1: 0.19<br>x2: -0.18",
          "Text: clearly<br>x1: -0.16<br>x2: 0.19",
          "Text: supporting<br>x1: 0.17<br>x2: -0.18",
          "Text: knew<br>x1: -0.22<br>x2: 0.23",
          "Text: british<br>x1: -0.05<br>x2: 0.08",
          "Text: television<br>x1: 0.24<br>x2: -0.24",
          "Text: comic<br>x1: 0.16<br>x2: -0.18",
          "Text: non<br>x1: -0.15<br>x2: 0.07",
          "Text: fast<br>x1: -0.16<br>x2: 0.16",
          "Text: earth<br>x1: -0.07<br>x2: 0.06",
          "Text: country<br>x1: 0.11<br>x2: -0.08",
          "Text: future<br>x1: 0.33<br>x2: -0.39",
          "Text: cheap<br>x1: -0.57<br>x2: 0.55",
          "Text: class<br>x1: -0.04<br>x2: 0.07",
          "Text: thriller<br>x1: 0.29<br>x2: -0.33",
          "Text: 8<br>x1: 1.15<br>x2: -1.27",
          "Text: silly<br>x1: -0.16<br>x2: 0.23",
          "Text: king<br>x1: -0.05<br>x2: 0.08",
          "Text: problems<br>x1: -0.05<br>x2: 0.10",
          "Text: aren't<br>x1: -0.16<br>x2: 0.20",
          "Text: easily<br>x1: 0.21<br>x2: -0.31",
          "Text: words<br>x1: 0.07<br>x2: -0.11",
          "Text: tells<br>x1: 0.27<br>x2: -0.21",
          "Text: miss<br>x1: 0.39<br>x2: -0.43",
          "Text: jack<br>x1: 0.09<br>x2: -0.15",
          "Text: local<br>x1: -0.17<br>x2: 0.15",
          "Text: sequence<br>x1: 0.15<br>x2: -0.25",
          "Text: bring<br>x1: 0.33<br>x2: -0.31",
          "Text: entertainment<br>x1: 0.18<br>x2: -0.20",
          "Text: paul<br>x1: 0.16<br>x2: -0.14",
          "Text: beyond<br>x1: -0.04<br>x2: 0.00",
          "Text: upon<br>x1: 0.04<br>x2: 0.04",
          "Text: whether<br>x1: 0.18<br>x2: -0.16",
          "Text: predictable<br>x1: -0.42<br>x2: 0.44",
          "Text: moving<br>x1: 0.46<br>x2: -0.47",
          "Text: similar<br>x1: 0.07<br>x2: -0.07",
          "Text: straight<br>x1: -0.05<br>x2: 0.10",
          "Text: romantic<br>x1: 0.40<br>x2: -0.38",
          "Text: sets<br>x1: 0.03<br>x2: -0.05",
          "Text: review<br>x1: -0.17<br>x2: 0.21",
          "Text: falls<br>x1: -0.22<br>x2: 0.19",
          "Text: oscar<br>x1: 0.44<br>x2: -0.48",
          "Text: mystery<br>x1: 0.11<br>x2: -0.07",
          "Text: enjoyable<br>x1: 0.58<br>x2: -0.68",
          "Text: needs<br>x1: -0.15<br>x2: 0.15",
          "Text: appears<br>x1: -0.16<br>x2: 0.14",
          "Text: talk<br>x1: 0.03<br>x2: -0.05",
          "Text: rock<br>x1: 0.17<br>x2: -0.19",
          "Text: george<br>x1: -0.04<br>x2: 0.07",
          "Text: giving<br>x1: 0.10<br>x2: -0.09",
          "Text: eye<br>x1: 0.03<br>x2: 0.03",
          "Text: richard<br>x1: 0.13<br>x2: -0.11",
          "Text: within<br>x1: 0.11<br>x2: -0.17",
          "Text: ten<br>x1: 0.05<br>x2: -0.09",
          "Text: animation<br>x1: 0.10<br>x2: -0.06",
          "Text: message<br>x1: 0.35<br>x2: -0.34",
          "Text: theater<br>x1: -0.20<br>x2: 0.26",
          "Text: near<br>x1: -0.01<br>x2: 0.09",
          "Text: above<br>x1: 0.05<br>x2: -0.04",
          "Text: dull<br>x1: -0.65<br>x2: 0.70",
          "Text: nearly<br>x1: 0.10<br>x2: -0.14",
          "Text: sequel<br>x1: -0.10<br>x2: 0.05",
          "Text: theme<br>x1: -0.13<br>x2: 0.12",
          "Text: points<br>x1: -0.07<br>x2: 0.07",
          "Text: '<br>x1: -0.16<br>x2: 0.13",
          "Text: stand<br>x1: 0.11<br>x2: -0.15",
          "Text: mention<br>x1: 0.08<br>x2: -0.07",
          "Text: lady<br>x1: 0.25<br>x2: -0.20",
          "Text: bunch<br>x1: 0.02<br>x2: -0.04",
          "Text: add<br>x1: 0.09<br>x2: -0.08",
          "Text: feels<br>x1: -0.07<br>x2: 0.03",
          "Text: herself<br>x1: 0.26<br>x2: -0.24",
          "Text: release<br>x1: 0.34<br>x2: -0.32",
          "Text: red<br>x1: -0.16<br>x2: 0.08",
          "Text: team<br>x1: 0.11<br>x2: -0.07",
          "Text: storyline<br>x1: -0.10<br>x2: 0.01",
          "Text: surprised<br>x1: 0.03<br>x2: 0.01",
          "Text: ways<br>x1: 0.06<br>x2: -0.10",
          "Text: using<br>x1: -0.17<br>x2: 0.17",
          "Text: named<br>x1: -0.27<br>x2: 0.34",
          "Text: haven't<br>x1: 0.32<br>x2: -0.41",
          "Text: lots<br>x1: 0.01<br>x2: -0.06",
          "Text: easy<br>x1: 0.11<br>x2: -0.09",
          "Text: fantastic<br>x1: 0.55<br>x2: -0.60",
          "Text: begins<br>x1: 0.03<br>x2: -0.01",
          "Text: actual<br>x1: -0.23<br>x2: 0.24",
          "Text: working<br>x1: 0.03<br>x2: -0.02",
          "Text: effort<br>x1: -0.45<br>x2: 0.44",
          "Text: york<br>x1: 0.02<br>x2: -0.00",
          "Text: die<br>x1: -0.28<br>x2: 0.28",
          "Text: hate<br>x1: -0.16<br>x2: 0.27",
          "Text: french<br>x1: 0.04<br>x2: -0.02",
          "Text: minute<br>x1: -0.28<br>x2: 0.21",
          "Text: tale<br>x1: 0.37<br>x2: -0.42",
          "Text: clear<br>x1: -0.22<br>x2: 0.27",
          "Text: stay<br>x1: -0.53<br>x2: 0.52",
          "Text: 9<br>x1: 0.98<br>x2: -1.06",
          "Text: elements<br>x1: 0.20<br>x2: -0.17",
          "Text: feature<br>x1: -0.03<br>x2: 0.07",
          "Text: among<br>x1: 0.12<br>x2: -0.21",
          "Text: follow<br>x1: 0.05<br>x2: -0.04",
          "Text: comments<br>x1: 0.03<br>x2: -0.09",
          "Text: re<br>x1: -0.05<br>x2: 0.00",
          "Text: viewers<br>x1: 0.03<br>x2: -0.08",
          "Text: avoid<br>x1: -1.25<br>x2: 1.28",
          "Text: sister<br>x1: -0.11<br>x2: 0.13",
          "Text: showing<br>x1: 0.10<br>x2: -0.08",
          "Text: typical<br>x1: 0.18<br>x2: -0.14",
          "Text: editing<br>x1: -0.08<br>x2: 0.06",
          "Text: what's<br>x1: -0.07<br>x2: 0.09",
          "Text: famous<br>x1: 0.24<br>x2: -0.19",
          "Text: tried<br>x1: 0.01<br>x2: -0.03",
          "Text: sorry<br>x1: -0.69<br>x2: 0.72",
          "Text: dialog<br>x1: -0.13<br>x2: 0.20",
          "Text: check<br>x1: 0.38<br>x2: -0.40",
          "Text: fall<br>x1: 0.01<br>x2: -0.08",
          "Text: period<br>x1: 0.20<br>x2: -0.14",
          "Text: season<br>x1: 0.31<br>x2: -0.31",
          "Text: form<br>x1: -0.00<br>x2: -0.01",
          "Text: certain<br>x1: 0.11<br>x2: -0.13",
          "Text: filmed<br>x1: -0.10<br>x2: 0.03",
          "Text: weak<br>x1: -0.44<br>x2: 0.47",
          "Text: soundtrack<br>x1: 0.27<br>x2: -0.30",
          "Text: means<br>x1: 0.05<br>x2: -0.03",
          "Text: buy<br>x1: 0.21<br>x2: -0.25",
          "Text: material<br>x1: -0.18<br>x2: 0.18",
          "Text: somehow<br>x1: 0.01<br>x2: -0.10",
          "Text: realistic<br>x1: 0.34<br>x2: -0.37",
          "Text: figure<br>x1: -0.07<br>x2: 0.11",
          "Text: crime<br>x1: 0.13<br>x2: -0.17",
          "Text: doubt<br>x1: 0.08<br>x2: -0.11",
          "Text: gone<br>x1: 0.12<br>x2: -0.12",
          "Text: peter<br>x1: 0.09<br>x2: -0.05",
          "Text: tom<br>x1: 0.23<br>x2: -0.25",
          "Text: kept<br>x1: 0.00<br>x2: 0.09",
          "Text: viewing<br>x1: 0.49<br>x2: -0.53",
          "Text: t<br>x1: -0.42<br>x2: 0.48",
          "Text: general<br>x1: -0.15<br>x2: 0.08",
          "Text: leads<br>x1: 0.07<br>x2: -0.10",
          "Text: greatest<br>x1: 0.57<br>x2: -0.61",
          "Text: space<br>x1: -0.12<br>x2: 0.14",
          "Text: lame<br>x1: -0.58<br>x2: 0.66",
          "Text: suspense<br>x1: 0.10<br>x2: -0.10",
          "Text: dance<br>x1: 0.27<br>x2: -0.24",
          "Text: imagine<br>x1: 0.08<br>x2: -0.03",
          "Text: brought<br>x1: 0.22<br>x2: -0.18",
          "Text: third<br>x1: 0.08<br>x2: -0.05",
          "Text: atmosphere<br>x1: 0.33<br>x2: -0.40",
          "Text: hear<br>x1: 0.13<br>x2: -0.13",
          "Text: particular<br>x1: 0.12<br>x2: -0.13",
          "Text: sequences<br>x1: 0.22<br>x2: -0.22",
          "Text: whatever<br>x1: -0.16<br>x2: 0.15",
          "Text: parents<br>x1: 0.05<br>x2: -0.06",
          "Text: move<br>x1: -0.13<br>x2: 0.20",
          "Text: lee<br>x1: -0.43<br>x2: 0.42",
          "Text: indeed<br>x1: -0.01<br>x2: 0.04",
          "Text: learn<br>x1: 0.03<br>x2: -0.03",
          "Text: rent<br>x1: -0.38<br>x2: 0.38",
          "Text: de<br>x1: 0.06<br>x2: -0.08",
          "Text: eventually<br>x1: 0.08<br>x2: -0.13",
          "Text: note<br>x1: -0.06<br>x2: 0.06",
          "Text: deal<br>x1: 0.06<br>x2: -0.14",
          "Text: average<br>x1: -0.10<br>x2: 0.10",
          "Text: reviews<br>x1: -0.16<br>x2: 0.12",
          "Text: wait<br>x1: 0.03<br>x2: -0.08",
          "Text: forget<br>x1: 0.08<br>x2: -0.07",
          "Text: japanese<br>x1: 0.20<br>x2: -0.17",
          "Text: sexual<br>x1: -0.14<br>x2: 0.09",
          "Text: poorly<br>x1: -0.52<br>x2: 0.54",
          "Text: premise<br>x1: -0.19<br>x2: 0.22",
          "Text: okay<br>x1: -0.37<br>x2: 0.40",
          "Text: zombie<br>x1: -0.12<br>x2: 0.16",
          "Text: surprise<br>x1: 0.06<br>x2: -0.05",
          "Text: believable<br>x1: 0.20<br>x2: -0.30",
          "Text: stage<br>x1: 0.02<br>x2: -0.01",
          "Text: possibly<br>x1: -0.07<br>x2: 0.04",
          "Text: sit<br>x1: -0.28<br>x2: 0.28",
          "Text: who's<br>x1: 0.09<br>x2: -0.06",
          "Text: decided<br>x1: -0.16<br>x2: 0.16",
          "Text: expected<br>x1: -0.12<br>x2: 0.13",
          "Text: you've<br>x1: 0.05<br>x2: -0.01",
          "Text: subject<br>x1: -0.15<br>x2: 0.10",
          "Text: nature<br>x1: 0.38<br>x2: -0.38",
          "Text: became<br>x1: 0.10<br>x2: -0.08",
          "Text: difficult<br>x1: 0.32<br>x2: -0.37",
          "Text: free<br>x1: -0.39<br>x2: 0.43",
          "Text: killing<br>x1: -0.20<br>x2: 0.26",
          "Text: screenplay<br>x1: 0.09<br>x2: -0.05",
          "Text: truth<br>x1: -0.02<br>x2: 0.01",
          "Text: romance<br>x1: 0.31<br>x2: -0.38",
          "Text: dr<br>x1: -0.19<br>x2: 0.14",
          "Text: nor<br>x1: -0.14<br>x2: 0.10",
          "Text: reading<br>x1: 0.14<br>x2: -0.12",
          "Text: needed<br>x1: 0.10<br>x2: -0.13",
          "Text: question<br>x1: 0.10<br>x2: -0.09",
          "Text: leaves<br>x1: 0.10<br>x2: -0.06",
          "Text: street<br>x1: -0.02<br>x2: -0.01",
          "Text: 20<br>x1: -0.06<br>x2: 0.13",
          "Text: meets<br>x1: 0.06<br>x2: -0.06",
          "Text: hot<br>x1: -0.20<br>x2: 0.20",
          "Text: unless<br>x1: -0.90<br>x2: 0.95",
          "Text: begin<br>x1: -0.09<br>x2: 0.16",
          "Text: baby<br>x1: -0.09<br>x2: 0.01",
          "Text: superb<br>x1: 0.47<br>x2: -0.50",
          "Text: credits<br>x1: -0.24<br>x2: 0.26",
          "Text: imdb<br>x1: -0.12<br>x2: 0.16",
          "Text: otherwise<br>x1: -0.35<br>x2: 0.46",
          "Text: write<br>x1: -0.41<br>x2: 0.52",
          "Text: shame<br>x1: -0.37<br>x2: 0.45",
          "Text: let's<br>x1: 0.00<br>x2: -0.01",
          "Text: situation<br>x1: 0.25<br>x2: -0.36",
          "Text: dramatic<br>x1: 0.19<br>x2: -0.20",
          "Text: memorable<br>x1: 0.15<br>x2: -0.13",
          "Text: directors<br>x1: -0.18<br>x2: 0.14",
          "Text: earlier<br>x1: 0.15<br>x2: -0.16",
          "Text: meet<br>x1: -0.20<br>x2: 0.17",
          "Text: disney<br>x1: 0.07<br>x2: -0.13",
          "Text: open<br>x1: 0.33<br>x2: -0.35",
          "Text: dog<br>x1: -0.11<br>x2: 0.07",
          "Text: badly<br>x1: -0.48<br>x2: 0.42",
          "Text: joe<br>x1: -0.22<br>x2: 0.25",
          "Text: male<br>x1: -0.20<br>x2: 0.14",
          "Text: weird<br>x1: 0.16<br>x2: -0.15",
          "Text: acted<br>x1: -0.01<br>x2: -0.01",
          "Text: forced<br>x1: -0.17<br>x2: 0.19",
          "Text: laughs<br>x1: -0.08<br>x2: 0.10",
          "Text: sci<br>x1: 0.16<br>x2: -0.15",
          "Text: emotional<br>x1: 0.21<br>x2: -0.19",
          "Text: older<br>x1: -0.01<br>x2: -0.01",
          "Text: realize<br>x1: -0.21<br>x2: 0.20",
          "Text: fi<br>x1: 0.08<br>x2: -0.15",
          "Text: dream<br>x1: 0.10<br>x2: -0.17",
          "Text: society<br>x1: 0.19<br>x2: -0.21",
          "Text: writers<br>x1: -0.22<br>x2: 0.18",
          "Text: interested<br>x1: 0.34<br>x2: -0.30",
          "Text: footage<br>x1: -0.02<br>x2: -0.02",
          "Text: forward<br>x1: 0.19<br>x2: -0.25",
          "Text: comment<br>x1: -0.17<br>x2: 0.18",
          "Text: crazy<br>x1: 0.05<br>x2: -0.02",
          "Text: deep<br>x1: 0.18<br>x2: -0.21",
          "Text: sounds<br>x1: -0.12<br>x2: 0.11",
          "Text: plus<br>x1: -0.03<br>x2: -0.01",
          "Text: beauty<br>x1: 0.31<br>x2: -0.38",
          "Text: whom<br>x1: 0.06<br>x2: -0.05",
          "Text: america<br>x1: 0.25<br>x2: -0.29",
          "Text: fantasy<br>x1: 0.24<br>x2: -0.22",
          "Text: directing<br>x1: 0.01<br>x2: -0.04",
          "Text: keeps<br>x1: 0.16<br>x2: -0.20",
          "Text: ask<br>x1: 0.05<br>x2: -0.03",
          "Text: development<br>x1: -0.05<br>x2: 0.05",
          "Text: features<br>x1: 0.15<br>x2: -0.16",
          "Text: air<br>x1: 0.28<br>x2: -0.25",
          "Text: quickly<br>x1: -0.12<br>x2: 0.11",
          "Text: mess<br>x1: -0.72<br>x2: 0.83",
          "Text: creepy<br>x1: 0.16<br>x2: -0.12",
          "Text: towards<br>x1: 0.01<br>x2: -0.01",
          "Text: perfectly<br>x1: 0.41<br>x2: -0.40",
          "Text: mark<br>x1: -0.22<br>x2: 0.19",
          "Text: worked<br>x1: -0.14<br>x2: 0.21",
          "Text: box<br>x1: 0.01<br>x2: 0.02",
          "Text: cheesy<br>x1: -0.20<br>x2: 0.23",
          "Text: unique<br>x1: 0.29<br>x2: -0.29",
          "Text: setting<br>x1: 0.01<br>x2: -0.01",
          "Text: hands<br>x1: -0.04<br>x2: 0.10",
          "Text: plenty<br>x1: 0.06<br>x2: 0.02",
          "Text: result<br>x1: -0.39<br>x2: 0.44",
          "Text: previous<br>x1: -0.11<br>x2: 0.10",
          "Text: brings<br>x1: 0.25<br>x2: -0.30",
          "Text: effect<br>x1: -0.02<br>x2: 0.02",
          "Text: e<br>x1: -0.21<br>x2: 0.23",
          "Text: total<br>x1: -0.50<br>x2: 0.50",
          "Text: personal<br>x1: 0.22<br>x2: -0.21",
          "Text: incredibly<br>x1: -0.03<br>x2: -0.04",
          "Text: rate<br>x1: 0.14<br>x2: -0.20",
          "Text: fire<br>x1: 0.15<br>x2: -0.06",
          "Text: monster<br>x1: -0.20<br>x2: 0.17",
          "Text: business<br>x1: -0.12<br>x2: 0.04",
          "Text: leading<br>x1: 0.23<br>x2: -0.22",
          "Text: apart<br>x1: -0.17<br>x2: 0.16",
          "Text: casting<br>x1: -0.13<br>x2: 0.15",
          "Text: admit<br>x1: 0.11<br>x2: -0.08",
          "Text: joke<br>x1: -0.51<br>x2: 0.47",
          "Text: powerful<br>x1: 0.50<br>x2: -0.55",
          "Text: appear<br>x1: -0.08<br>x2: 0.05",
          "Text: background<br>x1: 0.04<br>x2: -0.04",
          "Text: telling<br>x1: -0.01<br>x2: -0.06",
          "Text: girlfriend<br>x1: 0.06<br>x2: -0.06",
          "Text: meant<br>x1: -0.15<br>x2: 0.23",
          "Text: christmas<br>x1: -0.10<br>x2: 0.08",
          "Text: hardly<br>x1: -0.17<br>x2: 0.22",
          "Text: present<br>x1: 0.09<br>x2: -0.15",
          "Text: battle<br>x1: 0.01<br>x2: 0.04",
          "Text: potential<br>x1: -0.27<br>x2: 0.33",
          "Text: create<br>x1: 0.01<br>x2: 0.03",
          "Text: bill<br>x1: 0.14<br>x2: -0.14",
          "Text: break<br>x1: -0.27<br>x2: 0.35",
          "Text: pay<br>x1: -0.37<br>x2: 0.47",
          "Text: masterpiece<br>x1: 0.42<br>x2: -0.45",
          "Text: gay<br>x1: -0.25<br>x2: 0.25",
          "Text: political<br>x1: 0.11<br>x2: -0.09",
          "Text: return<br>x1: -0.06<br>x2: 0.06",
          "Text: dumb<br>x1: -0.31<br>x2: 0.32",
          "Text: fails<br>x1: -0.43<br>x2: 0.51",
          "Text: fighting<br>x1: 0.20<br>x2: -0.13",
          "Text: various<br>x1: 0.15<br>x2: -0.10",
          "Text: era<br>x1: 0.32<br>x2: -0.34"
         ],
         "textposition": "bottom left",
         "type": "scatter",
         "x": [
          0.18715235590934753,
          0.12063265591859818,
          -0.007262454368174076,
          0.00028347771149128675,
          0.2138378620147705,
          -0.07375439256429672,
          0.13172273337841034,
          -0.11594793200492859,
          -0.24204382300376892,
          -0.20946520566940308,
          0.5530508756637573,
          -0.14957430958747864,
          0.28741979598999023,
          -0.020580600947141647,
          0.6703822016716003,
          0.24657997488975525,
          -0.33171209692955017,
          -0.09575796127319336,
          0.29475608468055725,
          -0.26167547702789307,
          0.0646507740020752,
          -0.3154130280017853,
          0.09935552626848221,
          0.12489809840917587,
          0.016048913821578026,
          -0.25131261348724365,
          -0.09162966161966324,
          -0.7297812104225159,
          0.1303815245628357,
          -0.03361988440155983,
          0.6864018440246582,
          0.15660402178764343,
          -0.305859237909317,
          -0.03876990079879761,
          -0.18035537004470825,
          -0.16671086847782135,
          -0.1118890643119812,
          0.28256523609161377,
          0.1101924479007721,
          0.024799136444926262,
          -0.21254023909568787,
          0.11154758930206299,
          -0.4759976863861084,
          0.12409181892871857,
          0.1818665713071823,
          1.19673752784729,
          0.03113711066544056,
          0.14399272203445435,
          -0.0167439766228199,
          -0.4038931429386139,
          -0.0817580297589302,
          0.10685353726148605,
          0.017629798501729965,
          -0.07463407516479492,
          -0.22785818576812744,
          0.1221652701497078,
          -0.2708006203174591,
          0.151665598154068,
          -0.3258229196071625,
          0.23239287734031677,
          -0.0659106969833374,
          -0.004696095362305641,
          -0.1264578402042389,
          -0.10679621994495392,
          -0.20432719588279724,
          0.3042590022087097,
          -0.018291328102350235,
          -0.05389377102255821,
          0.12394747138023376,
          0.4556431770324707,
          -0.20064449310302734,
          -0.34053656458854675,
          -0.06090749800205231,
          0.10636328905820847,
          -0.19198258221149445,
          -0.06948592513799667,
          -0.04696254804730415,
          0.015269494615495205,
          -0.31619083881378174,
          0.02001396380364895,
          0.6388378739356995,
          -0.03792300075292587,
          0.1321035474538803,
          -0.49405714869499207,
          0.038158394396305084,
          0.3247019350528717,
          -0.6613779067993164,
          0.38214659690856934,
          -0.011810500174760818,
          -0.5337951183319092,
          -0.10716890543699265,
          -0.23691239953041077,
          0.20293790102005005,
          0.07038243860006332,
          -0.13607899844646454,
          -0.8153247833251953,
          0.12154803425073624,
          0.008061942644417286,
          -0.16881607472896576,
          -0.4941490590572357,
          -0.35323795676231384,
          -0.25841468572616577,
          -0.1206313967704773,
          0.14994654059410095,
          0.03373945504426956,
          0.06365881115198135,
          0.17122186720371246,
          -0.930894136428833,
          -0.2873607873916626,
          -0.1878778636455536,
          -0.35356980562210083,
          -0.2565106153488159,
          0.1390053629875183,
          -0.05000149458646774,
          0.014370356686413288,
          -0.2691475450992584,
          -0.38349074125289917,
          0.04100724309682846,
          0.11683972924947739,
          -0.2775782346725464,
          -0.1279195249080658,
          0.19223324954509735,
          -0.008407775312662125,
          -0.08918999135494232,
          -0.43708616495132446,
          0.010660415515303612,
          0.17266209423542023,
          0.11360982060432434,
          -0.009254819713532925,
          -0.20309177041053772,
          0.1105092465877533,
          0.32638829946517944,
          0.14998629689216614,
          -0.02309006080031395,
          -0.34656938910484314,
          0.2694579064846039,
          0.10396215319633484,
          -0.0708925798535347,
          0.01816379278898239,
          0.7617385983467102,
          -0.19018761813640594,
          0.32776975631713867,
          0.17569072544574738,
          0.01410867553204298,
          0.07281400263309479,
          -0.20421239733695984,
          0.25162920355796814,
          -0.43196484446525574,
          -0.08584297448396683,
          0.17040468752384186,
          0.10421297699213028,
          -0.15940216183662415,
          -0.1644817441701889,
          0.24045845866203308,
          0.34859877824783325,
          -0.021478645503520966,
          -0.07471980154514313,
          0.15574148297309875,
          -0.06202778220176697,
          0.1548020988702774,
          -0.30680304765701294,
          0.07833708077669144,
          0.1662823110818863,
          0.06134141981601715,
          0.15504902601242065,
          -0.2201404869556427,
          -0.2881487309932709,
          -0.008075723424553871,
          -0.07743730396032333,
          -0.12793385982513428,
          0.08787192404270172,
          -0.06072041392326355,
          0.3395198881626129,
          -0.10281462222337723,
          0.1734662652015686,
          -0.2575715482234955,
          -0.26224130392074585,
          -0.13067059218883514,
          -0.1749592423439026,
          -0.3186285197734833,
          -0.03395270183682442,
          -0.17065966129302979,
          0.2072804719209671,
          -0.2091507911682129,
          -0.11012901365756989,
          -0.09898067265748978,
          -0.06390155106782913,
          -0.02604830078780651,
          -0.09961641579866409,
          -0.017665645107626915,
          -0.06753740459680557,
          -0.0849563479423523,
          0.20841506123542786,
          1.1390907764434814,
          0.1913863867521286,
          -0.15725752711296082,
          0.16822434961795807,
          -0.2179470807313919,
          -0.04912962764501572,
          0.2432268261909485,
          0.15844708681106567,
          -0.14865729212760925,
          -0.16338099539279938,
          -0.06782884150743484,
          0.10619962960481644,
          0.3277897238731384,
          -0.570702314376831,
          -0.03640668839216232,
          0.290711909532547,
          1.1461807489395142,
          -0.16416357457637787,
          -0.05498482659459114,
          -0.05208909884095192,
          -0.1599615514278412,
          0.2084389328956604,
          0.07181127369403839,
          0.2693839371204376,
          0.3857198655605316,
          0.09323591738939285,
          -0.17107823491096497,
          0.14635393023490906,
          0.33150389790534973,
          0.18118460476398468,
          0.15539716184139252,
          -0.03928259387612343,
          0.039369888603687286,
          0.17621269822120667,
          -0.42024126648902893,
          0.4597049951553345,
          0.06646224856376648,
          -0.04529155418276787,
          0.39569351077079773,
          0.029657332226634026,
          -0.17364215850830078,
          -0.2189180701971054,
          0.4357430040836334,
          0.11186566203832626,
          0.5834903120994568,
          -0.15142059326171875,
          -0.164335697889328,
          0.029919063672423363,
          0.17445354163646698,
          -0.03949744626879692,
          0.09640645235776901,
          0.03074970282614231,
          0.13240498304367065,
          0.11433377116918564,
          0.05428581312298775,
          0.09812619537115097,
          0.34715911746025085,
          -0.2022218108177185,
          -0.014109209179878235,
          0.04829790070652962,
          -0.6463790535926819,
          0.09966820478439331,
          -0.0999281108379364,
          -0.12637941539287567,
          -0.06645364314317703,
          -0.1630931943655014,
          0.10568036139011383,
          0.0831894800066948,
          0.24984948337078094,
          0.024114804342389107,
          0.08942365646362305,
          -0.06547962874174118,
          0.2645946443080902,
          0.3406558334827423,
          -0.15893477201461792,
          0.10690270364284515,
          -0.09841056168079376,
          0.032285213470458984,
          0.05789503827691078,
          -0.16741834580898285,
          -0.27332255244255066,
          0.3247207999229431,
          0.012297318316996098,
          0.10642822086811066,
          0.5504496097564697,
          0.026574943214654922,
          -0.22833706438541412,
          0.03252868726849556,
          -0.4545571804046631,
          0.024845562875270844,
          -0.28149276971817017,
          -0.16252301633358002,
          0.040960803627967834,
          -0.2830822765827179,
          0.3666735291481018,
          -0.22253187000751495,
          -0.5301355123519897,
          0.9841533899307251,
          0.1965034008026123,
          -0.03145961835980415,
          0.11782139539718628,
          0.054885346442461014,
          0.026058292016386986,
          -0.05065619572997093,
          0.03441837802529335,
          -1.246450424194336,
          -0.11446085572242737,
          0.10165487229824066,
          0.1838349848985672,
          -0.07913416624069214,
          -0.07421186566352844,
          0.24314935505390167,
          0.011246562004089355,
          -0.689665675163269,
          -0.12673607468605042,
          0.3800003230571747,
          0.011960931122303009,
          0.19956426322460175,
          0.3129705786705017,
          -0.00017669342923909426,
          0.10956136137247086,
          -0.10455011576414108,
          -0.43513354659080505,
          0.2690390944480896,
          0.04524366930127144,
          0.2080896943807602,
          -0.18392188847064972,
          0.011721840128302574,
          0.33765909075737,
          -0.0727461501955986,
          0.1254529505968094,
          0.0810312032699585,
          0.12199327349662781,
          0.08793807774782181,
          0.23016934096813202,
          0.003166714683175087,
          0.492904931306839,
          -0.42266297340393066,
          -0.15027926862239838,
          0.06727676838636398,
          0.5686832070350647,
          -0.11694735288619995,
          -0.5849533677101135,
          0.09768667072057724,
          0.26756182312965393,
          0.08092258125543594,
          0.2173646092414856,
          0.08011647313833237,
          0.3315165340900421,
          0.12523671984672546,
          0.11670271307229996,
          0.22388428449630737,
          -0.15999358892440796,
          0.04527025669813156,
          -0.12619006633758545,
          -0.42840585112571716,
          -0.006858584936708212,
          0.025489818304777145,
          -0.3766152262687683,
          0.06071178987622261,
          0.07504577934741974,
          -0.062320929020643234,
          0.058922044932842255,
          -0.10204582661390305,
          -0.15713638067245483,
          0.03243428096175194,
          0.08061966300010681,
          0.19756793975830078,
          -0.13616618514060974,
          -0.5243075489997864,
          -0.19279848039150238,
          -0.37497344613075256,
          -0.12297644466161728,
          0.05819100886583328,
          0.20197437703609467,
          0.020110834389925003,
          -0.06629235297441483,
          -0.27569150924682617,
          0.08745945245027542,
          -0.15923696756362915,
          -0.11922621726989746,
          0.047294244170188904,
          -0.1451580822467804,
          0.37831422686576843,
          0.10336575657129288,
          0.31546351313591003,
          -0.38676828145980835,
          -0.19991910457611084,
          0.08505836129188538,
          -0.02325139194726944,
          0.31096118688583374,
          -0.18646889925003052,
          -0.13925385475158691,
          0.13652972877025604,
          0.10306865721940994,
          0.1028614193201065,
          0.10109450668096542,
          -0.020432598888874054,
          -0.06286358833312988,
          0.05603814870119095,
          -0.19847902655601501,
          -0.9040573239326477,
          -0.08878374844789505,
          -0.08607149124145508,
          0.47327086329460144,
          -0.24216821789741516,
          -0.11742652952671051,
          -0.35154157876968384,
          -0.4094323217868805,
          -0.3650798499584198,
          0.00492599094286561,
          0.2512530982494354,
          0.1930481195449829,
          0.15427576005458832,
          -0.17632970213890076,
          0.15360189974308014,
          -0.1959519386291504,
          0.06668326258659363,
          0.32587704062461853,
          -0.10782746970653534,
          -0.4790075123310089,
          -0.2212299257516861,
          -0.20059986412525177,
          0.15953023731708527,
          -0.01163303293287754,
          -0.1713973730802536,
          -0.08322394639253616,
          0.1630466878414154,
          0.2112417221069336,
          -0.010123628191649914,
          -0.21274127066135406,
          0.08247270435094833,
          0.09859658032655716,
          0.18934306502342224,
          -0.21767763793468475,
          0.3427034318447113,
          -0.019650371745228767,
          0.18905889987945557,
          -0.17145761847496033,
          0.04714830592274666,
          0.18499578535556793,
          -0.11535482108592987,
          -0.03183409944176674,
          0.3077167868614197,
          0.05820941552519798,
          0.25426051020622253,
          0.23746053874492645,
          0.010888485237956047,
          0.16229234635829926,
          0.0475451834499836,
          -0.04591662436723709,
          0.1514166295528412,
          0.28218501806259155,
          -0.1158616840839386,
          -0.7159498333930969,
          0.16226057708263397,
          0.005924238823354244,
          0.40911415219306946,
          -0.21685615181922913,
          -0.143637016415596,
          0.014275416731834412,
          -0.1950789839029312,
          0.2945544719696045,
          0.012960146181285381,
          -0.04157261550426483,
          0.056566622108221054,
          -0.3889211416244507,
          -0.1139247938990593,
          0.2527479827404022,
          -0.02400342933833599,
          -0.20620976388454437,
          -0.5024924874305725,
          0.21721088886260986,
          -0.027366383001208305,
          0.1431666910648346,
          0.14717614650726318,
          -0.2018694132566452,
          -0.11641369014978409,
          0.23302023112773895,
          -0.17302878201007843,
          -0.1275353729724884,
          0.10672316700220108,
          -0.5104991793632507,
          0.5046168565750122,
          -0.07508820295333862,
          0.03551948815584183,
          -0.011648532934486866,
          0.06475988775491714,
          -0.15366511046886444,
          -0.1032191663980484,
          -0.17069362103939056,
          0.09067247807979584,
          0.009252626448869705,
          -0.27072665095329285,
          0.008274907246232033,
          0.14341557025909424,
          -0.26549091935157776,
          -0.3730836510658264,
          0.4164779782295227,
          -0.2517845630645752,
          0.10831595957279205,
          -0.05708092823624611,
          -0.3077809512615204,
          -0.4333239197731018,
          0.1988874226808548,
          0.14684630930423737,
          0.3201136589050293
         ],
         "y": [
          -0.17987623810768127,
          -0.1258275806903839,
          0.014223325066268444,
          0.04902995750308037,
          -0.27015337347984314,
          0.00619033258408308,
          -0.11154096573591232,
          0.16846856474876404,
          0.31020471453666687,
          0.19263312220573425,
          -0.5526866316795349,
          0.19030897319316864,
          -0.32326698303222656,
          0.025593193247914314,
          -0.7225279211997986,
          -0.2781859040260315,
          0.2910541594028473,
          0.07893513888120651,
          -0.28098344802856445,
          0.24166543781757355,
          0.015511238016188145,
          0.27008718252182007,
          -0.07712286710739136,
          -0.09158268570899963,
          -0.10316351801156998,
          0.1874106079339981,
          0.057268328964710236,
          0.7608751058578491,
          -0.17675207555294037,
          -0.0387023389339447,
          -0.6496413946151733,
          -0.1839628368616104,
          0.2631281912326813,
          0.0453297384083271,
          0.2546573281288147,
          0.15159107744693756,
          0.16937504708766937,
          -0.30553707480430603,
          -0.09391339868307114,
          -0.004805959295481443,
          0.2518605887889862,
          -0.1174774244427681,
          0.4644116461277008,
          -0.10452334582805634,
          -0.19483329355716705,
          -1.2752305269241333,
          -0.03497534617781639,
          -0.15092313289642334,
          0.02430352009832859,
          0.3855701982975006,
          0.04104411229491234,
          -0.1849358230829239,
          -0.050922468304634094,
          0.06588169187307358,
          0.20294202864170074,
          -0.12382853031158447,
          0.29543957114219666,
          -0.16285087168216705,
          0.30792519450187683,
          -0.19480572640895844,
          0.08000195771455765,
          0.0073138028383255005,
          0.15182530879974365,
          0.16821497678756714,
          0.21515752375125885,
          -0.272993803024292,
          -0.05341729149222374,
          0.06897635012865067,
          -0.057444602251052856,
          -0.49241942167282104,
          0.17989559471607208,
          0.4082326292991638,
          0.05550568550825119,
          -0.11114713549613953,
          0.19994902610778809,
          0.04435577988624573,
          0.028151609003543854,
          -0.043384402990341187,
          0.40603190660476685,
          -0.004907859489321709,
          -0.6627250909805298,
          0.06609351187944412,
          -0.15718966722488403,
          0.5529196858406067,
          0.042605578899383545,
          -0.3631135821342468,
          0.7111948728561401,
          -0.34678298234939575,
          -0.06698781996965408,
          0.574215829372406,
          0.10174372047185898,
          0.22717007994651794,
          -0.26756975054740906,
          -0.06306121498346329,
          0.19595704972743988,
          0.9435514807701111,
          -0.12086088210344315,
          -0.00849438738077879,
          0.1326989233493805,
          0.49527254700660706,
          0.4179140031337738,
          0.3045405447483063,
          0.15733616054058075,
          -0.16055776178836823,
          -0.004013195168226957,
          -0.06882753223180771,
          -0.23586171865463257,
          0.9457851648330688,
          0.2797434628009796,
          0.24835264682769775,
          0.4119672477245331,
          0.2766980826854706,
          -0.2175324708223343,
          -0.015916936099529266,
          0.001144105102866888,
          0.30717921257019043,
          0.45526453852653503,
          -0.05577118694782257,
          -0.1641373485326767,
          0.3050295412540436,
          0.11027153581380844,
          -0.16045109927654266,
          0.02574593387544155,
          0.0628671944141388,
          0.4404996633529663,
          0.007937164045870304,
          -0.1632937639951706,
          -0.06820087879896164,
          0.025834737345576286,
          0.29193657636642456,
          -0.11479033529758453,
          -0.3988732099533081,
          -0.14451293647289276,
          0.038256604224443436,
          0.30961546301841736,
          -0.22482319176197052,
          -0.05497448518872261,
          0.15371768176555634,
          -0.0696619525551796,
          -0.7488913536071777,
          0.20245566964149475,
          -0.3311375379562378,
          -0.2015785276889801,
          -0.024793215095996857,
          -0.06626363843679428,
          0.22898168861865997,
          -0.2303798794746399,
          0.5242543816566467,
          0.06525355577468872,
          -0.19081644713878632,
          -0.15862517058849335,
          0.16350437700748444,
          0.09698539972305298,
          -0.24071624875068665,
          -0.3718729019165039,
          0.04274003952741623,
          0.04601158946752548,
          -0.17836834490299225,
          0.055229030549526215,
          -0.16068091988563538,
          0.3201608955860138,
          -0.05475898087024689,
          -0.14019569754600525,
          -0.08943302929401398,
          -0.13384795188903809,
          0.2005622684955597,
          0.2745739221572876,
          -0.07321088016033173,
          0.08207757025957108,
          0.1015702337026596,
          -0.05499644577503204,
          0.12405635416507721,
          -0.35016098618507385,
          0.09845282137393951,
          -0.25643134117126465,
          0.2600935995578766,
          0.2508690357208252,
          0.15316280722618103,
          0.21310125291347504,
          0.31414660811424255,
          0.007850956171751022,
          0.2373792827129364,
          -0.2137797772884369,
          0.1830514669418335,
          0.1007227972149849,
          0.12083109468221664,
          0.09620526432991028,
          0.03398098424077034,
          0.11831069737672806,
          0.01248594094067812,
          -0.006106112152338028,
          0.1772317886352539,
          -0.27294641733169556,
          -1.1857898235321045,
          -0.18391624093055725,
          0.19237416982650757,
          -0.1785339117050171,
          0.22961552441120148,
          0.0790225937962532,
          -0.24167010188102722,
          -0.1846180260181427,
          0.06919147074222565,
          0.15748941898345947,
          0.058286383748054504,
          -0.08235525339841843,
          -0.3910985589027405,
          0.5510482788085938,
          0.06839212030172348,
          -0.32788193225860596,
          -1.2685062885284424,
          0.23302961885929108,
          0.07990357279777527,
          0.0988699346780777,
          0.19662219285964966,
          -0.31272372603416443,
          -0.10982866585254669,
          -0.2119259089231491,
          -0.43302950263023376,
          -0.15017950534820557,
          0.14635388553142548,
          -0.2455182671546936,
          -0.31151244044303894,
          -0.19575656950473785,
          -0.14349907636642456,
          0.0020639437716454268,
          0.03720567747950554,
          -0.16051863133907318,
          0.43943357467651367,
          -0.4738909602165222,
          -0.07025475800037384,
          0.10210704058408737,
          -0.37693077325820923,
          -0.05319560319185257,
          0.20986869931221008,
          0.19423235952854156,
          -0.47966721653938293,
          -0.07374923676252365,
          -0.6797215938568115,
          0.15064659714698792,
          0.14374154806137085,
          -0.05046430602669716,
          -0.19009384512901306,
          0.07468648999929428,
          -0.09180832654237747,
          0.030693192034959793,
          -0.11260992288589478,
          -0.17088976502418518,
          -0.08942347019910812,
          -0.05856165662407875,
          -0.3354242444038391,
          0.25646665692329407,
          0.08586589246988297,
          -0.036078304052352905,
          0.702105700969696,
          -0.13643047213554382,
          0.05457744374871254,
          0.1185355931520462,
          0.07172594964504242,
          0.1327921450138092,
          -0.1468290239572525,
          -0.07184982299804688,
          -0.19812247157096863,
          -0.03921396657824516,
          -0.0757845789194107,
          0.030625930055975914,
          -0.23804916441440582,
          -0.31844016909599304,
          0.08247006684541702,
          -0.06898323446512222,
          0.009028694592416286,
          0.012505614198744297,
          -0.09682470560073853,
          0.16500119864940643,
          0.33695119619369507,
          -0.40663543343544006,
          -0.061287764459848404,
          -0.0876210480928421,
          -0.599215567111969,
          -0.005260276608169079,
          0.2426285445690155,
          -0.01865951158106327,
          0.4400261342525482,
          -0.000006123591447249055,
          0.28304287791252136,
          0.26741665601730347,
          -0.0184028260409832,
          0.20855289697647095,
          -0.42158833146095276,
          0.2727468013763428,
          0.5248256921768188,
          -1.0628783702850342,
          -0.1706984043121338,
          0.07236344367265701,
          -0.20565387606620789,
          -0.04085597023367882,
          -0.09268061071634293,
          0.0028589272405952215,
          -0.08031057566404343,
          1.2819275856018066,
          0.1327015459537506,
          -0.07578010857105255,
          -0.1427425891160965,
          0.0595962218940258,
          0.09201646596193314,
          -0.18728607892990112,
          -0.02999209240078926,
          0.7203112244606018,
          0.19946986436843872,
          -0.39601588249206543,
          -0.07949929684400558,
          -0.13605885207653046,
          -0.30635640025138855,
          -0.007999328896403313,
          -0.1340167075395584,
          0.034113168716430664,
          0.4678386449813843,
          -0.29550933837890625,
          -0.028836827725172043,
          -0.2484576553106308,
          0.18349817395210266,
          -0.09545185416936874,
          -0.36920279264450073,
          0.10738839954137802,
          -0.16695024073123932,
          -0.10922219604253769,
          -0.12305288016796112,
          -0.04874378442764282,
          -0.2489873319864273,
          0.08511926978826523,
          -0.5326524376869202,
          0.4753703773021698,
          0.08468436449766159,
          -0.09851913899183273,
          -0.6134966015815735,
          0.13881249725818634,
          0.6617400646209717,
          -0.10209722071886063,
          -0.24131514132022858,
          -0.02616521157324314,
          -0.17751392722129822,
          -0.0510188564658165,
          -0.404485821723938,
          -0.12672236561775208,
          -0.1324353963136673,
          -0.22393903136253357,
          0.1538437455892563,
          -0.058635152876377106,
          0.20495665073394775,
          0.4197264611721039,
          0.04267280548810959,
          -0.032481253147125244,
          0.38005509972572327,
          -0.07740990072488785,
          -0.12692372500896454,
          0.05538536608219147,
          -0.13512389361858368,
          0.10417205840349197,
          0.12390565127134323,
          -0.08193960040807724,
          -0.06659834831953049,
          -0.1746213585138321,
          0.08516516536474228,
          0.5370180010795593,
          0.22285792231559753,
          0.40137675404548645,
          0.15608595311641693,
          -0.052769437432289124,
          -0.29602479934692383,
          -0.009708493016660213,
          0.04494389146566391,
          0.2800227701663971,
          -0.05714663490653038,
          0.1627928465604782,
          0.1292233020067215,
          -0.010975238867104053,
          0.10492382943630219,
          -0.3840087652206421,
          -0.08122719824314117,
          -0.3692629933357239,
          0.4281609356403351,
          0.26141637563705444,
          -0.04898586869239807,
          0.006611674092710018,
          -0.3762037754058838,
          0.14324027299880981,
          0.09505952149629593,
          -0.11823253333568573,
          -0.13484381139278412,
          -0.08752293139696121,
          -0.060382235795259476,
          -0.006462326273322105,
          0.13208654522895813,
          -0.060814019292593,
          0.20179642736911774,
          0.9450764656066895,
          0.16258107125759125,
          0.011218586936593056,
          -0.4985244870185852,
          0.26098737120628357,
          0.1587703973054886,
          0.4571281671524048,
          0.5208502411842346,
          0.44823840260505676,
          -0.013072291389107704,
          -0.3583371341228485,
          -0.1951935738325119,
          -0.12983010709285736,
          0.13855402171611786,
          -0.16026410460472107,
          0.1714867353439331,
          -0.1349310278892517,
          -0.3524504601955414,
          0.0719590038061142,
          0.41753950715065,
          0.25399941205978394,
          0.1409553438425064,
          -0.14692674577236176,
          -0.014329257421195507,
          0.19097495079040527,
          0.10327095538377762,
          -0.15428806841373444,
          -0.19360247254371643,
          -0.006273058243095875,
          0.1977010816335678,
          -0.15015064179897308,
          -0.16804012656211853,
          -0.20513097941875458,
          0.18234854936599731,
          -0.30220693349838257,
          -0.019489236176013947,
          -0.24625164270401,
          0.18252171576023102,
          -0.015595950186252594,
          -0.2096432000398636,
          0.112315833568573,
          -0.00764973321929574,
          -0.38078242540359497,
          -0.05337753891944885,
          -0.28530704975128174,
          -0.21872618794441223,
          -0.04245854914188385,
          -0.1962897628545761,
          -0.0275650043040514,
          0.04500186815857887,
          -0.16390863060951233,
          -0.2548690736293793,
          0.10794215649366379,
          0.8346961140632629,
          -0.12186823040246964,
          -0.006219689268618822,
          -0.4006655216217041,
          0.19114509224891663,
          0.209357351064682,
          0.021296102553606033,
          0.22797448933124542,
          -0.28690922260284424,
          -0.007846043445169926,
          0.10077915340662003,
          0.021447425708174706,
          0.4380548894405365,
          0.1004319041967392,
          -0.30440565943717957,
          0.01985963247716427,
          0.23356817662715912,
          0.4954816401004791,
          -0.20984889566898346,
          -0.03603292629122734,
          -0.19780007004737854,
          -0.05728583037853241,
          0.17062444984912872,
          0.04018450528383255,
          -0.2226790338754654,
          0.16389696300029755,
          0.14697428047657013,
          -0.07797054201364517,
          0.4690113067626953,
          -0.5535074472427368,
          0.04851444065570831,
          -0.03556456044316292,
          -0.06047834828495979,
          -0.05722076818346977,
          0.22734791040420532,
          0.08344840258359909,
          0.21827583014965057,
          -0.1462981253862381,
          0.03510845825076103,
          0.3317961096763611,
          0.02912406623363495,
          -0.14039179682731628,
          0.3524008095264435,
          0.46541669964790344,
          -0.4481763541698456,
          0.24680621922016144,
          -0.08800794929265976,
          0.05622487515211105,
          0.32420697808265686,
          0.5138704776763916,
          -0.12784698605537415,
          -0.09812486171722412,
          -0.3354927599430084
         ]
        }
       ],
       "layout": {
        "height": 800,
        "hovermode": "closest",
        "template": {
         "data": {
          "bar": [
           {
            "error_x": {
             "color": "#2a3f5f"
            },
            "error_y": {
             "color": "#2a3f5f"
            },
            "marker": {
             "line": {
              "color": "#E5ECF6",
              "width": 0.5
             },
             "pattern": {
              "fillmode": "overlay",
              "size": 10,
              "solidity": 0.2
             }
            },
            "type": "bar"
           }
          ],
          "barpolar": [
           {
            "marker": {
             "line": {
              "color": "#E5ECF6",
              "width": 0.5
             },
             "pattern": {
              "fillmode": "overlay",
              "size": 10,
              "solidity": 0.2
             }
            },
            "type": "barpolar"
           }
          ],
          "carpet": [
           {
            "aaxis": {
             "endlinecolor": "#2a3f5f",
             "gridcolor": "white",
             "linecolor": "white",
             "minorgridcolor": "white",
             "startlinecolor": "#2a3f5f"
            },
            "baxis": {
             "endlinecolor": "#2a3f5f",
             "gridcolor": "white",
             "linecolor": "white",
             "minorgridcolor": "white",
             "startlinecolor": "#2a3f5f"
            },
            "type": "carpet"
           }
          ],
          "choropleth": [
           {
            "colorbar": {
             "outlinewidth": 0,
             "ticks": ""
            },
            "type": "choropleth"
           }
          ],
          "contour": [
           {
            "colorbar": {
             "outlinewidth": 0,
             "ticks": ""
            },
            "colorscale": [
             [
              0,
              "#0d0887"
             ],
             [
              0.1111111111111111,
              "#46039f"
             ],
             [
              0.2222222222222222,
              "#7201a8"
             ],
             [
              0.3333333333333333,
              "#9c179e"
             ],
             [
              0.4444444444444444,
              "#bd3786"
             ],
             [
              0.5555555555555556,
              "#d8576b"
             ],
             [
              0.6666666666666666,
              "#ed7953"
             ],
             [
              0.7777777777777778,
              "#fb9f3a"
             ],
             [
              0.8888888888888888,
              "#fdca26"
             ],
             [
              1,
              "#f0f921"
             ]
            ],
            "type": "contour"
           }
          ],
          "contourcarpet": [
           {
            "colorbar": {
             "outlinewidth": 0,
             "ticks": ""
            },
            "type": "contourcarpet"
           }
          ],
          "heatmap": [
           {
            "colorbar": {
             "outlinewidth": 0,
             "ticks": ""
            },
            "colorscale": [
             [
              0,
              "#0d0887"
             ],
             [
              0.1111111111111111,
              "#46039f"
             ],
             [
              0.2222222222222222,
              "#7201a8"
             ],
             [
              0.3333333333333333,
              "#9c179e"
             ],
             [
              0.4444444444444444,
              "#bd3786"
             ],
             [
              0.5555555555555556,
              "#d8576b"
             ],
             [
              0.6666666666666666,
              "#ed7953"
             ],
             [
              0.7777777777777778,
              "#fb9f3a"
             ],
             [
              0.8888888888888888,
              "#fdca26"
             ],
             [
              1,
              "#f0f921"
             ]
            ],
            "type": "heatmap"
           }
          ],
          "heatmapgl": [
           {
            "colorbar": {
             "outlinewidth": 0,
             "ticks": ""
            },
            "colorscale": [
             [
              0,
              "#0d0887"
             ],
             [
              0.1111111111111111,
              "#46039f"
             ],
             [
              0.2222222222222222,
              "#7201a8"
             ],
             [
              0.3333333333333333,
              "#9c179e"
             ],
             [
              0.4444444444444444,
              "#bd3786"
             ],
             [
              0.5555555555555556,
              "#d8576b"
             ],
             [
              0.6666666666666666,
              "#ed7953"
             ],
             [
              0.7777777777777778,
              "#fb9f3a"
             ],
             [
              0.8888888888888888,
              "#fdca26"
             ],
             [
              1,
              "#f0f921"
             ]
            ],
            "type": "heatmapgl"
           }
          ],
          "histogram": [
           {
            "marker": {
             "pattern": {
              "fillmode": "overlay",
              "size": 10,
              "solidity": 0.2
             }
            },
            "type": "histogram"
           }
          ],
          "histogram2d": [
           {
            "colorbar": {
             "outlinewidth": 0,
             "ticks": ""
            },
            "colorscale": [
             [
              0,
              "#0d0887"
             ],
             [
              0.1111111111111111,
              "#46039f"
             ],
             [
              0.2222222222222222,
              "#7201a8"
             ],
             [
              0.3333333333333333,
              "#9c179e"
             ],
             [
              0.4444444444444444,
              "#bd3786"
             ],
             [
              0.5555555555555556,
              "#d8576b"
             ],
             [
              0.6666666666666666,
              "#ed7953"
             ],
             [
              0.7777777777777778,
              "#fb9f3a"
             ],
             [
              0.8888888888888888,
              "#fdca26"
             ],
             [
              1,
              "#f0f921"
             ]
            ],
            "type": "histogram2d"
           }
          ],
          "histogram2dcontour": [
           {
            "colorbar": {
             "outlinewidth": 0,
             "ticks": ""
            },
            "colorscale": [
             [
              0,
              "#0d0887"
             ],
             [
              0.1111111111111111,
              "#46039f"
             ],
             [
              0.2222222222222222,
              "#7201a8"
             ],
             [
              0.3333333333333333,
              "#9c179e"
             ],
             [
              0.4444444444444444,
              "#bd3786"
             ],
             [
              0.5555555555555556,
              "#d8576b"
             ],
             [
              0.6666666666666666,
              "#ed7953"
             ],
             [
              0.7777777777777778,
              "#fb9f3a"
             ],
             [
              0.8888888888888888,
              "#fdca26"
             ],
             [
              1,
              "#f0f921"
             ]
            ],
            "type": "histogram2dcontour"
           }
          ],
          "mesh3d": [
           {
            "colorbar": {
             "outlinewidth": 0,
             "ticks": ""
            },
            "type": "mesh3d"
           }
          ],
          "parcoords": [
           {
            "line": {
             "colorbar": {
              "outlinewidth": 0,
              "ticks": ""
             }
            },
            "type": "parcoords"
           }
          ],
          "pie": [
           {
            "automargin": true,
            "type": "pie"
           }
          ],
          "scatter": [
           {
            "fillpattern": {
             "fillmode": "overlay",
             "size": 10,
             "solidity": 0.2
            },
            "type": "scatter"
           }
          ],
          "scatter3d": [
           {
            "line": {
             "colorbar": {
              "outlinewidth": 0,
              "ticks": ""
             }
            },
            "marker": {
             "colorbar": {
              "outlinewidth": 0,
              "ticks": ""
             }
            },
            "type": "scatter3d"
           }
          ],
          "scattercarpet": [
           {
            "marker": {
             "colorbar": {
              "outlinewidth": 0,
              "ticks": ""
             }
            },
            "type": "scattercarpet"
           }
          ],
          "scattergeo": [
           {
            "marker": {
             "colorbar": {
              "outlinewidth": 0,
              "ticks": ""
             }
            },
            "type": "scattergeo"
           }
          ],
          "scattergl": [
           {
            "marker": {
             "colorbar": {
              "outlinewidth": 0,
              "ticks": ""
             }
            },
            "type": "scattergl"
           }
          ],
          "scattermapbox": [
           {
            "marker": {
             "colorbar": {
              "outlinewidth": 0,
              "ticks": ""
             }
            },
            "type": "scattermapbox"
           }
          ],
          "scatterpolar": [
           {
            "marker": {
             "colorbar": {
              "outlinewidth": 0,
              "ticks": ""
             }
            },
            "type": "scatterpolar"
           }
          ],
          "scatterpolargl": [
           {
            "marker": {
             "colorbar": {
              "outlinewidth": 0,
              "ticks": ""
             }
            },
            "type": "scatterpolargl"
           }
          ],
          "scatterternary": [
           {
            "marker": {
             "colorbar": {
              "outlinewidth": 0,
              "ticks": ""
             }
            },
            "type": "scatterternary"
           }
          ],
          "surface": [
           {
            "colorbar": {
             "outlinewidth": 0,
             "ticks": ""
            },
            "colorscale": [
             [
              0,
              "#0d0887"
             ],
             [
              0.1111111111111111,
              "#46039f"
             ],
             [
              0.2222222222222222,
              "#7201a8"
             ],
             [
              0.3333333333333333,
              "#9c179e"
             ],
             [
              0.4444444444444444,
              "#bd3786"
             ],
             [
              0.5555555555555556,
              "#d8576b"
             ],
             [
              0.6666666666666666,
              "#ed7953"
             ],
             [
              0.7777777777777778,
              "#fb9f3a"
             ],
             [
              0.8888888888888888,
              "#fdca26"
             ],
             [
              1,
              "#f0f921"
             ]
            ],
            "type": "surface"
           }
          ],
          "table": [
           {
            "cells": {
             "fill": {
              "color": "#EBF0F8"
             },
             "line": {
              "color": "white"
             }
            },
            "header": {
             "fill": {
              "color": "#C8D4E3"
             },
             "line": {
              "color": "white"
             }
            },
            "type": "table"
           }
          ]
         },
         "layout": {
          "annotationdefaults": {
           "arrowcolor": "#2a3f5f",
           "arrowhead": 0,
           "arrowwidth": 1
          },
          "autotypenumbers": "strict",
          "coloraxis": {
           "colorbar": {
            "outlinewidth": 0,
            "ticks": ""
           }
          },
          "colorscale": {
           "diverging": [
            [
             0,
             "#8e0152"
            ],
            [
             0.1,
             "#c51b7d"
            ],
            [
             0.2,
             "#de77ae"
            ],
            [
             0.3,
             "#f1b6da"
            ],
            [
             0.4,
             "#fde0ef"
            ],
            [
             0.5,
             "#f7f7f7"
            ],
            [
             0.6,
             "#e6f5d0"
            ],
            [
             0.7,
             "#b8e186"
            ],
            [
             0.8,
             "#7fbc41"
            ],
            [
             0.9,
             "#4d9221"
            ],
            [
             1,
             "#276419"
            ]
           ],
           "sequential": [
            [
             0,
             "#0d0887"
            ],
            [
             0.1111111111111111,
             "#46039f"
            ],
            [
             0.2222222222222222,
             "#7201a8"
            ],
            [
             0.3333333333333333,
             "#9c179e"
            ],
            [
             0.4444444444444444,
             "#bd3786"
            ],
            [
             0.5555555555555556,
             "#d8576b"
            ],
            [
             0.6666666666666666,
             "#ed7953"
            ],
            [
             0.7777777777777778,
             "#fb9f3a"
            ],
            [
             0.8888888888888888,
             "#fdca26"
            ],
            [
             1,
             "#f0f921"
            ]
           ],
           "sequentialminus": [
            [
             0,
             "#0d0887"
            ],
            [
             0.1111111111111111,
             "#46039f"
            ],
            [
             0.2222222222222222,
             "#7201a8"
            ],
            [
             0.3333333333333333,
             "#9c179e"
            ],
            [
             0.4444444444444444,
             "#bd3786"
            ],
            [
             0.5555555555555556,
             "#d8576b"
            ],
            [
             0.6666666666666666,
             "#ed7953"
            ],
            [
             0.7777777777777778,
             "#fb9f3a"
            ],
            [
             0.8888888888888888,
             "#fdca26"
            ],
            [
             1,
             "#f0f921"
            ]
           ]
          },
          "colorway": [
           "#636efa",
           "#EF553B",
           "#00cc96",
           "#ab63fa",
           "#FFA15A",
           "#19d3f3",
           "#FF6692",
           "#B6E880",
           "#FF97FF",
           "#FECB52"
          ],
          "font": {
           "color": "#2a3f5f"
          },
          "geo": {
           "bgcolor": "white",
           "lakecolor": "white",
           "landcolor": "#E5ECF6",
           "showlakes": true,
           "showland": true,
           "subunitcolor": "white"
          },
          "hoverlabel": {
           "align": "left"
          },
          "hovermode": "closest",
          "mapbox": {
           "style": "light"
          },
          "paper_bgcolor": "white",
          "plot_bgcolor": "#E5ECF6",
          "polar": {
           "angularaxis": {
            "gridcolor": "white",
            "linecolor": "white",
            "ticks": ""
           },
           "bgcolor": "#E5ECF6",
           "radialaxis": {
            "gridcolor": "white",
            "linecolor": "white",
            "ticks": ""
           }
          },
          "scene": {
           "xaxis": {
            "backgroundcolor": "#E5ECF6",
            "gridcolor": "white",
            "gridwidth": 2,
            "linecolor": "white",
            "showbackground": true,
            "ticks": "",
            "zerolinecolor": "white"
           },
           "yaxis": {
            "backgroundcolor": "#E5ECF6",
            "gridcolor": "white",
            "gridwidth": 2,
            "linecolor": "white",
            "showbackground": true,
            "ticks": "",
            "zerolinecolor": "white"
           },
           "zaxis": {
            "backgroundcolor": "#E5ECF6",
            "gridcolor": "white",
            "gridwidth": 2,
            "linecolor": "white",
            "showbackground": true,
            "ticks": "",
            "zerolinecolor": "white"
           }
          },
          "shapedefaults": {
           "line": {
            "color": "#2a3f5f"
           }
          },
          "ternary": {
           "aaxis": {
            "gridcolor": "white",
            "linecolor": "white",
            "ticks": ""
           },
           "baxis": {
            "gridcolor": "white",
            "linecolor": "white",
            "ticks": ""
           },
           "bgcolor": "#E5ECF6",
           "caxis": {
            "gridcolor": "white",
            "linecolor": "white",
            "ticks": ""
           }
          },
          "title": {
           "x": 0.05
          },
          "xaxis": {
           "automargin": true,
           "gridcolor": "white",
           "linecolor": "white",
           "ticks": "",
           "title": {
            "standoff": 15
           },
           "zerolinecolor": "white",
           "zerolinewidth": 2
          },
          "yaxis": {
           "automargin": true,
           "gridcolor": "white",
           "linecolor": "white",
           "ticks": "",
           "title": {
            "standoff": 15
           },
           "zerolinecolor": "white",
           "zerolinewidth": 2
          }
         }
        },
        "title": {
         "text": "Word Embeddings"
        },
        "width": 800
       }
      }
     },
     "metadata": {},
     "output_type": "display_data"
    }
   ],
   "source": [
    "def plot_2d_embeddings(embeddings, id_start=1, count=100):\n",
    "  # Get 1st and 2nd embedding dims for the desired tokens.\n",
    "  x1 = embeddings[id_start:id_start+count, 0]\n",
    "  x2 = embeddings[id_start:id_start+count, 1]\n",
    "  \n",
    "  # Get the corresponding words from the reverse index (for labeling).\n",
    "  tokens = [reverse_index[i] for i in range(id_start, id_start+count)]\n",
    "  \n",
    "  # Construct the hover text to show the text, x1 value, and x2 value.\n",
    "  hover_text = [f'Text: {token}<br>x1: {x1_val:.2f}<br>x2: {x2_val:.2f}' for token, x1_val, x2_val in zip(tokens, x1, x2)]\n",
    "\n",
    "  # Plot with the plotly library.\n",
    "  data = plotly.Scatter(x=x1, y=x2, text=hover_text,\n",
    "                        mode='markers', textposition='bottom left',\n",
    "                        hoverinfo='text')\n",
    "  \n",
    "  fig = plotly.Figure(data=[data],\n",
    "                      layout=plotly.Layout(title=\"Word Embeddings\",\n",
    "                                           hovermode='closest',\n",
    "                                           width=800, height=800))\n",
    "  fig.show()\n",
    "\n",
    "# Very frequent tokens tend to be more syntactic than semantic, so let's plot\n",
    "# some rarer words.    \n",
    "plot_2d_embeddings(embeddings, id_start=500, count=500)"
   ]
  },
  {
   "cell_type": "code",
   "execution_count": 34,
   "metadata": {},
   "outputs": [],
   "source": [
    "# Create a dataframe that contains tokens and their corresponding embeddings\n",
    "def create_embedding_df(embeddings, id_start=1, count=100):\n",
    "    # Get 1st and 2nd embedding dims for the desired tokens.\n",
    "    x1 = embeddings[id_start:id_start+count, 0]\n",
    "    x2 = embeddings[id_start:id_start+count, 1]\n",
    "    \n",
    "    # Get the corresponding words from the reverse index (for labeling).\n",
    "    tokens = [reverse_index[i] for i in range(id_start, id_start+count)]\n",
    "    \n",
    "    # Construct the dataframe.\n",
    "    df = pd.DataFrame({'token': tokens, 'x1': x1, 'x2': x2})\n",
    "    \n",
    "    return df\n",
    "\n",
    "df_embeddings = create_embedding_df(embeddings, id_start=500, count=500)\n",
    "\n",
    "# Export to csv\n",
    "df_embeddings.to_csv('df_embeddings.csv', index=False)\n"
   ]
  },
  {
   "cell_type": "markdown",
   "metadata": {
    "id": "Z3Mm8MjRcZ20"
   },
   "source": [
    "---\n",
    "### Exercise 4: Interpreting Embeddings (20 points)\n",
    "Notice that the 2-D embeddings fall in a narrow diagonal band.\n",
    "\n",
    "1. Have the learned embeddings separated positive and negative words? What is the most negative word? Does this make sense?\n",
    "2. Give 2 examples of words that seem to have surprising embedding values and try to explain their positions. For example, what's going on with the tokens '7', '8', and '9'? What are two other surprising results?\n",
    "3. The embedding for 'crazy' is very close to (0,0). Explain what this means in terms of the model's output.\n",
    "4. Can you explain what you think the 2 learned embedding dimensions mean, if anything?"
   ]
  },
  {
   "cell_type": "markdown",
   "metadata": {
    "id": "x_qAAvvo2y3t"
   },
   "source": [
    "*Written answers:*\n",
    "\n",
    "1. The embeddings appear to have separated the positive and negative words. Words with higher x1 and lower x2 values (e.g., towards the top left quadrant of the plot) appear to be be negative words, whereas words with lower x1 and lower x2 values (e.g., towards the bottom right quadrant of the plot) appear to be positive words. The most negative word is 'avoid,' which makes sense within the context of drug reviews as it most likely represents a strong recommendation against using a drug.\n",
    "2. Interestingly, the embedding for 'Save' leans towards the negative side (x1: -0.93, x2: 0.95), despite not inherently sounding negative. Surprisingly, it is located in close proximity to other negative words like 'avoid' and 'crap'. Similarly, 'Chance' (x1: 0.64, x2: -0.66) is considered a positive word in the embedding and is clustered near positive words such as 'brilliant' and 'enjoyable'. At first glance, 'Chance' might appear as a neutral word, but its placement suggests a positive sentiment. These unexpected positions can be attributed to the frequent co-occurrence of 'Save' with other negative words and 'Chance' with positive words. Consequently, the embedding model learns to associate 'Save' with negative sentiment and 'Chance' with positive sentiment based on their consistent usage alongside other words of corresponding sentiment. The same would hold true for tokens '7', '8' and '9' - their position indicates that these tokens frequently co-occur with other words associated with positive sentiment.\n",
    "3. The embedding for 'crazy' is positioned near the origin (0,0) in the embedding space, indicating a neutral sentiment association. This implies that the sentiment associated with 'crazy' is neither strongly negative nor positive in the model's output. The neutral embedding suggests that the inclusion of 'crazy' in a review does not reliably predict the review's sentiment.\n",
    "4. The individual interpretation of each embedding dimension is difficult to determine conclusively, but we can make observations about their aggregate representation. The 2-D embeddings show a narrow diagonal band, suggesting that both dimensions capture sentiment polarity (positivity or negativity). Additionally, the proximity of words in terms of their embedding distances reflects similartiy between words. For example, \"actor\" and \"actress\" as well as \"kill\" and \"killed\" have similar values for both dimensions. In summary, while the exact meaning of each dimension remains unclear, it appears that they represent sentiment polarity and semantic similarities between words."
   ]
  },
  {
   "cell_type": "markdown",
   "metadata": {},
   "source": [
    "---"
   ]
  },
  {
   "cell_type": "markdown",
   "metadata": {
    "id": "IXCitmUvxfwb"
   },
   "source": [
    "## Scaling Up!\n",
    "Remember how we limited our input sequences to 20 tokens and 1000 vocabulary entries? Let's see how well we can do using more data and bigger models (more parameters)."
   ]
  },
  {
   "cell_type": "markdown",
   "metadata": {
    "id": "OKZDEGS7xzr6"
   },
   "source": [
    "### Exercise 5: Improve Results (20 points)\n",
    "Using pieces of code from above, set up and train a model that improves the validation accuracy to at least 80%. You should include the following elements:\n",
    "\n",
    "1. Truncate and pad input to the desired length.\n",
    "2. Limit vocabulary to the desired size.\n",
    "3. Set up a model using embeddings.\n",
    "4. Add an additional layer or layers (after the embeddings layer and before the output layer).\n",
    "5. Evaluate on the test data. Remember to apply the same pre-processing to the test data. You can use model.evaluate()."
   ]
  },
  {
   "cell_type": "code",
   "execution_count": 21,
   "metadata": {
    "id": "ekbJ4sIq2hID"
   },
   "outputs": [],
   "source": [
    "# YOUR CODE HERE"
   ]
  },
  {
   "cell_type": "markdown",
   "metadata": {
    "id": "7EEJI9yC2jOJ"
   },
   "source": [
    "---"
   ]
  }
 ],
 "metadata": {
  "colab": {
   "authorship_tag": "ABX9TyMbG/uKJC3itEUb58OjZyV3",
   "name": "09 Embeddings for Text.ipynb",
   "provenance": []
  },
  "kernelspec": {
   "display_name": "Python 3",
   "language": "python",
   "name": "python3"
  },
  "language_info": {
   "codemirror_mode": {
    "name": "ipython",
    "version": 3
   },
   "file_extension": ".py",
   "mimetype": "text/x-python",
   "name": "python",
   "nbconvert_exporter": "python",
   "pygments_lexer": "ipython3",
   "version": "3.10.11"
  }
 },
 "nbformat": 4,
 "nbformat_minor": 4
}
